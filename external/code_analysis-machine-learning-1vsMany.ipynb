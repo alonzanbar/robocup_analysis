{
 "cells": [
  {
   "cell_type": "code",
   "execution_count": 138,
   "metadata": {},
   "outputs": [],
   "source": [
    "!source activate  /Users/azanbar/miniconda2/envs/se-in-robocup"
   ]
  },
  {
   "cell_type": "code",
   "execution_count": 1,
   "metadata": {},
   "outputs": [],
   "source": [
    "import matplotlib\n",
    "import  pandas as pd\n",
    "import os\n",
    "import matplotlib.pyplot as plt\n",
    "import numpy as np\n",
    "import seaborn as sns\n",
    "import re\n",
    "from sklearn.svm import LinearSVC\n",
    "from sklearn.linear_model import LogisticRegression \n",
    "%matplotlib inline\n",
    "from sklearn.feature_selection import SelectKBest\n",
    "from sklearn.feature_selection import RFE\n",
    "from sklearn.linear_model import LogisticRegression\n",
    "from sklearn.ensemble import RandomForestClassifier\n",
    "from sklearn.model_selection import train_test_split\n",
    "from sklearn.svm import SVC\n",
    "from imblearn.datasets import make_imbalance\n",
    "from imblearn.over_sampling import RandomOverSampler\n",
    "from imblearn.pipeline import make_pipeline\n",
    "from imblearn.metrics import classification_report_imbalanced\n",
    "from sklearn.metrics import roc_curve, auc , f1_score"
   ]
  },
  {
   "cell_type": "code",
   "execution_count": null,
   "metadata": {},
   "outputs": [],
   "source": [
    "df_reduced = pd.read_csv('checkpoints/ml-data.csv',index_col=0)"
   ]
  },
  {
   "cell_type": "code",
   "execution_count": 15,
   "metadata": {},
   "outputs": [
    {
     "data": {
      "text/plain": [
       "['analizo_acc_mean',\n",
       " 'analizo_accm_mean',\n",
       " 'analizo_amloc_mean',\n",
       " 'analizo_anpm_mean',\n",
       " 'analizo_cbo_mean',\n",
       " 'analizo_dit_mean',\n",
       " 'analizo_lcom4_mean',\n",
       " 'analizo_mmloc_mean',\n",
       " 'analizo_noa_mean',\n",
       " 'analizo_noc_mean',\n",
       " 'analizo_nom_mean',\n",
       " 'analizo_npa_mean',\n",
       " 'analizo_npm_mean',\n",
       " 'analizo_rfc_mean',\n",
       " 'analizo_sc_mean',\n",
       " 'folder',\n",
       " 'category',\n",
       " 'agent_type',\n",
       " 'type']"
      ]
     },
     "execution_count": 15,
     "metadata": {},
     "output_type": "execute_result"
    }
   ],
   "source": [
    "from tranin"
   ]
  },
  {
   "cell_type": "markdown",
   "metadata": {},
   "source": [
    "# Accurercy : "
   ]
  },
  {
   "cell_type": "code",
   "execution_count": 11,
   "metadata": {},
   "outputs": [],
   "source": [
    "from xgboost import XGBClassifier\n",
    "from sklearn import linear_model\n",
    "models = {'SGD':linear_model.SGDClassifier(loss='hinge',max_iter=10000),'Logistic Regression':LogisticRegression(),'Boosted Trees':XGBClassifier()}"
   ]
  },
  {
   "cell_type": "code",
   "execution_count": 12,
   "metadata": {},
   "outputs": [],
   "source": [
    "results = {}"
   ]
  },
  {
   "cell_type": "code",
   "execution_count": 13,
   "metadata": {},
   "outputs": [
    {
     "name": "stdout",
     "output_type": "stream",
     "text": [
      "cannot fit for Autodrivers\n",
      "finished training : Boosted Trees\n",
      "cannot fit for Autodrivers\n",
      "finished training : SGD\n",
      "cannot fit for Autodrivers\n",
      "finished training : Logistic Regression\n"
     ]
    }
   ],
   "source": [
    "from sklearn import ensemble\n",
    "categories = df_reduced['category'].unique()\n",
    "results = []\n",
    "for k,clf in models.iteritems():\n",
    "    results += [classify_one_vs_many(df_reduced,k,clf,cat) for cat in categories]\n",
    "    print \"finished training : \" +k \n",
    "    "
   ]
  },
  {
   "cell_type": "code",
   "execution_count": 14,
   "metadata": {},
   "outputs": [],
   "source": [
    "results = [res for res in results if res is not None]\n",
    "df = pd.DataFrame(results)\n",
    "X = np.array(df_reduced.columns)\n",
    "\n",
    "df['feature rank'] = df.apply(lambda row:[x for _,x in sorted(zip(row.feature_importance.ranking_,X))],axis=1)\n",
    "import pickle\n",
    "pickle.dump([df_reduced,df],open('checkpoints/12many.model','w'))"
   ]
  },
  {
   "cell_type": "code",
   "execution_count": 16,
   "metadata": {},
   "outputs": [
    {
     "data": {
      "text/plain": [
       "array(['analizo_acc_mean', 'analizo_accm_mean', 'analizo_amloc_mean',\n",
       "       'analizo_anpm_mean', 'analizo_cbo_mean', 'analizo_dit_mean',\n",
       "       'analizo_lcom4_mean', 'analizo_mmloc_mean', 'analizo_noa_mean',\n",
       "       'analizo_noc_mean', 'analizo_nom_mean', 'analizo_npa_mean',\n",
       "       'analizo_npm_mean', 'analizo_rfc_mean', 'analizo_sc_mean',\n",
       "       'folder', 'category', 'agent_type', 'type'], dtype=object)"
      ]
     },
     "execution_count": 16,
     "metadata": {},
     "output_type": "execute_result"
    }
   ],
   "source": [
    "\n",
    "X"
   ]
  },
  {
   "cell_type": "code",
   "execution_count": null,
   "metadata": {},
   "outputs": [],
   "source": []
  }
 ],
 "metadata": {
  "kernelspec": {
   "display_name": "Python 2",
   "language": "python",
   "name": "python2"
  },
  "language_info": {
   "codemirror_mode": {
    "name": "ipython",
    "version": 2
   },
   "file_extension": ".py",
   "mimetype": "text/x-python",
   "name": "python",
   "nbconvert_exporter": "python",
   "pygments_lexer": "ipython2",
   "version": "2.7.15"
  }
 },
 "nbformat": 4,
 "nbformat_minor": 1
}
