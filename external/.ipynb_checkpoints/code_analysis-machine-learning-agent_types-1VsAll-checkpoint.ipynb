{
 "cells": [
  {
   "cell_type": "code",
   "execution_count": 3,
   "metadata": {},
   "outputs": [],
   "source": [
    "!source activate  /Users/azanbar/miniconda2/envs/se-in-robocup"
   ]
  },
  {
   "cell_type": "code",
   "execution_count": 1,
   "metadata": {},
   "outputs": [],
   "source": [
    "import matplotlib\n",
    "import  pandas as pd\n",
    "import os\n",
    "import matplotlib.pyplot as plt\n",
    "import numpy as np\n",
    "import seaborn as sns\n",
    "import re\n",
    "from sklearn.svm import LinearSVC\n",
    "from sklearn.linear_model import LogisticRegression \n",
    "%matplotlib inline\n",
    "from sklearn.feature_selection import SelectKBest\n",
    "from sklearn.feature_selection import RFE\n",
    "from sklearn.linear_model import LogisticRegression\n",
    "from sklearn.ensemble import RandomForestClassifier\n",
    "from sklearn.model_selection import train_test_split\n",
    "from sklearn.svm import SVC\n",
    "from imblearn.datasets import make_imbalance\n",
    "from imblearn.over_sampling import RandomOverSampler\n",
    "from imblearn.pipeline import make_pipeline\n",
    "from imblearn.metrics import classification_report_imbalanced\n",
    "from sklearn.metrics import roc_curve, auc , f1_score"
   ]
  },
  {
   "cell_type": "code",
   "execution_count": 2,
   "metadata": {},
   "outputs": [
    {
     "ename": "IOError",
     "evalue": "File checkpoints/ml-data.csv does not exist",
     "output_type": "error",
     "traceback": [
      "\u001b[0;31m---------------------------------------------------------------------------\u001b[0m",
      "\u001b[0;31mIOError\u001b[0m                                   Traceback (most recent call last)",
      "\u001b[0;32m<ipython-input-2-7725bd6efede>\u001b[0m in \u001b[0;36m<module>\u001b[0;34m()\u001b[0m\n\u001b[0;32m----> 1\u001b[0;31m \u001b[0mdf_reduced\u001b[0m \u001b[0;34m=\u001b[0m \u001b[0mpd\u001b[0m\u001b[0;34m.\u001b[0m\u001b[0mread_csv\u001b[0m\u001b[0;34m(\u001b[0m\u001b[0;34m'checkpoints/ml-data.csv'\u001b[0m\u001b[0;34m,\u001b[0m\u001b[0mindex_col\u001b[0m\u001b[0;34m=\u001b[0m\u001b[0;36m0\u001b[0m\u001b[0;34m)\u001b[0m\u001b[0;34m\u001b[0m\u001b[0m\n\u001b[0m",
      "\u001b[0;32m/Users/azanbar/anaconda2/lib/python2.7/site-packages/pandas/io/parsers.pyc\u001b[0m in \u001b[0;36mparser_f\u001b[0;34m(filepath_or_buffer, sep, delimiter, header, names, index_col, usecols, squeeze, prefix, mangle_dupe_cols, dtype, engine, converters, true_values, false_values, skipinitialspace, skiprows, nrows, na_values, keep_default_na, na_filter, verbose, skip_blank_lines, parse_dates, infer_datetime_format, keep_date_col, date_parser, dayfirst, iterator, chunksize, compression, thousands, decimal, lineterminator, quotechar, quoting, escapechar, comment, encoding, dialect, tupleize_cols, error_bad_lines, warn_bad_lines, skipfooter, doublequote, delim_whitespace, low_memory, memory_map, float_precision)\u001b[0m\n\u001b[1;32m    676\u001b[0m                     skip_blank_lines=skip_blank_lines)\n\u001b[1;32m    677\u001b[0m \u001b[0;34m\u001b[0m\u001b[0m\n\u001b[0;32m--> 678\u001b[0;31m         \u001b[0;32mreturn\u001b[0m \u001b[0m_read\u001b[0m\u001b[0;34m(\u001b[0m\u001b[0mfilepath_or_buffer\u001b[0m\u001b[0;34m,\u001b[0m \u001b[0mkwds\u001b[0m\u001b[0;34m)\u001b[0m\u001b[0;34m\u001b[0m\u001b[0m\n\u001b[0m\u001b[1;32m    679\u001b[0m \u001b[0;34m\u001b[0m\u001b[0m\n\u001b[1;32m    680\u001b[0m     \u001b[0mparser_f\u001b[0m\u001b[0;34m.\u001b[0m\u001b[0m__name__\u001b[0m \u001b[0;34m=\u001b[0m \u001b[0mname\u001b[0m\u001b[0;34m\u001b[0m\u001b[0m\n",
      "\u001b[0;32m/Users/azanbar/anaconda2/lib/python2.7/site-packages/pandas/io/parsers.pyc\u001b[0m in \u001b[0;36m_read\u001b[0;34m(filepath_or_buffer, kwds)\u001b[0m\n\u001b[1;32m    438\u001b[0m \u001b[0;34m\u001b[0m\u001b[0m\n\u001b[1;32m    439\u001b[0m     \u001b[0;31m# Create the parser.\u001b[0m\u001b[0;34m\u001b[0m\u001b[0;34m\u001b[0m\u001b[0m\n\u001b[0;32m--> 440\u001b[0;31m     \u001b[0mparser\u001b[0m \u001b[0;34m=\u001b[0m \u001b[0mTextFileReader\u001b[0m\u001b[0;34m(\u001b[0m\u001b[0mfilepath_or_buffer\u001b[0m\u001b[0;34m,\u001b[0m \u001b[0;34m**\u001b[0m\u001b[0mkwds\u001b[0m\u001b[0;34m)\u001b[0m\u001b[0;34m\u001b[0m\u001b[0m\n\u001b[0m\u001b[1;32m    441\u001b[0m \u001b[0;34m\u001b[0m\u001b[0m\n\u001b[1;32m    442\u001b[0m     \u001b[0;32mif\u001b[0m \u001b[0mchunksize\u001b[0m \u001b[0;32mor\u001b[0m \u001b[0miterator\u001b[0m\u001b[0;34m:\u001b[0m\u001b[0;34m\u001b[0m\u001b[0m\n",
      "\u001b[0;32m/Users/azanbar/anaconda2/lib/python2.7/site-packages/pandas/io/parsers.pyc\u001b[0m in \u001b[0;36m__init__\u001b[0;34m(self, f, engine, **kwds)\u001b[0m\n\u001b[1;32m    785\u001b[0m             \u001b[0mself\u001b[0m\u001b[0;34m.\u001b[0m\u001b[0moptions\u001b[0m\u001b[0;34m[\u001b[0m\u001b[0;34m'has_index_names'\u001b[0m\u001b[0;34m]\u001b[0m \u001b[0;34m=\u001b[0m \u001b[0mkwds\u001b[0m\u001b[0;34m[\u001b[0m\u001b[0;34m'has_index_names'\u001b[0m\u001b[0;34m]\u001b[0m\u001b[0;34m\u001b[0m\u001b[0m\n\u001b[1;32m    786\u001b[0m \u001b[0;34m\u001b[0m\u001b[0m\n\u001b[0;32m--> 787\u001b[0;31m         \u001b[0mself\u001b[0m\u001b[0;34m.\u001b[0m\u001b[0m_make_engine\u001b[0m\u001b[0;34m(\u001b[0m\u001b[0mself\u001b[0m\u001b[0;34m.\u001b[0m\u001b[0mengine\u001b[0m\u001b[0;34m)\u001b[0m\u001b[0;34m\u001b[0m\u001b[0m\n\u001b[0m\u001b[1;32m    788\u001b[0m \u001b[0;34m\u001b[0m\u001b[0m\n\u001b[1;32m    789\u001b[0m     \u001b[0;32mdef\u001b[0m \u001b[0mclose\u001b[0m\u001b[0;34m(\u001b[0m\u001b[0mself\u001b[0m\u001b[0;34m)\u001b[0m\u001b[0;34m:\u001b[0m\u001b[0;34m\u001b[0m\u001b[0m\n",
      "\u001b[0;32m/Users/azanbar/anaconda2/lib/python2.7/site-packages/pandas/io/parsers.pyc\u001b[0m in \u001b[0;36m_make_engine\u001b[0;34m(self, engine)\u001b[0m\n\u001b[1;32m   1012\u001b[0m     \u001b[0;32mdef\u001b[0m \u001b[0m_make_engine\u001b[0m\u001b[0;34m(\u001b[0m\u001b[0mself\u001b[0m\u001b[0;34m,\u001b[0m \u001b[0mengine\u001b[0m\u001b[0;34m=\u001b[0m\u001b[0;34m'c'\u001b[0m\u001b[0;34m)\u001b[0m\u001b[0;34m:\u001b[0m\u001b[0;34m\u001b[0m\u001b[0m\n\u001b[1;32m   1013\u001b[0m         \u001b[0;32mif\u001b[0m \u001b[0mengine\u001b[0m \u001b[0;34m==\u001b[0m \u001b[0;34m'c'\u001b[0m\u001b[0;34m:\u001b[0m\u001b[0;34m\u001b[0m\u001b[0m\n\u001b[0;32m-> 1014\u001b[0;31m             \u001b[0mself\u001b[0m\u001b[0;34m.\u001b[0m\u001b[0m_engine\u001b[0m \u001b[0;34m=\u001b[0m \u001b[0mCParserWrapper\u001b[0m\u001b[0;34m(\u001b[0m\u001b[0mself\u001b[0m\u001b[0;34m.\u001b[0m\u001b[0mf\u001b[0m\u001b[0;34m,\u001b[0m \u001b[0;34m**\u001b[0m\u001b[0mself\u001b[0m\u001b[0;34m.\u001b[0m\u001b[0moptions\u001b[0m\u001b[0;34m)\u001b[0m\u001b[0;34m\u001b[0m\u001b[0m\n\u001b[0m\u001b[1;32m   1015\u001b[0m         \u001b[0;32melse\u001b[0m\u001b[0;34m:\u001b[0m\u001b[0;34m\u001b[0m\u001b[0m\n\u001b[1;32m   1016\u001b[0m             \u001b[0;32mif\u001b[0m \u001b[0mengine\u001b[0m \u001b[0;34m==\u001b[0m \u001b[0;34m'python'\u001b[0m\u001b[0;34m:\u001b[0m\u001b[0;34m\u001b[0m\u001b[0m\n",
      "\u001b[0;32m/Users/azanbar/anaconda2/lib/python2.7/site-packages/pandas/io/parsers.pyc\u001b[0m in \u001b[0;36m__init__\u001b[0;34m(self, src, **kwds)\u001b[0m\n\u001b[1;32m   1706\u001b[0m         \u001b[0mkwds\u001b[0m\u001b[0;34m[\u001b[0m\u001b[0;34m'usecols'\u001b[0m\u001b[0;34m]\u001b[0m \u001b[0;34m=\u001b[0m \u001b[0mself\u001b[0m\u001b[0;34m.\u001b[0m\u001b[0musecols\u001b[0m\u001b[0;34m\u001b[0m\u001b[0m\n\u001b[1;32m   1707\u001b[0m \u001b[0;34m\u001b[0m\u001b[0m\n\u001b[0;32m-> 1708\u001b[0;31m         \u001b[0mself\u001b[0m\u001b[0;34m.\u001b[0m\u001b[0m_reader\u001b[0m \u001b[0;34m=\u001b[0m \u001b[0mparsers\u001b[0m\u001b[0;34m.\u001b[0m\u001b[0mTextReader\u001b[0m\u001b[0;34m(\u001b[0m\u001b[0msrc\u001b[0m\u001b[0;34m,\u001b[0m \u001b[0;34m**\u001b[0m\u001b[0mkwds\u001b[0m\u001b[0;34m)\u001b[0m\u001b[0;34m\u001b[0m\u001b[0m\n\u001b[0m\u001b[1;32m   1709\u001b[0m \u001b[0;34m\u001b[0m\u001b[0m\n\u001b[1;32m   1710\u001b[0m         \u001b[0mpassed_names\u001b[0m \u001b[0;34m=\u001b[0m \u001b[0mself\u001b[0m\u001b[0;34m.\u001b[0m\u001b[0mnames\u001b[0m \u001b[0;32mis\u001b[0m \u001b[0mNone\u001b[0m\u001b[0;34m\u001b[0m\u001b[0m\n",
      "\u001b[0;32mpandas/_libs/parsers.pyx\u001b[0m in \u001b[0;36mpandas._libs.parsers.TextReader.__cinit__\u001b[0;34m()\u001b[0m\n",
      "\u001b[0;32mpandas/_libs/parsers.pyx\u001b[0m in \u001b[0;36mpandas._libs.parsers.TextReader._setup_parser_source\u001b[0;34m()\u001b[0m\n",
      "\u001b[0;31mIOError\u001b[0m: File checkpoints/ml-data.csv does not exist"
     ]
    }
   ],
   "source": [
    "df_reduced = pd.read_csv('checkpoints/ml-data.csv',index_col=0)"
   ]
  },
  {
   "cell_type": "code",
   "execution_count": 3,
   "metadata": {},
   "outputs": [],
   "source": [
    "from training import classify_one_vs_many"
   ]
  },
  {
   "cell_type": "markdown",
   "metadata": {},
   "source": [
    "# Accurercy : "
   ]
  },
  {
   "cell_type": "code",
   "execution_count": 4,
   "metadata": {},
   "outputs": [],
   "source": [
    "from xgboost import XGBClassifier\n",
    "from sklearn import linear_model\n",
    "models = {'SGD':linear_model.SGDClassifier(loss='hinge',max_iter=10000),'Logistic Regression':LogisticRegression(),'Boosted Trees':XGBClassifier()}"
   ]
  },
  {
   "cell_type": "code",
   "execution_count": 5,
   "metadata": {},
   "outputs": [],
   "source": [
    "results = {}"
   ]
  },
  {
   "cell_type": "code",
   "execution_count": 6,
   "metadata": {},
   "outputs": [
    {
     "name": "stderr",
     "output_type": "stream",
     "text": [
      "/Users/azanbar/miniconda2/envs/se-in-robocup/lib/python2.7/site-packages/sklearn/metrics/classification.py:1143: UndefinedMetricWarning: F-score is ill-defined and being set to 0.0 due to no predicted samples.\n",
      "  'precision', 'predicted', average, warn_for)\n"
     ]
    },
    {
     "name": "stdout",
     "output_type": "stream",
     "text": [
      "finished training : Boosted Trees\n",
      "finished training : SGD\n"
     ]
    },
    {
     "name": "stderr",
     "output_type": "stream",
     "text": [
      "/Users/azanbar/miniconda2/envs/se-in-robocup/lib/python2.7/site-packages/sklearn/linear_model/logistic.py:432: FutureWarning: Default solver will be changed to 'lbfgs' in 0.22. Specify a solver to silence this warning.\n",
      "  FutureWarning)\n"
     ]
    },
    {
     "name": "stdout",
     "output_type": "stream",
     "text": [
      "finished training : Logistic Regression\n"
     ]
    }
   ],
   "source": [
    "from sklearn import ensemble\n",
    "agent_types = df_reduced['agent_type'].unique()\n",
    "results=[]\n",
    "for k,clf in models.iteritems():\n",
    "    results += [classify_one_vs_many(df_reduced,k,clf,'agent_type',agent_type) for agent_type in agent_types]\n",
    "    print \"finished training : \" +k \n"
   ]
  },
  {
   "cell_type": "code",
   "execution_count": 117,
   "metadata": {},
   "outputs": [],
   "source": [
    "results = [res for res in results if res is not None]\n",
    "df = pd.DataFrame(results)\n",
    "X = np.array(df_reduced.columns)\n",
    "df['feature rank'] = df.apply(lambda row:[x for _,x in sorted(zip(row.feature_importance.ranking_,X))],axis=1)"
   ]
  },
  {
   "cell_type": "code",
   "execution_count": 118,
   "metadata": {},
   "outputs": [],
   "source": [
    "df\n",
    "import pickle\n",
    "pickle.dump([df_reduced,df],open('checkpoints/agent_type_1vsAll.model','w'))"
   ]
  },
  {
   "cell_type": "code",
   "execution_count": 119,
   "metadata": {},
   "outputs": [
    {
     "data": {
      "text/html": [
       "<div>\n",
       "<style scoped>\n",
       "    .dataframe tbody tr th:only-of-type {\n",
       "        vertical-align: middle;\n",
       "    }\n",
       "\n",
       "    .dataframe tbody tr th {\n",
       "        vertical-align: top;\n",
       "    }\n",
       "\n",
       "    .dataframe thead th {\n",
       "        text-align: right;\n",
       "    }\n",
       "</style>\n",
       "<table border=\"1\" class=\"dataframe\">\n",
       "  <thead>\n",
       "    <tr style=\"text-align: right;\">\n",
       "      <th></th>\n",
       "      <th>agent_type</th>\n",
       "      <th>auc</th>\n",
       "      <th>class 0</th>\n",
       "      <th>class 1</th>\n",
       "      <th>f1_score</th>\n",
       "      <th>feature_importance</th>\n",
       "      <th>fpr</th>\n",
       "      <th>model</th>\n",
       "      <th>model_name</th>\n",
       "      <th>tpr</th>\n",
       "      <th>feature rank</th>\n",
       "    </tr>\n",
       "  </thead>\n",
       "  <tbody>\n",
       "    <tr>\n",
       "      <th>0</th>\n",
       "      <td>agent</td>\n",
       "      <td>0.932092</td>\n",
       "      <td>others</td>\n",
       "      <td>agent</td>\n",
       "      <td>0.619048</td>\n",
       "      <td>RFE(estimator=XGBClassifier(base_score=0.5, booster='gbtree', colsample_bylevel=1,\\n       colsa...</td>\n",
       "      <td>[0.0, 0.012048192771084338, 0.7349397590361446, 0.7349397590361446, 0.7590361445783133, 0.759036...</td>\n",
       "      <td>XGBClassifier(base_score=0.5, booster='gbtree', colsample_bylevel=1,\\n       colsample_bytree=1,...</td>\n",
       "      <td>Boosted Trees</td>\n",
       "      <td>[0.0, 0.0, 0.0, 0.045454545454545456, 0.045454545454545456, 0.13636363636363635, 0.1363636363636...</td>\n",
       "      <td>[analizo_accm_mean, analizo_amloc_quantile_median, analizo_amloc_quantile_upper, analizo_cbo_mea...</td>\n",
       "    </tr>\n",
       "    <tr>\n",
       "      <th>1</th>\n",
       "      <td>Robot</td>\n",
       "      <td>0.901961</td>\n",
       "      <td>others</td>\n",
       "      <td>Robot</td>\n",
       "      <td>0.400000</td>\n",
       "      <td>RFE(estimator=XGBClassifier(base_score=0.5, booster='gbtree', colsample_bylevel=1,\\n       colsa...</td>\n",
       "      <td>[0.0, 0.00980392156862745, 0.1568627450980392, 0.17647058823529413, 0.7549019607843137, 0.754901...</td>\n",
       "      <td>XGBClassifier(base_score=0.5, booster='gbtree', colsample_bylevel=1,\\n       colsample_bytree=1,...</td>\n",
       "      <td>Boosted Trees</td>\n",
       "      <td>[0.0, 0.0, 0.0, 0.0, 0.0, 0.3333333333333333, 0.3333333333333333, 0.6666666666666666, 0.66666666...</td>\n",
       "      <td>[analizo_amloc_quantile_lower, analizo_cbo_mean, analizo_noc_mean, analizo_npa_mean, analizo_nom...</td>\n",
       "    </tr>\n",
       "    <tr>\n",
       "      <th>2</th>\n",
       "      <td>non-agent</td>\n",
       "      <td>0.900195</td>\n",
       "      <td>others</td>\n",
       "      <td>non-agent</td>\n",
       "      <td>0.913580</td>\n",
       "      <td>RFE(estimator=XGBClassifier(base_score=0.5, booster='gbtree', colsample_bylevel=1,\\n       colsa...</td>\n",
       "      <td>[0.0, 0.038461538461538464, 0.19230769230769232, 0.19230769230769232, 0.23076923076923078, 0.230...</td>\n",
       "      <td>XGBClassifier(base_score=0.5, booster='gbtree', colsample_bylevel=1,\\n       colsample_bytree=1,...</td>\n",
       "      <td>Boosted Trees</td>\n",
       "      <td>[0.0, 0.0, 0.0, 0.012658227848101266, 0.012658227848101266, 0.02531645569620253, 0.0253164556962...</td>\n",
       "      <td>[analizo_acc_mean, analizo_accm_mean, analizo_anpm_mean, analizo_sc_mean, analizo_dit_mean, anal...</td>\n",
       "    </tr>\n",
       "    <tr>\n",
       "      <th>3</th>\n",
       "      <td>agent</td>\n",
       "      <td>NaN</td>\n",
       "      <td>others</td>\n",
       "      <td>agent</td>\n",
       "      <td>0.702703</td>\n",
       "      <td>RFE(estimator=SGDClassifier(alpha=0.0001, average=False, class_weight=None,\\n       early_stoppi...</td>\n",
       "      <td>None</td>\n",
       "      <td>SGDClassifier(alpha=0.0001, average=False, class_weight=None,\\n       early_stopping=False, epsi...</td>\n",
       "      <td>SGD</td>\n",
       "      <td>None</td>\n",
       "      <td>[analizo_accm_quantile_upper, analizo_dit_mean, analizo_dit_quantile_median, analizo_noc_mean, a...</td>\n",
       "    </tr>\n",
       "    <tr>\n",
       "      <th>4</th>\n",
       "      <td>Robot</td>\n",
       "      <td>NaN</td>\n",
       "      <td>others</td>\n",
       "      <td>Robot</td>\n",
       "      <td>0.153846</td>\n",
       "      <td>RFE(estimator=SGDClassifier(alpha=0.0001, average=False, class_weight=None,\\n       early_stoppi...</td>\n",
       "      <td>None</td>\n",
       "      <td>SGDClassifier(alpha=0.0001, average=False, class_weight=None,\\n       early_stopping=False, epsi...</td>\n",
       "      <td>SGD</td>\n",
       "      <td>None</td>\n",
       "      <td>[analizo_acc_quantile_lower, analizo_accm_quantile_lower, analizo_anpm_mean, analizo_noc_mean, a...</td>\n",
       "    </tr>\n",
       "    <tr>\n",
       "      <th>5</th>\n",
       "      <td>non-agent</td>\n",
       "      <td>NaN</td>\n",
       "      <td>others</td>\n",
       "      <td>non-agent</td>\n",
       "      <td>0.883436</td>\n",
       "      <td>RFE(estimator=SGDClassifier(alpha=0.0001, average=False, class_weight=None,\\n       early_stoppi...</td>\n",
       "      <td>None</td>\n",
       "      <td>SGDClassifier(alpha=0.0001, average=False, class_weight=None,\\n       early_stopping=False, epsi...</td>\n",
       "      <td>SGD</td>\n",
       "      <td>None</td>\n",
       "      <td>[analizo_accm_quantile_upper, analizo_dit_mean, analizo_noc_mean, analizo_noc_quantile_upper, an...</td>\n",
       "    </tr>\n",
       "    <tr>\n",
       "      <th>6</th>\n",
       "      <td>agent</td>\n",
       "      <td>0.772534</td>\n",
       "      <td>others</td>\n",
       "      <td>agent</td>\n",
       "      <td>0.666667</td>\n",
       "      <td>RFE(estimator=LogisticRegression(C=1.0, class_weight=None, dual=False, fit_intercept=True,\\n    ...</td>\n",
       "      <td>[0.0, 0.024390243902439025, 0.024390243902439025, 0.07317073170731707, 0.07317073170731707, 0.32...</td>\n",
       "      <td>LogisticRegression(C=1.0, class_weight=None, dual=False, fit_intercept=True,\\n          intercep...</td>\n",
       "      <td>Logistic Regression</td>\n",
       "      <td>[0.0, 0.0, 0.043478260869565216, 0.043478260869565216, 0.08695652173913043, 0.08695652173913043,...</td>\n",
       "      <td>[analizo_accm_quantile_upper, analizo_dit_mean, analizo_dit_quantile_median, analizo_noc_mean, a...</td>\n",
       "    </tr>\n",
       "    <tr>\n",
       "      <th>7</th>\n",
       "      <td>Robot</td>\n",
       "      <td>0.712871</td>\n",
       "      <td>others</td>\n",
       "      <td>Robot</td>\n",
       "      <td>0.000000</td>\n",
       "      <td>RFE(estimator=LogisticRegression(C=1.0, class_weight=None, dual=False, fit_intercept=True,\\n    ...</td>\n",
       "      <td>[0.0, 0.009900990099009901, 0.31683168316831684, 0.31683168316831684, 0.7920792079207921, 0.7920...</td>\n",
       "      <td>LogisticRegression(C=1.0, class_weight=None, dual=False, fit_intercept=True,\\n          intercep...</td>\n",
       "      <td>Logistic Regression</td>\n",
       "      <td>[0.0, 0.0, 0.0, 0.25, 0.25, 0.5, 0.5, 0.75, 0.75, 1.0, 1.0]</td>\n",
       "      <td>[analizo_accm_quantile_median, analizo_anpm_quantile_lower, analizo_npa_quantile_lower, analizo_...</td>\n",
       "    </tr>\n",
       "    <tr>\n",
       "      <th>8</th>\n",
       "      <td>non-agent</td>\n",
       "      <td>0.837333</td>\n",
       "      <td>others</td>\n",
       "      <td>non-agent</td>\n",
       "      <td>0.907895</td>\n",
       "      <td>RFE(estimator=LogisticRegression(C=1.0, class_weight=None, dual=False, fit_intercept=True,\\n    ...</td>\n",
       "      <td>[0.0, 0.0, 0.1, 0.1, 0.36666666666666664, 0.36666666666666664, 0.4666666666666667, 0.46666666666...</td>\n",
       "      <td>LogisticRegression(C=1.0, class_weight=None, dual=False, fit_intercept=True,\\n          intercep...</td>\n",
       "      <td>Logistic Regression</td>\n",
       "      <td>[0.0, 0.013333333333333334, 0.013333333333333334, 0.02666666666666667, 0.02666666666666667, 0.04...</td>\n",
       "      <td>[analizo_accm_quantile_upper, analizo_dit_mean, analizo_noc_mean, analizo_npa_quantile_lower, an...</td>\n",
       "    </tr>\n",
       "  </tbody>\n",
       "</table>\n",
       "</div>"
      ],
      "text/plain": [
       "  agent_type       auc class 0    class 1  f1_score  \\\n",
       "0      agent  0.932092  others      agent  0.619048   \n",
       "1      Robot  0.901961  others      Robot  0.400000   \n",
       "2  non-agent  0.900195  others  non-agent  0.913580   \n",
       "3      agent       NaN  others      agent  0.702703   \n",
       "4      Robot       NaN  others      Robot  0.153846   \n",
       "5  non-agent       NaN  others  non-agent  0.883436   \n",
       "6      agent  0.772534  others      agent  0.666667   \n",
       "7      Robot  0.712871  others      Robot  0.000000   \n",
       "8  non-agent  0.837333  others  non-agent  0.907895   \n",
       "\n",
       "                                                                                    feature_importance  \\\n",
       "0  RFE(estimator=XGBClassifier(base_score=0.5, booster='gbtree', colsample_bylevel=1,\\n       colsa...   \n",
       "1  RFE(estimator=XGBClassifier(base_score=0.5, booster='gbtree', colsample_bylevel=1,\\n       colsa...   \n",
       "2  RFE(estimator=XGBClassifier(base_score=0.5, booster='gbtree', colsample_bylevel=1,\\n       colsa...   \n",
       "3  RFE(estimator=SGDClassifier(alpha=0.0001, average=False, class_weight=None,\\n       early_stoppi...   \n",
       "4  RFE(estimator=SGDClassifier(alpha=0.0001, average=False, class_weight=None,\\n       early_stoppi...   \n",
       "5  RFE(estimator=SGDClassifier(alpha=0.0001, average=False, class_weight=None,\\n       early_stoppi...   \n",
       "6  RFE(estimator=LogisticRegression(C=1.0, class_weight=None, dual=False, fit_intercept=True,\\n    ...   \n",
       "7  RFE(estimator=LogisticRegression(C=1.0, class_weight=None, dual=False, fit_intercept=True,\\n    ...   \n",
       "8  RFE(estimator=LogisticRegression(C=1.0, class_weight=None, dual=False, fit_intercept=True,\\n    ...   \n",
       "\n",
       "                                                                                                   fpr  \\\n",
       "0  [0.0, 0.012048192771084338, 0.7349397590361446, 0.7349397590361446, 0.7590361445783133, 0.759036...   \n",
       "1  [0.0, 0.00980392156862745, 0.1568627450980392, 0.17647058823529413, 0.7549019607843137, 0.754901...   \n",
       "2  [0.0, 0.038461538461538464, 0.19230769230769232, 0.19230769230769232, 0.23076923076923078, 0.230...   \n",
       "3                                                                                                 None   \n",
       "4                                                                                                 None   \n",
       "5                                                                                                 None   \n",
       "6  [0.0, 0.024390243902439025, 0.024390243902439025, 0.07317073170731707, 0.07317073170731707, 0.32...   \n",
       "7  [0.0, 0.009900990099009901, 0.31683168316831684, 0.31683168316831684, 0.7920792079207921, 0.7920...   \n",
       "8  [0.0, 0.0, 0.1, 0.1, 0.36666666666666664, 0.36666666666666664, 0.4666666666666667, 0.46666666666...   \n",
       "\n",
       "                                                                                                 model  \\\n",
       "0  XGBClassifier(base_score=0.5, booster='gbtree', colsample_bylevel=1,\\n       colsample_bytree=1,...   \n",
       "1  XGBClassifier(base_score=0.5, booster='gbtree', colsample_bylevel=1,\\n       colsample_bytree=1,...   \n",
       "2  XGBClassifier(base_score=0.5, booster='gbtree', colsample_bylevel=1,\\n       colsample_bytree=1,...   \n",
       "3  SGDClassifier(alpha=0.0001, average=False, class_weight=None,\\n       early_stopping=False, epsi...   \n",
       "4  SGDClassifier(alpha=0.0001, average=False, class_weight=None,\\n       early_stopping=False, epsi...   \n",
       "5  SGDClassifier(alpha=0.0001, average=False, class_weight=None,\\n       early_stopping=False, epsi...   \n",
       "6  LogisticRegression(C=1.0, class_weight=None, dual=False, fit_intercept=True,\\n          intercep...   \n",
       "7  LogisticRegression(C=1.0, class_weight=None, dual=False, fit_intercept=True,\\n          intercep...   \n",
       "8  LogisticRegression(C=1.0, class_weight=None, dual=False, fit_intercept=True,\\n          intercep...   \n",
       "\n",
       "            model_name  \\\n",
       "0        Boosted Trees   \n",
       "1        Boosted Trees   \n",
       "2        Boosted Trees   \n",
       "3                  SGD   \n",
       "4                  SGD   \n",
       "5                  SGD   \n",
       "6  Logistic Regression   \n",
       "7  Logistic Regression   \n",
       "8  Logistic Regression   \n",
       "\n",
       "                                                                                                   tpr  \\\n",
       "0  [0.0, 0.0, 0.0, 0.045454545454545456, 0.045454545454545456, 0.13636363636363635, 0.1363636363636...   \n",
       "1  [0.0, 0.0, 0.0, 0.0, 0.0, 0.3333333333333333, 0.3333333333333333, 0.6666666666666666, 0.66666666...   \n",
       "2  [0.0, 0.0, 0.0, 0.012658227848101266, 0.012658227848101266, 0.02531645569620253, 0.0253164556962...   \n",
       "3                                                                                                 None   \n",
       "4                                                                                                 None   \n",
       "5                                                                                                 None   \n",
       "6  [0.0, 0.0, 0.043478260869565216, 0.043478260869565216, 0.08695652173913043, 0.08695652173913043,...   \n",
       "7                                          [0.0, 0.0, 0.0, 0.25, 0.25, 0.5, 0.5, 0.75, 0.75, 1.0, 1.0]   \n",
       "8  [0.0, 0.013333333333333334, 0.013333333333333334, 0.02666666666666667, 0.02666666666666667, 0.04...   \n",
       "\n",
       "                                                                                          feature rank  \n",
       "0  [analizo_accm_mean, analizo_amloc_quantile_median, analizo_amloc_quantile_upper, analizo_cbo_mea...  \n",
       "1  [analizo_amloc_quantile_lower, analizo_cbo_mean, analizo_noc_mean, analizo_npa_mean, analizo_nom...  \n",
       "2  [analizo_acc_mean, analizo_accm_mean, analizo_anpm_mean, analizo_sc_mean, analizo_dit_mean, anal...  \n",
       "3  [analizo_accm_quantile_upper, analizo_dit_mean, analizo_dit_quantile_median, analizo_noc_mean, a...  \n",
       "4  [analizo_acc_quantile_lower, analizo_accm_quantile_lower, analizo_anpm_mean, analizo_noc_mean, a...  \n",
       "5  [analizo_accm_quantile_upper, analizo_dit_mean, analizo_noc_mean, analizo_noc_quantile_upper, an...  \n",
       "6  [analizo_accm_quantile_upper, analizo_dit_mean, analizo_dit_quantile_median, analizo_noc_mean, a...  \n",
       "7  [analizo_accm_quantile_median, analizo_anpm_quantile_lower, analizo_npa_quantile_lower, analizo_...  \n",
       "8  [analizo_accm_quantile_upper, analizo_dit_mean, analizo_noc_mean, analizo_npa_quantile_lower, an...  "
      ]
     },
     "execution_count": 119,
     "metadata": {},
     "output_type": "execute_result"
    }
   ],
   "source": [
    "df"
   ]
  },
  {
   "cell_type": "code",
   "execution_count": null,
   "metadata": {},
   "outputs": [],
   "source": []
  }
 ],
 "metadata": {
  "hide_input": false,
  "kernelspec": {
   "display_name": "Python 2",
   "language": "python",
   "name": "python2"
  },
  "language_info": {
   "codemirror_mode": {
    "name": "ipython",
    "version": 2
   },
   "file_extension": ".py",
   "mimetype": "text/x-python",
   "name": "python",
   "nbconvert_exporter": "python",
   "pygments_lexer": "ipython2",
   "version": "2.7.15"
  }
 },
 "nbformat": 4,
 "nbformat_minor": 1
}
