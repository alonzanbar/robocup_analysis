{
 "cells": [
  {
   "cell_type": "code",
   "execution_count": 5,
   "metadata": {},
   "outputs": [
    {
     "name": "stdout",
     "output_type": "stream",
     "text": [
      "Collecting imblearn\n",
      "  Using cached https://files.pythonhosted.org/packages/81/a7/4179e6ebfd654bd0eac0b9c06125b8b4c96a9d0a8ff9e9507eb2a26d2d7e/imblearn-0.0-py2.py3-none-any.whl\n",
      "Collecting imbalanced-learn (from imblearn)\n",
      "\u001b[?25l  Downloading https://files.pythonhosted.org/packages/4f/4d/e260fc004307d6ebc4909ee25e6c918a2399a7fb91975afd95ec48d1c8b4/imbalanced-learn-0.4.3.tar.gz (169kB)\n",
      "\u001b[K    100% |████████████████████████████████| 174kB 534kB/s ta 0:00:01\n",
      "\u001b[?25hRequirement already satisfied: numpy>=1.8.2 in /Users/azanbar/anaconda2/lib/python2.7/site-packages (from imbalanced-learn->imblearn) (1.15.1)\n",
      "Requirement already satisfied: scipy>=0.13.3 in /Users/azanbar/anaconda2/lib/python2.7/site-packages (from imbalanced-learn->imblearn) (1.1.0)\n",
      "Collecting scikit-learn>=0.20 (from imbalanced-learn->imblearn)\n",
      "\u001b[?25l  Downloading https://files.pythonhosted.org/packages/2a/c9/ed5b9d2fa5389ac32160c436a8c57127b965ca93466ecab97df6c6fc5de3/scikit_learn-0.20.2-cp27-cp27m-macosx_10_6_intel.macosx_10_9_intel.macosx_10_9_x86_64.macosx_10_10_intel.macosx_10_10_x86_64.whl (8.3MB)\n",
      "\u001b[K    100% |████████████████████████████████| 8.3MB 784kB/s ta 0:00:011\n",
      "\u001b[?25hBuilding wheels for collected packages: imbalanced-learn\n",
      "  Running setup.py bdist_wheel for imbalanced-learn ... \u001b[?25ldone\n",
      "\u001b[?25h  Stored in directory: /Users/azanbar/Library/Caches/pip/wheels/94/6c/0c/d7254937a767ff72814aa542997d0e889bed37c1d31ba3de1a\n",
      "Successfully built imbalanced-learn\n",
      "Installing collected packages: scikit-learn, imbalanced-learn, imblearn\n",
      "  Found existing installation: scikit-learn 0.19.2\n",
      "    Uninstalling scikit-learn-0.19.2:\n",
      "      Successfully uninstalled scikit-learn-0.19.2\n",
      "Successfully installed imbalanced-learn-0.4.3 imblearn-0.0 scikit-learn-0.20.2\n",
      "\u001b[33mYou are using pip version 10.0.1, however version 19.0.1 is available.\n",
      "You should consider upgrading via the 'pip install --upgrade pip' command.\u001b[0m\n"
     ]
    }
   ],
   "source": [
    "!source activate  /Users/azanbar/miniconda2/envs/se-in-robocup\n",
    "!pip install imblearn"
   ]
  },
  {
   "cell_type": "code",
   "execution_count": 2,
   "metadata": {},
   "outputs": [],
   "source": [
    "import matplotlib\n",
    "import  pandas as pd\n",
    "import os\n",
    "import matplotlib.pyplot as plt\n",
    "import numpy as np\n",
    "import seaborn as sns\n",
    "import re\n",
    "from sklearn.svm import LinearSVC\n",
    "from sklearn.linear_model import LogisticRegression \n",
    "%matplotlib inline\n",
    "from sklearn.feature_selection import SelectKBest\n",
    "from sklearn.feature_selection import RFE\n",
    "from sklearn.linear_model import LogisticRegression\n",
    "from sklearn.ensemble import RandomForestClassifier\n",
    "from sklearn.model_selection import train_test_split\n",
    "from sklearn.svm import SVC\n",
    "from imblearn.over_sampling import RandomOverSampler\n",
    "from imblearn.pipeline import make_pipeline\n",
    "from imblearn.metrics import classification_report_imbalanced\n",
    "from sklearn.metrics import roc_curve, auc , f1_score"
   ]
  },
  {
   "cell_type": "code",
   "execution_count": 3,
   "metadata": {},
   "outputs": [],
   "source": [
    "df_reduced = pd.read_csv('checkpoints/ml-data.csv',index_col=0)"
   ]
  },
  {
   "cell_type": "code",
   "execution_count": 4,
   "metadata": {},
   "outputs": [],
   "source": [
    "import collections\n",
    "from collections import Counter\n",
    "❤️⛴🚖🚄🛫🚀🚀🚀🛥🚔🛵🚛🚛🚋🚔🚨🚔🚔🚔🚔🚔🚔🚔🚔🚔🚔🚔🚔🚔🚔🚔🚔🚔🚔🚔🚔🚔🚔🚔🚔🚔🚔🚔🚔🚔🚔🚔🚔🚔🚔🚔🚔🚔🚔🚔🚔🚔🚔🚔🚔🚔🚔🚔🚔🚔🚔🚔🚔🚔🚔🚔🚔🚔🚋🚥⛽️🚀🛥⛴⛽️"
   ]
  },
  {
   "cell_type": "markdown",
   "metadata": {},
   "source": [
    "# Accurercy : "
   ]
  },
  {
   "cell_type": "code",
   "execution_count": 5,
   "metadata": {},
   "outputs": [],
   "source": [
    "from xgboost import XGBClassifier\n",
    "from sklearn import linear_model\n",
    "models = {'SGD':linear_model.SGDClassifier(loss='hinge',max_iter=10000),'Logistic Regression':LogisticRegression(),'Boosted Trees':XGBClassifier()}"
   ]
  },
  {
   "cell_type": "code",
   "execution_count": 6,
   "metadata": {},
   "outputs": [],
   "source": [
    "results = {}"
   ]
  },
  {
   "cell_type": "code",
   "execution_count": 7,
   "metadata": {},
   "outputs": [
    {
     "name": "stdout",
     "output_type": "stream",
     "text": [
      "finished training : Boosted Trees\n"
     ]
    },
    {
     "name": "stderr",
     "output_type": "stream",
     "text": [
      "/Users/azanbar/anaconda2/lib/python2.7/site-packages/sklearn/linear_model/stochastic_gradient.py:183: FutureWarning: max_iter and tol parameters have been added in SGDClassifier in 0.19. If max_iter is set but tol is left unset, the default value for tol in 0.19 and 0.20 will be None (which is equivalent to -infinity, so it has no effect) but will change in 0.21 to 1e-3. Specify tol to silence this warning.\n",
      "  FutureWarning)\n"
     ]
    },
    {
     "name": "stdout",
     "output_type": "stream",
     "text": [
      "finished training : SGD\n"
     ]
    },
    {
     "name": "stderr",
     "output_type": "stream",
     "text": [
      "/Users/azanbar/anaconda2/lib/python2.7/site-packages/sklearn/linear_model/logistic.py:433: FutureWarning: Default solver will be changed to 'lbfgs' in 0.22. Specify a solver to silence this warning.\n",
      "  FutureWarning)\n"
     ]
    },
    {
     "name": "stdout",
     "output_type": "stream",
     "text": [
      "finished training : Logistic Regression\n"
     ]
    }
   ],
   "source": [
    "from sklearn import ensemble\n",
    "agent_types = df_reduced['agent_type'].unique()\n",
    "results=[]\n",
    "for k,clf in models.iteritems():\n",
    "    results += [classify_one_vs_many(df_reduced,k,clf,'agent_type',agent_type) for agent_type in agent_types]\n",
    "    print \"finished training : \" +k \n"
   ]
  },
  {
   "cell_type": "code",
   "execution_count": 8,
   "metadata": {},
   "outputs": [],
   "source": [
    "results = [res for res in results if res is not None]\n",
    "df = pd.DataFrame(results)\n",
    "X = np.array(df_reduced.columns)\n",
    "df['feature rank'] = df.apply(lambda row:[x for _,x in sorted(zip(row.feature_importance.ranking_,X))],axis=1)"
   ]
  },
  {
   "cell_type": "code",
   "execution_count": 9,
   "metadata": {},
   "outputs": [],
   "source": [
    "import datetime\n",
    "import pickle\n",
    "pickle.dump([df_reduced,df],open('checkpoints/agent_type_1vsAll.model_{}'.format(datetime.datetime.now()),'w'))"
   ]
  },
  {
   "cell_type": "code",
   "execution_count": 10,
   "metadata": {},
   "outputs": [
    {
     "data": {
      "text/html": [
       "<div>\n",
       "<style scoped>\n",
       "    .dataframe tbody tr th:only-of-type {\n",
       "        vertical-align: middle;\n",
       "    }\n",
       "\n",
       "    .dataframe tbody tr th {\n",
       "        vertical-align: top;\n",
       "    }\n",
       "\n",
       "    .dataframe thead th {\n",
       "        text-align: right;\n",
       "    }\n",
       "</style>\n",
       "<table border=\"1\" class=\"dataframe\">\n",
       "  <thead>\n",
       "    <tr style=\"text-align: right;\">\n",
       "      <th></th>\n",
       "      <th>agent_type</th>\n",
       "      <th>auc</th>\n",
       "      <th>class 0</th>\n",
       "      <th>class 1</th>\n",
       "      <th>f1_score</th>\n",
       "      <th>feature_importance</th>\n",
       "      <th>fpr</th>\n",
       "      <th>model</th>\n",
       "      <th>model_name</th>\n",
       "      <th>tpr</th>\n",
       "      <th>feature rank</th>\n",
       "    </tr>\n",
       "  </thead>\n",
       "  <tbody>\n",
       "    <tr>\n",
       "      <th>0</th>\n",
       "      <td>agent</td>\n",
       "      <td>0.898197</td>\n",
       "      <td>others</td>\n",
       "      <td>agent</td>\n",
       "      <td>0.634146</td>\n",
       "      <td>RFE(estimator=XGBClassifier(base_score=0.5, bo...</td>\n",
       "      <td>[0.0, 0.012195121951219513, 0.2682926829268293...</td>\n",
       "      <td>XGBClassifier(base_score=0.5, booster='gbtree'...</td>\n",
       "      <td>Boosted Trees</td>\n",
       "      <td>[0.0, 0.0, 0.0, 0.043478260869565216, 0.043478...</td>\n",
       "      <td>[analizo_accm_mean, analizo_amloc_quantile_med...</td>\n",
       "    </tr>\n",
       "    <tr>\n",
       "      <th>1</th>\n",
       "      <td>Robot</td>\n",
       "      <td>0.840067</td>\n",
       "      <td>others</td>\n",
       "      <td>Robot</td>\n",
       "      <td>0.666667</td>\n",
       "      <td>RFE(estimator=XGBClassifier(base_score=0.5, bo...</td>\n",
       "      <td>[0.0, 0.010101010101010102, 0.1313131313131313...</td>\n",
       "      <td>XGBClassifier(base_score=0.5, booster='gbtree'...</td>\n",
       "      <td>Boosted Trees</td>\n",
       "      <td>[0.0, 0.0, 0.0, 0.16666666666666666, 0.1666666...</td>\n",
       "      <td>[analizo_accm_mean, analizo_noa_mean, analizo_...</td>\n",
       "    </tr>\n",
       "    <tr>\n",
       "      <th>2</th>\n",
       "      <td>non-agent</td>\n",
       "      <td>0.901918</td>\n",
       "      <td>others</td>\n",
       "      <td>non-agent</td>\n",
       "      <td>0.921053</td>\n",
       "      <td>RFE(estimator=XGBClassifier(base_score=0.5, bo...</td>\n",
       "      <td>[0.0, 0.03225806451612903, 0.6774193548387096,...</td>\n",
       "      <td>XGBClassifier(base_score=0.5, booster='gbtree'...</td>\n",
       "      <td>Boosted Trees</td>\n",
       "      <td>[0.0, 0.0, 0.0, 0.013513513513513514, 0.013513...</td>\n",
       "      <td>[analizo_accm_quantile_median, analizo_amloc_q...</td>\n",
       "    </tr>\n",
       "    <tr>\n",
       "      <th>3</th>\n",
       "      <td>agent</td>\n",
       "      <td>NaN</td>\n",
       "      <td>others</td>\n",
       "      <td>agent</td>\n",
       "      <td>0.454545</td>\n",
       "      <td>RFE(estimator=SGDClassifier(alpha=0.0001, aver...</td>\n",
       "      <td>None</td>\n",
       "      <td>SGDClassifier(alpha=0.0001, average=False, cla...</td>\n",
       "      <td>SGD</td>\n",
       "      <td>None</td>\n",
       "      <td>[analizo_acc_quantile_lower, analizo_cbo_quant...</td>\n",
       "    </tr>\n",
       "    <tr>\n",
       "      <th>4</th>\n",
       "      <td>Robot</td>\n",
       "      <td>NaN</td>\n",
       "      <td>others</td>\n",
       "      <td>Robot</td>\n",
       "      <td>0.000000</td>\n",
       "      <td>RFE(estimator=SGDClassifier(alpha=0.0001, aver...</td>\n",
       "      <td>None</td>\n",
       "      <td>SGDClassifier(alpha=0.0001, average=False, cla...</td>\n",
       "      <td>SGD</td>\n",
       "      <td>None</td>\n",
       "      <td>[analizo_acc_quantile_lower, analizo_lcom4_qua...</td>\n",
       "    </tr>\n",
       "    <tr>\n",
       "      <th>5</th>\n",
       "      <td>non-agent</td>\n",
       "      <td>NaN</td>\n",
       "      <td>others</td>\n",
       "      <td>non-agent</td>\n",
       "      <td>0.931034</td>\n",
       "      <td>RFE(estimator=SGDClassifier(alpha=0.0001, aver...</td>\n",
       "      <td>None</td>\n",
       "      <td>SGDClassifier(alpha=0.0001, average=False, cla...</td>\n",
       "      <td>SGD</td>\n",
       "      <td>None</td>\n",
       "      <td>[analizo_cbo_quantile_lower, analizo_dit_mean,...</td>\n",
       "    </tr>\n",
       "    <tr>\n",
       "      <th>6</th>\n",
       "      <td>agent</td>\n",
       "      <td>0.821688</td>\n",
       "      <td>others</td>\n",
       "      <td>agent</td>\n",
       "      <td>0.615385</td>\n",
       "      <td>RFE(estimator=LogisticRegression(C=1.0, class_...</td>\n",
       "      <td>[0.0, 0.0, 0.09210526315789473, 0.092105263157...</td>\n",
       "      <td>LogisticRegression(C=1.0, class_weight=None, d...</td>\n",
       "      <td>Logistic Regression</td>\n",
       "      <td>[0.0, 0.034482758620689655, 0.0344827586206896...</td>\n",
       "      <td>[analizo_accm_quantile_upper, analizo_dit_mean...</td>\n",
       "    </tr>\n",
       "    <tr>\n",
       "      <th>7</th>\n",
       "      <td>Robot</td>\n",
       "      <td>0.768000</td>\n",
       "      <td>others</td>\n",
       "      <td>Robot</td>\n",
       "      <td>0.200000</td>\n",
       "      <td>RFE(estimator=LogisticRegression(C=1.0, class_...</td>\n",
       "      <td>[0.0, 0.01, 0.33, 0.33, 0.69, 0.69, 0.93, 0.93...</td>\n",
       "      <td>LogisticRegression(C=1.0, class_weight=None, d...</td>\n",
       "      <td>Logistic Regression</td>\n",
       "      <td>[0.0, 0.0, 0.0, 0.2, 0.2, 0.4, 0.4, 0.8, 0.8, ...</td>\n",
       "      <td>[analizo_acc_quantile_lower, analizo_accm_quan...</td>\n",
       "    </tr>\n",
       "    <tr>\n",
       "      <th>8</th>\n",
       "      <td>non-agent</td>\n",
       "      <td>0.763047</td>\n",
       "      <td>others</td>\n",
       "      <td>non-agent</td>\n",
       "      <td>0.858974</td>\n",
       "      <td>RFE(estimator=LogisticRegression(C=1.0, class_...</td>\n",
       "      <td>[0.0, 0.030303030303030304, 0.3333333333333333...</td>\n",
       "      <td>LogisticRegression(C=1.0, class_weight=None, d...</td>\n",
       "      <td>Logistic Regression</td>\n",
       "      <td>[0.0, 0.0, 0.0, 0.013888888888888888, 0.013888...</td>\n",
       "      <td>[analizo_accm_quantile_upper, analizo_dit_quan...</td>\n",
       "    </tr>\n",
       "  </tbody>\n",
       "</table>\n",
       "</div>"
      ],
      "text/plain": [
       "  agent_type       auc class 0    class 1  f1_score  \\\n",
       "0      agent  0.898197  others      agent  0.634146   \n",
       "1      Robot  0.840067  others      Robot  0.666667   \n",
       "2  non-agent  0.901918  others  non-agent  0.921053   \n",
       "3      agent       NaN  others      agent  0.454545   \n",
       "4      Robot       NaN  others      Robot  0.000000   \n",
       "5  non-agent       NaN  others  non-agent  0.931034   \n",
       "6      agent  0.821688  others      agent  0.615385   \n",
       "7      Robot  0.768000  others      Robot  0.200000   \n",
       "8  non-agent  0.763047  others  non-agent  0.858974   \n",
       "\n",
       "                                  feature_importance  \\\n",
       "0  RFE(estimator=XGBClassifier(base_score=0.5, bo...   \n",
       "1  RFE(estimator=XGBClassifier(base_score=0.5, bo...   \n",
       "2  RFE(estimator=XGBClassifier(base_score=0.5, bo...   \n",
       "3  RFE(estimator=SGDClassifier(alpha=0.0001, aver...   \n",
       "4  RFE(estimator=SGDClassifier(alpha=0.0001, aver...   \n",
       "5  RFE(estimator=SGDClassifier(alpha=0.0001, aver...   \n",
       "6  RFE(estimator=LogisticRegression(C=1.0, class_...   \n",
       "7  RFE(estimator=LogisticRegression(C=1.0, class_...   \n",
       "8  RFE(estimator=LogisticRegression(C=1.0, class_...   \n",
       "\n",
       "                                                 fpr  \\\n",
       "0  [0.0, 0.012195121951219513, 0.2682926829268293...   \n",
       "1  [0.0, 0.010101010101010102, 0.1313131313131313...   \n",
       "2  [0.0, 0.03225806451612903, 0.6774193548387096,...   \n",
       "3                                               None   \n",
       "4                                               None   \n",
       "5                                               None   \n",
       "6  [0.0, 0.0, 0.09210526315789473, 0.092105263157...   \n",
       "7  [0.0, 0.01, 0.33, 0.33, 0.69, 0.69, 0.93, 0.93...   \n",
       "8  [0.0, 0.030303030303030304, 0.3333333333333333...   \n",
       "\n",
       "                                               model           model_name  \\\n",
       "0  XGBClassifier(base_score=0.5, booster='gbtree'...        Boosted Trees   \n",
       "1  XGBClassifier(base_score=0.5, booster='gbtree'...        Boosted Trees   \n",
       "2  XGBClassifier(base_score=0.5, booster='gbtree'...        Boosted Trees   \n",
       "3  SGDClassifier(alpha=0.0001, average=False, cla...                  SGD   \n",
       "4  SGDClassifier(alpha=0.0001, average=False, cla...                  SGD   \n",
       "5  SGDClassifier(alpha=0.0001, average=False, cla...                  SGD   \n",
       "6  LogisticRegression(C=1.0, class_weight=None, d...  Logistic Regression   \n",
       "7  LogisticRegression(C=1.0, class_weight=None, d...  Logistic Regression   \n",
       "8  LogisticRegression(C=1.0, class_weight=None, d...  Logistic Regression   \n",
       "\n",
       "                                                 tpr  \\\n",
       "0  [0.0, 0.0, 0.0, 0.043478260869565216, 0.043478...   \n",
       "1  [0.0, 0.0, 0.0, 0.16666666666666666, 0.1666666...   \n",
       "2  [0.0, 0.0, 0.0, 0.013513513513513514, 0.013513...   \n",
       "3                                               None   \n",
       "4                                               None   \n",
       "5                                               None   \n",
       "6  [0.0, 0.034482758620689655, 0.0344827586206896...   \n",
       "7  [0.0, 0.0, 0.0, 0.2, 0.2, 0.4, 0.4, 0.8, 0.8, ...   \n",
       "8  [0.0, 0.0, 0.0, 0.013888888888888888, 0.013888...   \n",
       "\n",
       "                                        feature rank  \n",
       "0  [analizo_accm_mean, analizo_amloc_quantile_med...  \n",
       "1  [analizo_accm_mean, analizo_noa_mean, analizo_...  \n",
       "2  [analizo_accm_quantile_median, analizo_amloc_q...  \n",
       "3  [analizo_acc_quantile_lower, analizo_cbo_quant...  \n",
       "4  [analizo_acc_quantile_lower, analizo_lcom4_qua...  \n",
       "5  [analizo_cbo_quantile_lower, analizo_dit_mean,...  \n",
       "6  [analizo_accm_quantile_upper, analizo_dit_mean...  \n",
       "7  [analizo_acc_quantile_lower, analizo_accm_quan...  \n",
       "8  [analizo_accm_quantile_upper, analizo_dit_quan...  "
      ]
     },
     "execution_count": 10,
     "metadata": {},
     "output_type": "execute_result"
    }
   ],
   "source": [
    "df"
   ]
  },
  {
   "cell_type": "code",
   "execution_count": 8,
   "metadata": {},
   "outputs": [],
   "source": [
    "xgb = df.loc[1,'model']\n",
    "\n",
    "%matplotlib inline\n",
    "import matplotlib.pyplot as plt\n",
    "from xgboost import plot_importance\n",
    "fig, ax = plt.subplots(figsize=(10,15))\n",
    "plot_importance(xgb,ax=ax)\n",
    "plt.show()"
   ]
  },
  {
   "cell_type": "code",
   "execution_count": null,
   "metadata": {},
   "outputs": [],
   "source": []
  }
 ],
 "metadata": {
  "hide_input": false,
  "kernelspec": {
   "display_name": "Python 2",
   "language": "python",
   "name": "python2"
  },
  "language_info": {
   "codemirror_mode": {
    "name": "ipython",
    "version": 2
   },
   "file_extension": ".py",
   "mimetype": "text/x-python",
   "name": "python",
   "nbconvert_exporter": "python",
   "pygments_lexer": "ipython2",
   "version": "2.7.15"
  }
 },
 "nbformat": 4,
 "nbformat_minor": 1
}
