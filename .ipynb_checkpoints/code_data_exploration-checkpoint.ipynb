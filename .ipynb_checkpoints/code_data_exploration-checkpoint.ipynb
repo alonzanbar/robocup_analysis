{
 "cells": [
  {
   "cell_type": "code",
   "execution_count": 74,
   "metadata": {},
   "outputs": [],
   "source": [
    "import matplotlib\n",
    "import  pandas as pd\n",
    "import os\n",
    "import matplotlib.pyplot as plt\n",
    "import numpy as np\n",
    "import seaborn as sns\n",
    "import re"
   ]
  },
  {
   "cell_type": "code",
   "execution_count": 75,
   "metadata": {},
   "outputs": [
    {
     "data": {
      "text/plain": [
       "Current_group_location                                 71\n",
       "Exe_files                                              40\n",
       "IF4                                                    64\n",
       "IF4_per_module                                         64\n",
       "IF4_visible                                            64\n",
       "IF4_visible_per_module                                 64\n",
       "McCabes_cyclomatic_complexity                          64\n",
       "McCabes_cyclomatic_complexity_per_line_of_comment      64\n",
       "McCabes_cyclomatic_complexity_per_module               64\n",
       "Number_exe_files                                       71\n",
       "Number_libraries_Total                                 71\n",
       "Number_lines_Total                                     71\n",
       "Number_of_binaries                                     71\n",
       "analizo_acc_kurtosis                                   70\n",
       "analizo_acc_mean                                       70\n",
       "analizo_acc_mode                                       70\n",
       "analizo_acc_quantile_lower                             70\n",
       "analizo_acc_quantile_max                               70\n",
       "analizo_acc_quantile_median                            70\n",
       "analizo_acc_quantile_min                               70\n",
       "analizo_acc_quantile_ninety_five                       70\n",
       "analizo_acc_quantile_upper                             70\n",
       "analizo_acc_skewness                                   70\n",
       "analizo_acc_standard_deviation                         70\n",
       "analizo_acc_sum                                        70\n",
       "analizo_acc_variance                                   70\n",
       "analizo_accm_kurtosis                                  70\n",
       "analizo_accm_mean                                      70\n",
       "analizo_accm_mode                                      70\n",
       "analizo_accm_quantile_lower                            70\n",
       "                                                       ..\n",
       "dir_to_zip                                             71\n",
       "group_name                                             71\n",
       "is_source                                              71\n",
       "lines_of_code                                          64\n",
       "lines_of_code_per_line_of_comment                      64\n",
       "lines_of_code_per_module                               64\n",
       "lines_of_comment                                       64\n",
       "lines_of_comment_per_module                            64\n",
       "new_dir                                                71\n",
       "new_dir_name                                           71\n",
       "number_of_modules                                      64\n",
       "player_fast_block_instructions_info_max                23\n",
       "player_fast_block_instructions_info_min                23\n",
       "player_fast_block_instructions_info_std                23\n",
       "player_fast_block_instructions_info_sum                23\n",
       "player_fast_blocks_sizes_info_max                      23\n",
       "player_fast_blocks_sizes_info_min                      23\n",
       "player_fast_blocks_sizes_info_std                      23\n",
       "player_fast_blocks_sizes_info_sum                      23\n",
       "player_fast_complex_mccabe                             23\n",
       "player_fast_number_of_CFG_nodes_that_return_a_value    23\n",
       "player_fast_simple_mccabe                              23\n",
       "player_fast_system_calls_count                         23\n",
       "player_function_cc_radare2_max                         36\n",
       "player_function_cc_radare2_mean                        36\n",
       "player_function_cc_radare2_std                         36\n",
       "player_function_cc_radare2_sum                         36\n",
       "rejected_lines_of_code                                 64\n",
       "source_lang                                            71\n",
       "year                                                   71\n",
       "Length: 270, dtype: int64"
      ]
     },
     "execution_count": 75,
     "metadata": {},
     "output_type": "execute_result"
    }
   ],
   "source": [
    "regexp_stat = re.compile(r'analizo_(.)*_(mean|sum|quantile_max)')\n",
    "regexp_total = re.compile(r'analizo_total_(.)*')\n",
    "rep_df_2d = pd.read_csv('data/robo2d-18_09_2018.csv')\n",
    "rep_df_3d = pd.read_csv('data/3D-analysis-16_09_2018.csv')\n",
    "#rep_df = pd.concat([rep_df_2d,rep_df_3d],sort=False)\n",
    "code_df = rep_df_2d[rep_df_2d['is_source']==True]\n",
    "code_df.count()"
   ]
  },
  {
   "cell_type": "code",
   "execution_count": 76,
   "metadata": {},
   "outputs": [],
   "source": [
    "code_df = code_df.rename(index=str,columns={'new_dir':'folder'})"
   ]
  },
  {
   "cell_type": "code",
   "execution_count": 77,
   "metadata": {},
   "outputs": [
    {
     "data": {
      "text/plain": [
       "<matplotlib.axes._subplots.AxesSubplot at 0x7fc2dec8fed0>"
      ]
     },
     "execution_count": 77,
     "metadata": {},
     "output_type": "execute_result"
    },
    {
     "data": {
      "image/png": "[encoded data removed]",
      "text/plain": [
       "<Figure size 1080x504 with 1 Axes>"
      ]
     },
     "metadata": {
      "needs_background": "light"
     },
     "output_type": "display_data"
    }
   ],
   "source": [
    "rep_df_2d['analizo_total_loc'].hist(bins=20,figsize=(15,7))"
   ]
  },
  {
   "cell_type": "code",
   "execution_count": 78,
   "metadata": {
    "scrolled": false
   },
   "outputs": [
    {
     "data": {
      "text/plain": [
       "<matplotlib.axes._subplots.AxesSubplot at 0x7fc2d5e6f310>"
      ]
     },
     "execution_count": 78,
     "metadata": {},
     "output_type": "execute_result"
    },
    {
     "data": {
      "image/png": "[encoded data removed]",
      "text/plain": [
       "<Figure size 1080x504 with 1 Axes>"
      ]
     },
     "metadata": {
      "needs_background": "light"
     },
     "output_type": "display_data"
    }
   ],
   "source": [
    "rep_df_3d['analizo_total_loc'].hist(bins=20,figsize=(15,7))"
   ]
  },
  {
   "cell_type": "code",
   "execution_count": 79,
   "metadata": {
    "scrolled": false
   },
   "outputs": [
    {
     "data": {
      "text/plain": [
       "year\n",
       "1996    9.988174\n",
       "1997    4.700791\n",
       "1998    3.471830\n",
       "1999    2.715060\n",
       "2000    1.914417\n",
       "2001    1.681763\n",
       "2002    2.406056\n",
       "2004    2.660519\n",
       "2007    1.915751\n",
       "2008    2.152909\n",
       "2009    4.240528\n",
       "2011    2.374842\n",
       "2012    3.036511\n",
       "2014    1.657464\n",
       "2015    2.492268\n",
       "2016    2.633899\n",
       "Name: analizo_accm_mean, dtype: float64"
      ]
     },
     "execution_count": 79,
     "metadata": {},
     "output_type": "execute_result"
    }
   ],
   "source": [
    "code_df.groupby('year').mean()['analizo_accm_mean']"
   ]
  },
  {
   "cell_type": "code",
   "execution_count": 80,
   "metadata": {},
   "outputs": [
    {
     "data": {
      "text/plain": [
       "<seaborn.axisgrid.PairGrid at 0x7fc2d4a8de50>"
      ]
     },
     "execution_count": 80,
     "metadata": {},
     "output_type": "execute_result"
    },
    {
     "data": {
      "image/png": "[encoded data removed]",
      "text/plain": [
       "<Figure size 900x900 with 30 Axes>"
      ]
     },
     "metadata": {
      "needs_background": "light"
     },
     "output_type": "display_data"
    }
   ],
   "source": [
    "sns.pairplot(code_df[['McCabes_cyclomatic_complexity_per_module','analizo_total_loc','analizo_accm_mean','analizo_total_modules','analizo_accm_sum']].dropna())"
   ]
  },
  {
   "cell_type": "code",
   "execution_count": 81,
   "metadata": {},
   "outputs": [],
   "source": [
    "code_df_reduced = code_df[[c for c in code_df.columns if regexp_stat.search(c) or regexp_total.search(c) or c == 'folder']].copy()\n",
    "code_df_reduced['type'] = 'robo'\n",
    "code_df_reduced['type_original'] = 'robo'"
   ]
  },
  {
   "cell_type": "code",
   "execution_count": 82,
   "metadata": {},
   "outputs": [],
   "source": [
    "code_df_reduced.dropna(inplace=True)"
   ]
  },
  {
   "cell_type": "code",
   "execution_count": 83,
   "metadata": {},
   "outputs": [],
   "source": [
    "df1 = pd.read_csv(os.getcwd() +\"/data/17_09_2018code_analysis__summery_report.csv\")"
   ]
  },
  {
   "cell_type": "code",
   "execution_count": 127,
   "metadata": {},
   "outputs": [],
   "source": [
    "GH_df = df1[[c for c in df1.columns if regexp_stat.search(c) or regexp_total.search(c) or c in ['folder','type']]].copy()\n",
    "GH_df.rename(columns={'type':'type_original'},inplace=True)\n",
    "GH_df['type'] = 'others'"
   ]
  },
  {
   "cell_type": "code",
   "execution_count": 128,
   "metadata": {},
   "outputs": [],
   "source": [
    "GH_df_group_by = GH_df.groupby('type_original').count()"
   ]
  },
  {
   "cell_type": "code",
   "execution_count": 129,
   "metadata": {},
   "outputs": [],
   "source": [
    "GH_df_group_by_50 = GH_df_group_by[GH_df_group_by.folder>50]"
   ]
  },
  {
   "cell_type": "code",
   "execution_count": 130,
   "metadata": {},
   "outputs": [],
   "source": [
    "GH_df = GH_df[GH_df['type_original'].isin(GH_df_group_by_50.index.values)]"
   ]
  },
  {
   "cell_type": "code",
   "execution_count": 131,
   "metadata": {},
   "outputs": [
    {
     "data": {
      "text/plain": [
       "<matplotlib.axes._subplots.AxesSubplot at 0x7fc2d60292d0>"
      ]
     },
     "execution_count": 131,
     "metadata": {},
     "output_type": "execute_result"
    },
    {
     "data": {
      "image/png": "[encoded data removed]",
      "text/plain": [
       "<Figure size 432x288 with 1 Axes>"
      ]
     },
     "metadata": {
      "needs_background": "light"
     },
     "output_type": "display_data"
    }
   ],
   "source": [
    "GH_df.groupby('type_original').count()['folder'].plot(kind='bar')"
   ]
  },
  {
   "cell_type": "code",
   "execution_count": 132,
   "metadata": {},
   "outputs": [
    {
     "data": {
      "text/plain": [
       "0.01    0.437117\n",
       "0.97    4.405596\n",
       "Name: analizo_accm_mean, dtype: float64"
      ]
     },
     "execution_count": 132,
     "metadata": {},
     "output_type": "execute_result"
    }
   ],
   "source": [
    "low = .01\n",
    "high = .97\n",
    "quant_df = GH_df['analizo_accm_mean'].quantile([low, high])\n",
    "quant_df"
   ]
  },
  {
   "cell_type": "code",
   "execution_count": 133,
   "metadata": {},
   "outputs": [
    {
     "data": {
      "text/plain": [
       "<matplotlib.axes._subplots.AxesSubplot at 0x7fc2d5fd9810>"
      ]
     },
     "execution_count": 133,
     "metadata": {},
     "output_type": "execute_result"
    },
    {
     "data": {
      "image/png": "[encoded data removed]",
      "text/plain": [
       "<Figure size 432x288 with 1 Axes>"
      ]
     },
     "metadata": {
      "needs_background": "light"
     },
     "output_type": "display_data"
    }
   ],
   "source": [
    "GH_df_reduced =GH_df.loc[(GH_df['analizo_accm_mean']>=quant_df[low]) & (GH_df['analizo_accm_mean']<=quant_df[high]),:]\n",
    "sns.scatterplot(data=GH_df_reduced[(GH_df_reduced['analizo_total_loc']<150000) & (GH_df_reduced['analizo_total_loc']>-150000)], y='analizo_accm_mean',x='analizo_total_loc')"
   ]
  },
  {
   "cell_type": "code",
   "execution_count": 134,
   "metadata": {},
   "outputs": [],
   "source": [
    "df_merged= pd.concat([code_df_reduced,GH_df_reduced],sort=False)"
   ]
  },
  {
   "cell_type": "code",
   "execution_count": 135,
   "metadata": {},
   "outputs": [],
   "source": [
    "df_merged.fillna(0,inplace=True)"
   ]
  },
  {
   "cell_type": "code",
   "execution_count": 136,
   "metadata": {},
   "outputs": [
    {
     "data": {
      "text/html": [
       "<div>\n",
       "<style scoped>\n",
       "    .dataframe tbody tr th:only-of-type {\n",
       "        vertical-align: middle;\n",
       "    }\n",
       "\n",
       "    .dataframe tbody tr th {\n",
       "        vertical-align: top;\n",
       "    }\n",
       "\n",
       "    .dataframe thead th {\n",
       "        text-align: right;\n",
       "    }\n",
       "</style>\n",
       "<table border=\"1\" class=\"dataframe\">\n",
       "  <thead>\n",
       "    <tr style=\"text-align: right;\">\n",
       "      <th></th>\n",
       "      <th>analizo_acc_mean</th>\n",
       "      <th>analizo_acc_quantile_max</th>\n",
       "      <th>analizo_acc_sum</th>\n",
       "      <th>analizo_accm_mean</th>\n",
       "      <th>analizo_accm_quantile_max</th>\n",
       "      <th>analizo_accm_sum</th>\n",
       "      <th>analizo_amloc_mean</th>\n",
       "      <th>analizo_amloc_quantile_max</th>\n",
       "      <th>analizo_amloc_sum</th>\n",
       "      <th>analizo_anpm_mean</th>\n",
       "      <th>...</th>\n",
       "      <th>analizo_total_cof</th>\n",
       "      <th>analizo_total_eloc</th>\n",
       "      <th>analizo_total_loc</th>\n",
       "      <th>analizo_total_methods_per_abstract_class</th>\n",
       "      <th>analizo_total_modules</th>\n",
       "      <th>analizo_total_modules_with_defined_attributes</th>\n",
       "      <th>analizo_total_modules_with_defined_methods</th>\n",
       "      <th>analizo_total_nom</th>\n",
       "      <th>folder</th>\n",
       "      <th>type_original</th>\n",
       "    </tr>\n",
       "    <tr>\n",
       "      <th>type</th>\n",
       "      <th></th>\n",
       "      <th></th>\n",
       "      <th></th>\n",
       "      <th></th>\n",
       "      <th></th>\n",
       "      <th></th>\n",
       "      <th></th>\n",
       "      <th></th>\n",
       "      <th></th>\n",
       "      <th></th>\n",
       "      <th></th>\n",
       "      <th></th>\n",
       "      <th></th>\n",
       "      <th></th>\n",
       "      <th></th>\n",
       "      <th></th>\n",
       "      <th></th>\n",
       "      <th></th>\n",
       "      <th></th>\n",
       "      <th></th>\n",
       "      <th></th>\n",
       "    </tr>\n",
       "  </thead>\n",
       "  <tbody>\n",
       "    <tr>\n",
       "      <th>others</th>\n",
       "      <td>332</td>\n",
       "      <td>332</td>\n",
       "      <td>332</td>\n",
       "      <td>332</td>\n",
       "      <td>332</td>\n",
       "      <td>332</td>\n",
       "      <td>332</td>\n",
       "      <td>332</td>\n",
       "      <td>332</td>\n",
       "      <td>332</td>\n",
       "      <td>...</td>\n",
       "      <td>332</td>\n",
       "      <td>332</td>\n",
       "      <td>332</td>\n",
       "      <td>332</td>\n",
       "      <td>332</td>\n",
       "      <td>332</td>\n",
       "      <td>332</td>\n",
       "      <td>332</td>\n",
       "      <td>332</td>\n",
       "      <td>332</td>\n",
       "    </tr>\n",
       "    <tr>\n",
       "      <th>robo</th>\n",
       "      <td>70</td>\n",
       "      <td>70</td>\n",
       "      <td>70</td>\n",
       "      <td>70</td>\n",
       "      <td>70</td>\n",
       "      <td>70</td>\n",
       "      <td>70</td>\n",
       "      <td>70</td>\n",
       "      <td>70</td>\n",
       "      <td>70</td>\n",
       "      <td>...</td>\n",
       "      <td>70</td>\n",
       "      <td>70</td>\n",
       "      <td>70</td>\n",
       "      <td>70</td>\n",
       "      <td>70</td>\n",
       "      <td>70</td>\n",
       "      <td>70</td>\n",
       "      <td>70</td>\n",
       "      <td>70</td>\n",
       "      <td>70</td>\n",
       "    </tr>\n",
       "  </tbody>\n",
       "</table>\n",
       "<p>2 rows × 59 columns</p>\n",
       "</div>"
      ],
      "text/plain": [
       "        analizo_acc_mean  analizo_acc_quantile_max  analizo_acc_sum  \\\n",
       "type                                                                  \n",
       "others               332                       332              332   \n",
       "robo                  70                        70               70   \n",
       "\n",
       "        analizo_accm_mean  analizo_accm_quantile_max  analizo_accm_sum  \\\n",
       "type                                                                     \n",
       "others                332                        332               332   \n",
       "robo                   70                         70                70   \n",
       "\n",
       "        analizo_amloc_mean  analizo_amloc_quantile_max  analizo_amloc_sum  \\\n",
       "type                                                                        \n",
       "others                 332                         332                332   \n",
       "robo                    70                          70                 70   \n",
       "\n",
       "        analizo_anpm_mean      ...        analizo_total_cof  \\\n",
       "type                           ...                            \n",
       "others                332      ...                      332   \n",
       "robo                   70      ...                       70   \n",
       "\n",
       "        analizo_total_eloc  analizo_total_loc  \\\n",
       "type                                            \n",
       "others                 332                332   \n",
       "robo                    70                 70   \n",
       "\n",
       "        analizo_total_methods_per_abstract_class  analizo_total_modules  \\\n",
       "type                                                                      \n",
       "others                                       332                    332   \n",
       "robo                                          70                     70   \n",
       "\n",
       "        analizo_total_modules_with_defined_attributes  \\\n",
       "type                                                    \n",
       "others                                            332   \n",
       "robo                                               70   \n",
       "\n",
       "        analizo_total_modules_with_defined_methods  analizo_total_nom  folder  \\\n",
       "type                                                                            \n",
       "others                                         332                332     332   \n",
       "robo                                            70                 70      70   \n",
       "\n",
       "        type_original  \n",
       "type                   \n",
       "others            332  \n",
       "robo               70  \n",
       "\n",
       "[2 rows x 59 columns]"
      ]
     },
     "execution_count": 136,
     "metadata": {},
     "output_type": "execute_result"
    }
   ],
   "source": [
    "df_merged.groupby(['type']).count()"
   ]
  },
  {
   "cell_type": "code",
   "execution_count": 137,
   "metadata": {},
   "outputs": [
    {
     "data": {
      "text/plain": [
       "16.101694915254235"
      ]
     },
     "execution_count": 137,
     "metadata": {},
     "output_type": "execute_result"
    }
   ],
   "source": [
    "float(38)/(198+38)*100"
   ]
  },
  {
   "cell_type": "code",
   "execution_count": null,
   "metadata": {},
   "outputs": [],
   "source": []
  },
  {
   "cell_type": "code",
   "execution_count": 143,
   "metadata": {
    "scrolled": false
   },
   "outputs": [
    {
     "data": {
      "image/png": "[encoded data removed]",
      "text/plain": [
       "<Figure size 720x720 with 1 Axes>"
      ]
     },
     "metadata": {
      "needs_background": "light"
     },
     "output_type": "display_data"
    }
   ],
   "source": [
    "df_merged_e= df_merged[df_merged['analizo_accm_mean']<4]\n",
    "fix,ax = plt.subplots(figsize=(10,10))\n",
    "ax = sns.boxplot(x='type_original',y='analizo_accm_mean',data=df_merged_e)\n",
    "ax = sns.swarmplot(x='type_original',y='analizo_accm_mean',data=df_merged_e,color='black')"
   ]
  },
  {
   "cell_type": "code",
   "execution_count": 144,
   "metadata": {},
   "outputs": [],
   "source": [
    "from sklearn.feature_selection import SelectKBest\n",
    "from sklearn.feature_selection import chi2\n",
    "from sklearn.feature_selection import RFE\n",
    "from sklearn.linear_model import LogisticRegression\n",
    "from sklearn.model_selection import train_test_split\n",
    "from sklearn.svm import SVR\n"
   ]
  },
  {
   "cell_type": "code",
   "execution_count": 145,
   "metadata": {},
   "outputs": [
    {
     "data": {
      "text/plain": [
       "Index([u'analizo_accm_mean', u'analizo_dit_mean'], dtype='object')"
      ]
     },
     "execution_count": 145,
     "metadata": {},
     "output_type": "execute_result"
    }
   ],
   "source": [
    "X = df_merged.select_dtypes(include=[np.number])\n",
    "Y = df_merged.loc[:,'type']\n",
    "# feature extraction\n",
    "model = SVR(kernel=\"linear\")\n",
    "rfe = RFE(model, 2)\n",
    "fit = rfe.fit(X, Y)\n",
    "X.columns[fit.support_]"
   ]
  },
  {
   "cell_type": "code",
   "execution_count": null,
   "metadata": {},
   "outputs": [],
   "source": []
  },
  {
   "cell_type": "code",
   "execution_count": 149,
   "metadata": {},
   "outputs": [
    {
     "data": {
      "text/plain": [
       "0.927860696517413"
      ]
     },
     "execution_count": 149,
     "metadata": {},
     "output_type": "execute_result"
    }
   ],
   "source": [
    "X_train, X_test, Y_train, Y_test = train_test_split(X, Y, test_size=0.1,random_state=0)\n",
    "fitl= model.fit(X,Y)\n",
    "model.score(X,Y)"
   ]
  },
  {
   "cell_type": "code",
   "execution_count": 150,
   "metadata": {},
   "outputs": [],
   "source": [
    "pred = model.predict(X) "
   ]
  },
  {
   "cell_type": "code",
   "execution_count": 151,
   "metadata": {},
   "outputs": [],
   "source": [
    "def set_wrong_type(pred,Y,df,type_class):\n",
    "    df.loc[:,'wrong'] = False\n",
    "    df.loc[(pred != Y),'wrong'] = True\n",
    "    df.loc[(pred != Y) & (df['type'] == type_class),'type_wrong'] = 'wrong_' +type_class    \n",
    "    df.loc[(pred == Y) & (df['type'] == type_class),'type_wrong'] = type_class\n",
    "    df.loc[(pred != Y) & (df['type'] == 'others'),'type_wrong'] = 'wrong_others'\n",
    "    df.loc[(pred == Y) & (df['type'] == 'others'),'type_wrong'] = 'others'\n",
    "    return df\n",
    "df_merged = set_wrong_type(pred,Y,df_merged,'robo')"
   ]
  },
  {
   "cell_type": "code",
   "execution_count": 152,
   "metadata": {},
   "outputs": [
    {
     "data": {
      "text/html": [
       "<div>\n",
       "<style scoped>\n",
       "    .dataframe tbody tr th:only-of-type {\n",
       "        vertical-align: middle;\n",
       "    }\n",
       "\n",
       "    .dataframe tbody tr th {\n",
       "        vertical-align: top;\n",
       "    }\n",
       "\n",
       "    .dataframe thead th {\n",
       "        text-align: right;\n",
       "    }\n",
       "</style>\n",
       "<table border=\"1\" class=\"dataframe\">\n",
       "  <thead>\n",
       "    <tr style=\"text-align: right;\">\n",
       "      <th></th>\n",
       "      <th>analizo_acc_mean</th>\n",
       "      <th>analizo_acc_quantile_max</th>\n",
       "      <th>analizo_acc_sum</th>\n",
       "      <th>analizo_accm_mean</th>\n",
       "      <th>analizo_accm_quantile_max</th>\n",
       "      <th>analizo_accm_sum</th>\n",
       "      <th>analizo_amloc_mean</th>\n",
       "      <th>analizo_amloc_quantile_max</th>\n",
       "      <th>analizo_amloc_sum</th>\n",
       "      <th>analizo_anpm_mean</th>\n",
       "      <th>...</th>\n",
       "      <th>analizo_total_loc</th>\n",
       "      <th>analizo_total_methods_per_abstract_class</th>\n",
       "      <th>analizo_total_modules</th>\n",
       "      <th>analizo_total_modules_with_defined_attributes</th>\n",
       "      <th>analizo_total_modules_with_defined_methods</th>\n",
       "      <th>analizo_total_nom</th>\n",
       "      <th>folder</th>\n",
       "      <th>type</th>\n",
       "      <th>type_original</th>\n",
       "      <th>wrong</th>\n",
       "    </tr>\n",
       "    <tr>\n",
       "      <th>type_wrong</th>\n",
       "      <th></th>\n",
       "      <th></th>\n",
       "      <th></th>\n",
       "      <th></th>\n",
       "      <th></th>\n",
       "      <th></th>\n",
       "      <th></th>\n",
       "      <th></th>\n",
       "      <th></th>\n",
       "      <th></th>\n",
       "      <th></th>\n",
       "      <th></th>\n",
       "      <th></th>\n",
       "      <th></th>\n",
       "      <th></th>\n",
       "      <th></th>\n",
       "      <th></th>\n",
       "      <th></th>\n",
       "      <th></th>\n",
       "      <th></th>\n",
       "      <th></th>\n",
       "    </tr>\n",
       "  </thead>\n",
       "  <tbody>\n",
       "    <tr>\n",
       "      <th>others</th>\n",
       "      <td>324</td>\n",
       "      <td>324</td>\n",
       "      <td>324</td>\n",
       "      <td>324</td>\n",
       "      <td>324</td>\n",
       "      <td>324</td>\n",
       "      <td>324</td>\n",
       "      <td>324</td>\n",
       "      <td>324</td>\n",
       "      <td>324</td>\n",
       "      <td>...</td>\n",
       "      <td>324</td>\n",
       "      <td>324</td>\n",
       "      <td>324</td>\n",
       "      <td>324</td>\n",
       "      <td>324</td>\n",
       "      <td>324</td>\n",
       "      <td>324</td>\n",
       "      <td>324</td>\n",
       "      <td>324</td>\n",
       "      <td>324</td>\n",
       "    </tr>\n",
       "    <tr>\n",
       "      <th>robo</th>\n",
       "      <td>49</td>\n",
       "      <td>49</td>\n",
       "      <td>49</td>\n",
       "      <td>49</td>\n",
       "      <td>49</td>\n",
       "      <td>49</td>\n",
       "      <td>49</td>\n",
       "      <td>49</td>\n",
       "      <td>49</td>\n",
       "      <td>49</td>\n",
       "      <td>...</td>\n",
       "      <td>49</td>\n",
       "      <td>49</td>\n",
       "      <td>49</td>\n",
       "      <td>49</td>\n",
       "      <td>49</td>\n",
       "      <td>49</td>\n",
       "      <td>49</td>\n",
       "      <td>49</td>\n",
       "      <td>49</td>\n",
       "      <td>49</td>\n",
       "    </tr>\n",
       "    <tr>\n",
       "      <th>wrong_others</th>\n",
       "      <td>8</td>\n",
       "      <td>8</td>\n",
       "      <td>8</td>\n",
       "      <td>8</td>\n",
       "      <td>8</td>\n",
       "      <td>8</td>\n",
       "      <td>8</td>\n",
       "      <td>8</td>\n",
       "      <td>8</td>\n",
       "      <td>8</td>\n",
       "      <td>...</td>\n",
       "      <td>8</td>\n",
       "      <td>8</td>\n",
       "      <td>8</td>\n",
       "      <td>8</td>\n",
       "      <td>8</td>\n",
       "      <td>8</td>\n",
       "      <td>8</td>\n",
       "      <td>8</td>\n",
       "      <td>8</td>\n",
       "      <td>8</td>\n",
       "    </tr>\n",
       "    <tr>\n",
       "      <th>wrong_robo</th>\n",
       "      <td>21</td>\n",
       "      <td>21</td>\n",
       "      <td>21</td>\n",
       "      <td>21</td>\n",
       "      <td>21</td>\n",
       "      <td>21</td>\n",
       "      <td>21</td>\n",
       "      <td>21</td>\n",
       "      <td>21</td>\n",
       "      <td>21</td>\n",
       "      <td>...</td>\n",
       "      <td>21</td>\n",
       "      <td>21</td>\n",
       "      <td>21</td>\n",
       "      <td>21</td>\n",
       "      <td>21</td>\n",
       "      <td>21</td>\n",
       "      <td>21</td>\n",
       "      <td>21</td>\n",
       "      <td>21</td>\n",
       "      <td>21</td>\n",
       "    </tr>\n",
       "  </tbody>\n",
       "</table>\n",
       "<p>4 rows × 61 columns</p>\n",
       "</div>"
      ],
      "text/plain": [
       "              analizo_acc_mean  analizo_acc_quantile_max  analizo_acc_sum  \\\n",
       "type_wrong                                                                  \n",
       "others                     324                       324              324   \n",
       "robo                        49                        49               49   \n",
       "wrong_others                 8                         8                8   \n",
       "wrong_robo                  21                        21               21   \n",
       "\n",
       "              analizo_accm_mean  analizo_accm_quantile_max  analizo_accm_sum  \\\n",
       "type_wrong                                                                     \n",
       "others                      324                        324               324   \n",
       "robo                         49                         49                49   \n",
       "wrong_others                  8                          8                 8   \n",
       "wrong_robo                   21                         21                21   \n",
       "\n",
       "              analizo_amloc_mean  analizo_amloc_quantile_max  \\\n",
       "type_wrong                                                     \n",
       "others                       324                         324   \n",
       "robo                          49                          49   \n",
       "wrong_others                   8                           8   \n",
       "wrong_robo                    21                          21   \n",
       "\n",
       "              analizo_amloc_sum  analizo_anpm_mean  ...    analizo_total_loc  \\\n",
       "type_wrong                                          ...                        \n",
       "others                      324                324  ...                  324   \n",
       "robo                         49                 49  ...                   49   \n",
       "wrong_others                  8                  8  ...                    8   \n",
       "wrong_robo                   21                 21  ...                   21   \n",
       "\n",
       "              analizo_total_methods_per_abstract_class  analizo_total_modules  \\\n",
       "type_wrong                                                                      \n",
       "others                                             324                    324   \n",
       "robo                                                49                     49   \n",
       "wrong_others                                         8                      8   \n",
       "wrong_robo                                          21                     21   \n",
       "\n",
       "              analizo_total_modules_with_defined_attributes  \\\n",
       "type_wrong                                                    \n",
       "others                                                  324   \n",
       "robo                                                     49   \n",
       "wrong_others                                              8   \n",
       "wrong_robo                                               21   \n",
       "\n",
       "              analizo_total_modules_with_defined_methods  analizo_total_nom  \\\n",
       "type_wrong                                                                    \n",
       "others                                               324                324   \n",
       "robo                                                  49                 49   \n",
       "wrong_others                                           8                  8   \n",
       "wrong_robo                                            21                 21   \n",
       "\n",
       "              folder  type  type_original  wrong  \n",
       "type_wrong                                        \n",
       "others           324   324            324    324  \n",
       "robo              49    49             49     49  \n",
       "wrong_others       8     8              8      8  \n",
       "wrong_robo        21    21             21     21  \n",
       "\n",
       "[4 rows x 61 columns]"
      ]
     },
     "execution_count": 152,
     "metadata": {},
     "output_type": "execute_result"
    }
   ],
   "source": [
    "df_merged.groupby('type_wrong').count()"
   ]
  },
  {
   "cell_type": "code",
   "execution_count": 156,
   "metadata": {},
   "outputs": [
    {
     "data": {
      "text/html": [
       "<div>\n",
       "<style scoped>\n",
       "    .dataframe tbody tr th:only-of-type {\n",
       "        vertical-align: middle;\n",
       "    }\n",
       "\n",
       "    .dataframe tbody tr th {\n",
       "        vertical-align: top;\n",
       "    }\n",
       "\n",
       "    .dataframe thead th {\n",
       "        text-align: right;\n",
       "    }\n",
       "</style>\n",
       "<table border=\"1\" class=\"dataframe\">\n",
       "  <thead>\n",
       "    <tr style=\"text-align: right;\">\n",
       "      <th></th>\n",
       "      <th>analizo_accm_mean</th>\n",
       "      <th>analizo_dit_mean</th>\n",
       "      <th>type_wrong</th>\n",
       "      <th>type</th>\n",
       "      <th>folder</th>\n",
       "    </tr>\n",
       "  </thead>\n",
       "  <tbody>\n",
       "    <tr>\n",
       "      <th>0</th>\n",
       "      <td>2.269142</td>\n",
       "      <td>0.391304</td>\n",
       "      <td>wrong_robo</td>\n",
       "      <td>robo</td>\n",
       "      <td>/home/se-metrics/root/proccesed1/2014_WorldCup_Ri-oneRobocup2014</td>\n",
       "    </tr>\n",
       "    <tr>\n",
       "      <th>58</th>\n",
       "      <td>1.353191</td>\n",
       "      <td>1.097345</td>\n",
       "      <td>wrong_robo</td>\n",
       "      <td>robo</td>\n",
       "      <td>/home/se-metrics/root/proccesed1/2001_WorldCup_FuzzyFoo-2001-source</td>\n",
       "    </tr>\n",
       "    <tr>\n",
       "      <th>79</th>\n",
       "      <td>1.416667</td>\n",
       "      <td>0.000000</td>\n",
       "      <td>wrong_robo</td>\n",
       "      <td>robo</td>\n",
       "      <td>/home/se-metrics/root/proccesed1/2014_WorldCup_tokA1_Binary</td>\n",
       "    </tr>\n",
       "    <tr>\n",
       "      <th>97</th>\n",
       "      <td>2.200852</td>\n",
       "      <td>0.189011</td>\n",
       "      <td>wrong_robo</td>\n",
       "      <td>robo</td>\n",
       "      <td>/home/se-metrics/root/proccesed1/2000_WorldCup_RC2000-oz</td>\n",
       "    </tr>\n",
       "    <tr>\n",
       "      <th>147</th>\n",
       "      <td>1.692579</td>\n",
       "      <td>0.180328</td>\n",
       "      <td>wrong_robo</td>\n",
       "      <td>robo</td>\n",
       "      <td>/home/se-metrics/root/proccesed1/1998_WorldCup_ath97</td>\n",
       "    </tr>\n",
       "    <tr>\n",
       "      <th>174</th>\n",
       "      <td>2.111088</td>\n",
       "      <td>0.385714</td>\n",
       "      <td>wrong_robo</td>\n",
       "      <td>robo</td>\n",
       "      <td>/home/se-metrics/root/proccesed1/2016_WorldCup_HfutEngine2016</td>\n",
       "    </tr>\n",
       "    <tr>\n",
       "      <th>185</th>\n",
       "      <td>1.232925</td>\n",
       "      <td>0.435897</td>\n",
       "      <td>wrong_robo</td>\n",
       "      <td>robo</td>\n",
       "      <td>/home/se-metrics/root/proccesed1/2014_WorldCup_UFSJ2DRobocup2014</td>\n",
       "    </tr>\n",
       "    <tr>\n",
       "      <th>231</th>\n",
       "      <td>2.251228</td>\n",
       "      <td>0.385714</td>\n",
       "      <td>wrong_robo</td>\n",
       "      <td>robo</td>\n",
       "      <td>/home/se-metrics/root/proccesed1/2016_WorldCup_ITAndroids</td>\n",
       "    </tr>\n",
       "    <tr>\n",
       "      <th>245</th>\n",
       "      <td>1.915751</td>\n",
       "      <td>1.218126</td>\n",
       "      <td>wrong_robo</td>\n",
       "      <td>robo</td>\n",
       "      <td>/home/se-metrics/root/proccesed1/2007_WorldCup_kotug</td>\n",
       "    </tr>\n",
       "    <tr>\n",
       "      <th>302</th>\n",
       "      <td>1.219294</td>\n",
       "      <td>0.430108</td>\n",
       "      <td>wrong_robo</td>\n",
       "      <td>robo</td>\n",
       "      <td>/home/se-metrics/root/proccesed1/2014_WorldCup_FCP_GPR_2014Robocup2014</td>\n",
       "    </tr>\n",
       "    <tr>\n",
       "      <th>304</th>\n",
       "      <td>1.817981</td>\n",
       "      <td>0.534799</td>\n",
       "      <td>wrong_robo</td>\n",
       "      <td>robo</td>\n",
       "      <td>/home/se-metrics/root/proccesed1/2001_WorldCup_DirtyDozenSource</td>\n",
       "    </tr>\n",
       "    <tr>\n",
       "      <th>315</th>\n",
       "      <td>1.949495</td>\n",
       "      <td>0.606061</td>\n",
       "      <td>wrong_robo</td>\n",
       "      <td>robo</td>\n",
       "      <td>/home/se-metrics/root/proccesed1/1999_WorldCup_CoachRC99</td>\n",
       "    </tr>\n",
       "    <tr>\n",
       "      <th>316</th>\n",
       "      <td>2.000000</td>\n",
       "      <td>0.000000</td>\n",
       "      <td>wrong_robo</td>\n",
       "      <td>robo</td>\n",
       "      <td>/home/se-metrics/root/proccesed1/1997_WorldCup_agent</td>\n",
       "    </tr>\n",
       "    <tr>\n",
       "      <th>338</th>\n",
       "      <td>5.119983</td>\n",
       "      <td>0.000000</td>\n",
       "      <td>wrong_robo</td>\n",
       "      <td>robo</td>\n",
       "      <td>/home/se-metrics/root/proccesed1/1997_WorldCup_CMUnited97-source</td>\n",
       "    </tr>\n",
       "    <tr>\n",
       "      <th>353</th>\n",
       "      <td>2.286960</td>\n",
       "      <td>0.391304</td>\n",
       "      <td>wrong_robo</td>\n",
       "      <td>robo</td>\n",
       "      <td>/home/se-metrics/root/proccesed1/2016_WorldCup_FURY</td>\n",
       "    </tr>\n",
       "    <tr>\n",
       "      <th>355</th>\n",
       "      <td>2.142985</td>\n",
       "      <td>0.110092</td>\n",
       "      <td>wrong_robo</td>\n",
       "      <td>robo</td>\n",
       "      <td>/home/se-metrics/root/proccesed1/2012_ChinaOpens_lntu_taac2012</td>\n",
       "    </tr>\n",
       "    <tr>\n",
       "      <th>374</th>\n",
       "      <td>0.641744</td>\n",
       "      <td>0.306818</td>\n",
       "      <td>wrong_robo</td>\n",
       "      <td>robo</td>\n",
       "      <td>/home/se-metrics/root/proccesed1/2014_LARC_ufsj_2d</td>\n",
       "    </tr>\n",
       "    <tr>\n",
       "      <th>419</th>\n",
       "      <td>2.386943</td>\n",
       "      <td>0.385714</td>\n",
       "      <td>wrong_robo</td>\n",
       "      <td>robo</td>\n",
       "      <td>/home/se-metrics/root/proccesed1/2012_ChinaOpens_bjut</td>\n",
       "    </tr>\n",
       "    <tr>\n",
       "      <th>427</th>\n",
       "      <td>1.692579</td>\n",
       "      <td>0.180328</td>\n",
       "      <td>wrong_robo</td>\n",
       "      <td>robo</td>\n",
       "      <td>/home/se-metrics/root/proccesed1/1997_WorldCup_ath97</td>\n",
       "    </tr>\n",
       "    <tr>\n",
       "      <th>453</th>\n",
       "      <td>2.436741</td>\n",
       "      <td>0.535714</td>\n",
       "      <td>wrong_robo</td>\n",
       "      <td>robo</td>\n",
       "      <td>/home/se-metrics/root/proccesed1/1999_WorldCup_kit0726v4</td>\n",
       "    </tr>\n",
       "    <tr>\n",
       "      <th>525</th>\n",
       "      <td>1.852958</td>\n",
       "      <td>0.280000</td>\n",
       "      <td>wrong_robo</td>\n",
       "      <td>robo</td>\n",
       "      <td>/home/se-metrics/root/proccesed1/1998_WorldCup_Kappa_v0</td>\n",
       "    </tr>\n",
       "    <tr>\n",
       "      <th>87</th>\n",
       "      <td>2.000000</td>\n",
       "      <td>0.000000</td>\n",
       "      <td>wrong_others</td>\n",
       "      <td>others</td>\n",
       "      <td>ncnn-mtcnn-master</td>\n",
       "    </tr>\n",
       "    <tr>\n",
       "      <th>243</th>\n",
       "      <td>2.004795</td>\n",
       "      <td>0.731834</td>\n",
       "      <td>wrong_others</td>\n",
       "      <td>others</td>\n",
       "      <td>lpub3d-master</td>\n",
       "    </tr>\n",
       "    <tr>\n",
       "      <th>244</th>\n",
       "      <td>3.827895</td>\n",
       "      <td>0.031250</td>\n",
       "      <td>wrong_others</td>\n",
       "      <td>others</td>\n",
       "      <td>Algorithms-master</td>\n",
       "    </tr>\n",
       "    <tr>\n",
       "      <th>305</th>\n",
       "      <td>1.237908</td>\n",
       "      <td>0.600000</td>\n",
       "      <td>wrong_others</td>\n",
       "      <td>others</td>\n",
       "      <td>node-gd-master</td>\n",
       "    </tr>\n",
       "    <tr>\n",
       "      <th>362</th>\n",
       "      <td>2.222003</td>\n",
       "      <td>0.274194</td>\n",
       "      <td>wrong_others</td>\n",
       "      <td>others</td>\n",
       "      <td>winyl-master</td>\n",
       "    </tr>\n",
       "    <tr>\n",
       "      <th>365</th>\n",
       "      <td>2.407977</td>\n",
       "      <td>0.356522</td>\n",
       "      <td>wrong_others</td>\n",
       "      <td>others</td>\n",
       "      <td>BatchEncoder-master</td>\n",
       "    </tr>\n",
       "    <tr>\n",
       "      <th>385</th>\n",
       "      <td>4.031732</td>\n",
       "      <td>0.401786</td>\n",
       "      <td>wrong_others</td>\n",
       "      <td>others</td>\n",
       "      <td>SFBAudioEngine-master</td>\n",
       "    </tr>\n",
       "    <tr>\n",
       "      <th>410</th>\n",
       "      <td>1.543111</td>\n",
       "      <td>0.000000</td>\n",
       "      <td>wrong_others</td>\n",
       "      <td>others</td>\n",
       "      <td>LowkeyNW-master</td>\n",
       "    </tr>\n",
       "  </tbody>\n",
       "</table>\n",
       "</div>"
      ],
      "text/plain": [
       "     analizo_accm_mean  analizo_dit_mean    type_wrong    type  \\\n",
       "0             2.269142          0.391304    wrong_robo    robo   \n",
       "58            1.353191          1.097345    wrong_robo    robo   \n",
       "79            1.416667          0.000000    wrong_robo    robo   \n",
       "97            2.200852          0.189011    wrong_robo    robo   \n",
       "147           1.692579          0.180328    wrong_robo    robo   \n",
       "174           2.111088          0.385714    wrong_robo    robo   \n",
       "185           1.232925          0.435897    wrong_robo    robo   \n",
       "231           2.251228          0.385714    wrong_robo    robo   \n",
       "245           1.915751          1.218126    wrong_robo    robo   \n",
       "302           1.219294          0.430108    wrong_robo    robo   \n",
       "304           1.817981          0.534799    wrong_robo    robo   \n",
       "315           1.949495          0.606061    wrong_robo    robo   \n",
       "316           2.000000          0.000000    wrong_robo    robo   \n",
       "338           5.119983          0.000000    wrong_robo    robo   \n",
       "353           2.286960          0.391304    wrong_robo    robo   \n",
       "355           2.142985          0.110092    wrong_robo    robo   \n",
       "374           0.641744          0.306818    wrong_robo    robo   \n",
       "419           2.386943          0.385714    wrong_robo    robo   \n",
       "427           1.692579          0.180328    wrong_robo    robo   \n",
       "453           2.436741          0.535714    wrong_robo    robo   \n",
       "525           1.852958          0.280000    wrong_robo    robo   \n",
       "87            2.000000          0.000000  wrong_others  others   \n",
       "243           2.004795          0.731834  wrong_others  others   \n",
       "244           3.827895          0.031250  wrong_others  others   \n",
       "305           1.237908          0.600000  wrong_others  others   \n",
       "362           2.222003          0.274194  wrong_others  others   \n",
       "365           2.407977          0.356522  wrong_others  others   \n",
       "385           4.031732          0.401786  wrong_others  others   \n",
       "410           1.543111          0.000000  wrong_others  others   \n",
       "\n",
       "                                                                     folder  \n",
       "0          /home/se-metrics/root/proccesed1/2014_WorldCup_Ri-oneRobocup2014  \n",
       "58      /home/se-metrics/root/proccesed1/2001_WorldCup_FuzzyFoo-2001-source  \n",
       "79              /home/se-metrics/root/proccesed1/2014_WorldCup_tokA1_Binary  \n",
       "97                 /home/se-metrics/root/proccesed1/2000_WorldCup_RC2000-oz  \n",
       "147                    /home/se-metrics/root/proccesed1/1998_WorldCup_ath97  \n",
       "174           /home/se-metrics/root/proccesed1/2016_WorldCup_HfutEngine2016  \n",
       "185        /home/se-metrics/root/proccesed1/2014_WorldCup_UFSJ2DRobocup2014  \n",
       "231               /home/se-metrics/root/proccesed1/2016_WorldCup_ITAndroids  \n",
       "245                    /home/se-metrics/root/proccesed1/2007_WorldCup_kotug  \n",
       "302  /home/se-metrics/root/proccesed1/2014_WorldCup_FCP_GPR_2014Robocup2014  \n",
       "304         /home/se-metrics/root/proccesed1/2001_WorldCup_DirtyDozenSource  \n",
       "315                /home/se-metrics/root/proccesed1/1999_WorldCup_CoachRC99  \n",
       "316                    /home/se-metrics/root/proccesed1/1997_WorldCup_agent  \n",
       "338        /home/se-metrics/root/proccesed1/1997_WorldCup_CMUnited97-source  \n",
       "353                     /home/se-metrics/root/proccesed1/2016_WorldCup_FURY  \n",
       "355          /home/se-metrics/root/proccesed1/2012_ChinaOpens_lntu_taac2012  \n",
       "374                      /home/se-metrics/root/proccesed1/2014_LARC_ufsj_2d  \n",
       "419                   /home/se-metrics/root/proccesed1/2012_ChinaOpens_bjut  \n",
       "427                    /home/se-metrics/root/proccesed1/1997_WorldCup_ath97  \n",
       "453                /home/se-metrics/root/proccesed1/1999_WorldCup_kit0726v4  \n",
       "525                 /home/se-metrics/root/proccesed1/1998_WorldCup_Kappa_v0  \n",
       "87                                                        ncnn-mtcnn-master  \n",
       "243                                                           lpub3d-master  \n",
       "244                                                       Algorithms-master  \n",
       "305                                                          node-gd-master  \n",
       "362                                                            winyl-master  \n",
       "365                                                     BatchEncoder-master  \n",
       "385                                                   SFBAudioEngine-master  \n",
       "410                                                         LowkeyNW-master  "
      ]
     },
     "execution_count": 156,
     "metadata": {},
     "output_type": "execute_result"
    }
   ],
   "source": [
    "pd.set_option('max_colwidth', 800)\n",
    "\n",
    "df_merged[df_merged['wrong']==True][['analizo_accm_mean','analizo_dit_mean','type_wrong','type','folder']]"
   ]
  },
  {
   "cell_type": "code",
   "execution_count": 157,
   "metadata": {},
   "outputs": [
    {
     "data": {
      "text/plain": [
       "<seaborn.axisgrid.FacetGrid at 0x7fc2d2f1ccd0>"
      ]
     },
     "execution_count": 157,
     "metadata": {},
     "output_type": "execute_result"
    },
    {
     "data": {
      "image/png": "[encoded data removed]",
      "text/plain": [
       "<Figure size 1031.11x576 with 1 Axes>"
      ]
     },
     "metadata": {
      "needs_background": "light"
     },
     "output_type": "display_data"
    }
   ],
   "source": [
    "fg = sns.FacetGrid(data=df_merged, hue='type_wrong',  aspect=1.61,height=8)\n",
    "fg.map(plt.scatter, 'analizo_accm_mean','analizo_dit_mean',).add_legend()"
   ]
  },
  {
   "cell_type": "code",
   "execution_count": 158,
   "metadata": {},
   "outputs": [],
   "source": [
    "import pickle"
   ]
  },
  {
   "cell_type": "code",
   "execution_count": 159,
   "metadata": {},
   "outputs": [],
   "source": [
    "pickle.dump(model,open('dump','w'))"
   ]
  },
  {
   "cell_type": "code",
   "execution_count": 160,
   "metadata": {},
   "outputs": [],
   "source": [
    "type_class =  'Security'\n",
    "GH_df_reduced.loc[GH_df_reduced['type_original']==type_class,'type' ] = type_class"
   ]
  },
  {
   "cell_type": "code",
   "execution_count": 161,
   "metadata": {},
   "outputs": [
    {
     "data": {
      "text/html": [
       "<div>\n",
       "<style scoped>\n",
       "    .dataframe tbody tr th:only-of-type {\n",
       "        vertical-align: middle;\n",
       "    }\n",
       "\n",
       "    .dataframe tbody tr th {\n",
       "        vertical-align: top;\n",
       "    }\n",
       "\n",
       "    .dataframe thead th {\n",
       "        text-align: right;\n",
       "    }\n",
       "</style>\n",
       "<table border=\"1\" class=\"dataframe\">\n",
       "  <thead>\n",
       "    <tr style=\"text-align: right;\">\n",
       "      <th></th>\n",
       "      <th>analizo_npa_quantile_max</th>\n",
       "      <th>analizo_mmloc_sum</th>\n",
       "      <th>folder</th>\n",
       "      <th>analizo_lcom4_quantile_max</th>\n",
       "      <th>analizo_rfc_sum</th>\n",
       "      <th>analizo_dit_sum</th>\n",
       "      <th>analizo_dit_mean</th>\n",
       "      <th>analizo_nom_sum</th>\n",
       "      <th>analizo_noc_mean</th>\n",
       "      <th>analizo_cbo_mean</th>\n",
       "      <th>...</th>\n",
       "      <th>analizo_noc_sum</th>\n",
       "      <th>analizo_sc_quantile_max</th>\n",
       "      <th>analizo_amloc_mean</th>\n",
       "      <th>analizo_acc_mean</th>\n",
       "      <th>analizo_amloc_sum</th>\n",
       "      <th>analizo_total_loc</th>\n",
       "      <th>analizo_cbo_quantile_max</th>\n",
       "      <th>analizo_total_nom</th>\n",
       "      <th>analizo_rfc_mean</th>\n",
       "      <th>analizo_total_eloc</th>\n",
       "    </tr>\n",
       "    <tr>\n",
       "      <th>type</th>\n",
       "      <th></th>\n",
       "      <th></th>\n",
       "      <th></th>\n",
       "      <th></th>\n",
       "      <th></th>\n",
       "      <th></th>\n",
       "      <th></th>\n",
       "      <th></th>\n",
       "      <th></th>\n",
       "      <th></th>\n",
       "      <th></th>\n",
       "      <th></th>\n",
       "      <th></th>\n",
       "      <th></th>\n",
       "      <th></th>\n",
       "      <th></th>\n",
       "      <th></th>\n",
       "      <th></th>\n",
       "      <th></th>\n",
       "      <th></th>\n",
       "      <th></th>\n",
       "    </tr>\n",
       "  </thead>\n",
       "  <tbody>\n",
       "    <tr>\n",
       "      <th>Security</th>\n",
       "      <td>60</td>\n",
       "      <td>60</td>\n",
       "      <td>60</td>\n",
       "      <td>60</td>\n",
       "      <td>60</td>\n",
       "      <td>60</td>\n",
       "      <td>60</td>\n",
       "      <td>60</td>\n",
       "      <td>60</td>\n",
       "      <td>60</td>\n",
       "      <td>...</td>\n",
       "      <td>60</td>\n",
       "      <td>60</td>\n",
       "      <td>60</td>\n",
       "      <td>60</td>\n",
       "      <td>60</td>\n",
       "      <td>60</td>\n",
       "      <td>60</td>\n",
       "      <td>60</td>\n",
       "      <td>60</td>\n",
       "      <td>60</td>\n",
       "    </tr>\n",
       "    <tr>\n",
       "      <th>others</th>\n",
       "      <td>272</td>\n",
       "      <td>272</td>\n",
       "      <td>272</td>\n",
       "      <td>272</td>\n",
       "      <td>272</td>\n",
       "      <td>272</td>\n",
       "      <td>272</td>\n",
       "      <td>272</td>\n",
       "      <td>272</td>\n",
       "      <td>272</td>\n",
       "      <td>...</td>\n",
       "      <td>272</td>\n",
       "      <td>272</td>\n",
       "      <td>272</td>\n",
       "      <td>272</td>\n",
       "      <td>272</td>\n",
       "      <td>272</td>\n",
       "      <td>272</td>\n",
       "      <td>272</td>\n",
       "      <td>272</td>\n",
       "      <td>272</td>\n",
       "    </tr>\n",
       "  </tbody>\n",
       "</table>\n",
       "<p>2 rows × 59 columns</p>\n",
       "</div>"
      ],
      "text/plain": [
       "          analizo_npa_quantile_max  analizo_mmloc_sum  folder  \\\n",
       "type                                                            \n",
       "Security                        60                 60      60   \n",
       "others                         272                272     272   \n",
       "\n",
       "          analizo_lcom4_quantile_max  analizo_rfc_sum  analizo_dit_sum  \\\n",
       "type                                                                     \n",
       "Security                          60               60               60   \n",
       "others                           272              272              272   \n",
       "\n",
       "          analizo_dit_mean  analizo_nom_sum  analizo_noc_mean  \\\n",
       "type                                                            \n",
       "Security                60               60                60   \n",
       "others                 272              272               272   \n",
       "\n",
       "          analizo_cbo_mean         ...          analizo_noc_sum  \\\n",
       "type                               ...                            \n",
       "Security                60         ...                       60   \n",
       "others                 272         ...                      272   \n",
       "\n",
       "          analizo_sc_quantile_max  analizo_amloc_mean  analizo_acc_mean  \\\n",
       "type                                                                      \n",
       "Security                       60                  60                60   \n",
       "others                        272                 272               272   \n",
       "\n",
       "          analizo_amloc_sum  analizo_total_loc  analizo_cbo_quantile_max  \\\n",
       "type                                                                       \n",
       "Security                 60                 60                        60   \n",
       "others                  272                272                       272   \n",
       "\n",
       "          analizo_total_nom  analizo_rfc_mean  analizo_total_eloc  \n",
       "type                                                               \n",
       "Security                 60                60                  60  \n",
       "others                  272               272                 272  \n",
       "\n",
       "[2 rows x 59 columns]"
      ]
     },
     "execution_count": 161,
     "metadata": {},
     "output_type": "execute_result"
    }
   ],
   "source": [
    "GH_df_reduced.groupby('type').count()"
   ]
  },
  {
   "cell_type": "code",
   "execution_count": 162,
   "metadata": {},
   "outputs": [],
   "source": [
    "X = GH_df_reduced.select_dtypes(include=[np.number])"
   ]
  },
  {
   "cell_type": "code",
   "execution_count": 163,
   "metadata": {},
   "outputs": [
    {
     "data": {
      "text/plain": [
       "0.8313253012048193"
      ]
     },
     "execution_count": 163,
     "metadata": {},
     "output_type": "execute_result"
    }
   ],
   "source": [
    "Y = GH_df_reduced.loc[:,'type']\n",
    "# feature extraction\n",
    "model = LogisticRegression()\n",
    "from sklearn.model_selection import train_test_split\n",
    "X_train, X_test, y_train, y_test = train_test_split(X, Y, test_size=0.2)\n",
    "fitl= model.fit(X,Y)\n",
    "model.score(X,Y)"
   ]
  },
  {
   "cell_type": "code",
   "execution_count": 164,
   "metadata": {},
   "outputs": [
    {
     "name": "stdout",
     "output_type": "stream",
     "text": [
      "Num Features: 3\n",
      "Selected Features: [False False False False False  True False False  True False False False\n",
      " False False False False False False False False False False False False\n",
      " False False  True False False False False False False False False False\n",
      " False False False False False False False False False False False False\n",
      " False False False False False False False False False]\n",
      "Feature Ranking: [16 52 23 36 49  1 47 34  1 17 21 30 40 45  5  9 37  7 48 51 15 11 10 18\n",
      " 44  6  1 33 19 25 22 38 39 27 35 20 28 32 41 31 42  4  3 50 26 29 12 24\n",
      " 43 13  2 53 54 14 46  8 55]\n"
     ]
    },
    {
     "data": {
      "text/plain": [
       "Index([u'analizo_dit_mean', u'analizo_cbo_mean', u'analizo_total_cof'], dtype='object')"
      ]
     },
     "execution_count": 164,
     "metadata": {},
     "output_type": "execute_result"
    }
   ],
   "source": [
    "rfe = RFE(model, 3)\n",
    "fit = rfe.fit(X, Y)\n",
    "print(\"Num Features: %d\") % fit.n_features_\n",
    "print(\"Selected Features: %s\") % fit.support_\n",
    "print(\"Feature Ranking: %s\") % fit.ranking_\n",
    "X.columns[fit.support_]"
   ]
  },
  {
   "cell_type": "code",
   "execution_count": 165,
   "metadata": {},
   "outputs": [],
   "source": [
    "pred = model.predict(X)"
   ]
  },
  {
   "cell_type": "code",
   "execution_count": 166,
   "metadata": {},
   "outputs": [
    {
     "data": {
      "text/html": [
       "<div>\n",
       "<style scoped>\n",
       "    .dataframe tbody tr th:only-of-type {\n",
       "        vertical-align: middle;\n",
       "    }\n",
       "\n",
       "    .dataframe tbody tr th {\n",
       "        vertical-align: top;\n",
       "    }\n",
       "\n",
       "    .dataframe thead th {\n",
       "        text-align: right;\n",
       "    }\n",
       "</style>\n",
       "<table border=\"1\" class=\"dataframe\">\n",
       "  <thead>\n",
       "    <tr style=\"text-align: right;\">\n",
       "      <th></th>\n",
       "      <th>analizo_npa_quantile_max</th>\n",
       "      <th>analizo_mmloc_sum</th>\n",
       "      <th>folder</th>\n",
       "      <th>analizo_lcom4_quantile_max</th>\n",
       "      <th>analizo_rfc_sum</th>\n",
       "      <th>analizo_dit_sum</th>\n",
       "      <th>analizo_dit_mean</th>\n",
       "      <th>analizo_nom_sum</th>\n",
       "      <th>analizo_noc_mean</th>\n",
       "      <th>analizo_cbo_mean</th>\n",
       "      <th>...</th>\n",
       "      <th>analizo_amloc_mean</th>\n",
       "      <th>analizo_acc_mean</th>\n",
       "      <th>analizo_amloc_sum</th>\n",
       "      <th>analizo_total_loc</th>\n",
       "      <th>analizo_cbo_quantile_max</th>\n",
       "      <th>analizo_total_nom</th>\n",
       "      <th>analizo_rfc_mean</th>\n",
       "      <th>analizo_total_eloc</th>\n",
       "      <th>type</th>\n",
       "      <th>wrong</th>\n",
       "    </tr>\n",
       "    <tr>\n",
       "      <th>type_wrong</th>\n",
       "      <th></th>\n",
       "      <th></th>\n",
       "      <th></th>\n",
       "      <th></th>\n",
       "      <th></th>\n",
       "      <th></th>\n",
       "      <th></th>\n",
       "      <th></th>\n",
       "      <th></th>\n",
       "      <th></th>\n",
       "      <th></th>\n",
       "      <th></th>\n",
       "      <th></th>\n",
       "      <th></th>\n",
       "      <th></th>\n",
       "      <th></th>\n",
       "      <th></th>\n",
       "      <th></th>\n",
       "      <th></th>\n",
       "      <th></th>\n",
       "      <th></th>\n",
       "    </tr>\n",
       "  </thead>\n",
       "  <tbody>\n",
       "    <tr>\n",
       "      <th>Security</th>\n",
       "      <td>7</td>\n",
       "      <td>7</td>\n",
       "      <td>7</td>\n",
       "      <td>7</td>\n",
       "      <td>7</td>\n",
       "      <td>7</td>\n",
       "      <td>7</td>\n",
       "      <td>7</td>\n",
       "      <td>7</td>\n",
       "      <td>7</td>\n",
       "      <td>...</td>\n",
       "      <td>7</td>\n",
       "      <td>7</td>\n",
       "      <td>7</td>\n",
       "      <td>7</td>\n",
       "      <td>7</td>\n",
       "      <td>7</td>\n",
       "      <td>7</td>\n",
       "      <td>7</td>\n",
       "      <td>7</td>\n",
       "      <td>7</td>\n",
       "    </tr>\n",
       "    <tr>\n",
       "      <th>others</th>\n",
       "      <td>269</td>\n",
       "      <td>269</td>\n",
       "      <td>269</td>\n",
       "      <td>269</td>\n",
       "      <td>269</td>\n",
       "      <td>269</td>\n",
       "      <td>269</td>\n",
       "      <td>269</td>\n",
       "      <td>269</td>\n",
       "      <td>269</td>\n",
       "      <td>...</td>\n",
       "      <td>269</td>\n",
       "      <td>269</td>\n",
       "      <td>269</td>\n",
       "      <td>269</td>\n",
       "      <td>269</td>\n",
       "      <td>269</td>\n",
       "      <td>269</td>\n",
       "      <td>269</td>\n",
       "      <td>269</td>\n",
       "      <td>269</td>\n",
       "    </tr>\n",
       "    <tr>\n",
       "      <th>wrong_Security</th>\n",
       "      <td>53</td>\n",
       "      <td>53</td>\n",
       "      <td>53</td>\n",
       "      <td>53</td>\n",
       "      <td>53</td>\n",
       "      <td>53</td>\n",
       "      <td>53</td>\n",
       "      <td>53</td>\n",
       "      <td>53</td>\n",
       "      <td>53</td>\n",
       "      <td>...</td>\n",
       "      <td>53</td>\n",
       "      <td>53</td>\n",
       "      <td>53</td>\n",
       "      <td>53</td>\n",
       "      <td>53</td>\n",
       "      <td>53</td>\n",
       "      <td>53</td>\n",
       "      <td>53</td>\n",
       "      <td>53</td>\n",
       "      <td>53</td>\n",
       "    </tr>\n",
       "    <tr>\n",
       "      <th>wrong_others</th>\n",
       "      <td>3</td>\n",
       "      <td>3</td>\n",
       "      <td>3</td>\n",
       "      <td>3</td>\n",
       "      <td>3</td>\n",
       "      <td>3</td>\n",
       "      <td>3</td>\n",
       "      <td>3</td>\n",
       "      <td>3</td>\n",
       "      <td>3</td>\n",
       "      <td>...</td>\n",
       "      <td>3</td>\n",
       "      <td>3</td>\n",
       "      <td>3</td>\n",
       "      <td>3</td>\n",
       "      <td>3</td>\n",
       "      <td>3</td>\n",
       "      <td>3</td>\n",
       "      <td>3</td>\n",
       "      <td>3</td>\n",
       "      <td>3</td>\n",
       "    </tr>\n",
       "  </tbody>\n",
       "</table>\n",
       "<p>4 rows × 61 columns</p>\n",
       "</div>"
      ],
      "text/plain": [
       "                analizo_npa_quantile_max  analizo_mmloc_sum  folder  \\\n",
       "type_wrong                                                            \n",
       "Security                               7                  7       7   \n",
       "others                               269                269     269   \n",
       "wrong_Security                        53                 53      53   \n",
       "wrong_others                           3                  3       3   \n",
       "\n",
       "                analizo_lcom4_quantile_max  analizo_rfc_sum  analizo_dit_sum  \\\n",
       "type_wrong                                                                     \n",
       "Security                                 7                7                7   \n",
       "others                                 269              269              269   \n",
       "wrong_Security                          53               53               53   \n",
       "wrong_others                             3                3                3   \n",
       "\n",
       "                analizo_dit_mean  analizo_nom_sum  analizo_noc_mean  \\\n",
       "type_wrong                                                            \n",
       "Security                       7                7                 7   \n",
       "others                       269              269               269   \n",
       "wrong_Security                53               53                53   \n",
       "wrong_others                   3                3                 3   \n",
       "\n",
       "                analizo_cbo_mean  ...    analizo_amloc_mean  analizo_acc_mean  \\\n",
       "type_wrong                        ...                                           \n",
       "Security                       7  ...                     7                 7   \n",
       "others                       269  ...                   269               269   \n",
       "wrong_Security                53  ...                    53                53   \n",
       "wrong_others                   3  ...                     3                 3   \n",
       "\n",
       "                analizo_amloc_sum  analizo_total_loc  \\\n",
       "type_wrong                                             \n",
       "Security                        7                  7   \n",
       "others                        269                269   \n",
       "wrong_Security                 53                 53   \n",
       "wrong_others                    3                  3   \n",
       "\n",
       "                analizo_cbo_quantile_max  analizo_total_nom  analizo_rfc_mean  \\\n",
       "type_wrong                                                                      \n",
       "Security                               7                  7                 7   \n",
       "others                               269                269               269   \n",
       "wrong_Security                        53                 53                53   \n",
       "wrong_others                           3                  3                 3   \n",
       "\n",
       "                analizo_total_eloc  type  wrong  \n",
       "type_wrong                                       \n",
       "Security                         7     7      7  \n",
       "others                         269   269    269  \n",
       "wrong_Security                  53    53     53  \n",
       "wrong_others                     3     3      3  \n",
       "\n",
       "[4 rows x 61 columns]"
      ]
     },
     "execution_count": 166,
     "metadata": {},
     "output_type": "execute_result"
    }
   ],
   "source": [
    "GH_df_reduced_type = set_wrong_type(pred,Y,GH_df_reduced,'Security')\n",
    "GH_df_reduced_type.groupby('type_wrong').count()"
   ]
  },
  {
   "cell_type": "code",
   "execution_count": 168,
   "metadata": {},
   "outputs": [
    {
     "data": {
      "text/plain": [
       "<seaborn.axisgrid.FacetGrid at 0x7fc2d2f1cb50>"
      ]
     },
     "execution_count": 168,
     "metadata": {},
     "output_type": "execute_result"
    },
    {
     "data": {
      "image/png": "[encoded data removed]",
      "text/plain": [
       "<Figure size 1040.36x576 with 1 Axes>"
      ]
     },
     "metadata": {
      "needs_background": "light"
     },
     "output_type": "display_data"
    }
   ],
   "source": [
    "fg = sns.FacetGrid(data=GH_df_reduced_type, hue='type_wrong',  aspect=1.61,height=8)\n",
    "fg.map(plt.scatter, 'analizo_dit_mean','analizo_cbo_mean',).add_legend()"
   ]
  },
  {
   "cell_type": "code",
   "execution_count": null,
   "metadata": {},
   "outputs": [],
   "source": []
  },
  {
   "cell_type": "code",
   "execution_count": null,
   "metadata": {},
   "outputs": [],
   "source": []
  }
 ],
 "metadata": {
  "kernelspec": {
   "display_name": "Python 2",
   "language": "python",
   "name": "python2"
  },
  "language_info": {
   "codemirror_mode": {
    "name": "ipython",
    "version": 2
   },
   "file_extension": ".py",
   "mimetype": "text/x-python",
   "name": "python",
   "nbconvert_exporter": "python",
   "pygments_lexer": "ipython2",
   "version": "2.7.12"
  }
 },
 "nbformat": 4,
 "nbformat_minor": 1
}
