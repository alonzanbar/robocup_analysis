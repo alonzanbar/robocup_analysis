{
 "cells": [
  {
   "cell_type": "code",
   "execution_count": 3,
   "metadata": {},
   "outputs": [],
   "source": [
    "import matplotlib\n",
    "import  pandas as pd\n",
    "import os\n",
    "import matplotlib.pyplot as plt\n",
    "import numpy as np\n",
    "import seaborn as sns\n",
    "import re"
   ]
  },
  {
   "cell_type": "markdown",
   "metadata": {},
   "source": [
    "## Initilization"
   ]
  },
  {
   "cell_type": "code",
   "execution_count": 309,
   "metadata": {},
   "outputs": [],
   "source": [
    "regexp_stat = re.compile(r'analizo_(.)*_(mean|sum)')\n",
    "regexp_total = re.compile(r'analizo_total_(.)*')\n",
    "rep_df_2d = pd.read_csv('data/robo2d-18_09_2018.csv')\n",
    "rep_df_3d = pd.read_csv('data/3D-analysis-16_09_2018.csv')\n",
    "#rep_df = pd.concat([rep_df_2d,rep_df_3d],sort=False)\n",
    "code_df = rep_df_2d[rep_df_2d['is_source']==True]"
   ]
  },
  {
   "cell_type": "code",
   "execution_count": 310,
   "metadata": {},
   "outputs": [],
   "source": [
    "code_df = code_df.rename(index=str,columns={'new_dir':'folder'})\n",
    "code_df_reduced = code_df[[c for c in code_df.columns if regexp_stat.search(c) or regexp_total.search(c) or c == 'folder']].copy()\n",
    "code_df_reduced['type_original'] = 'robo'\n",
    "code_df_reduced.dropna(inplace=True)"
   ]
  },
  {
   "cell_type": "code",
   "execution_count": 363,
   "metadata": {},
   "outputs": [],
   "source": [
    "df1 = pd.read_csv(os.getcwd() +\"/data/git-hub-20_09_2018code_analysis__summery_report.csv\")\n",
    "df2 = pd.read_csv(os.getcwd() +\"/data/anac-20_09_2018code_analysis__summery_report.csv\")\n",
    "df2['type'] = 'anac'\n",
    "df_all = pd.concat([df1,df2])"
   ]
  },
  {
   "cell_type": "code",
   "execution_count": 364,
   "metadata": {},
   "outputs": [],
   "source": [
    "GH_df = df_all[[c for c in df_all.columns if regexp_stat.search(c) or regexp_total.search(c) or c in ['folder','type']]].copy()\n",
    "GH_df.rename(columns={'type':'type_original'},inplace=True)"
   ]
  },
  {
   "cell_type": "code",
   "execution_count": 365,
   "metadata": {},
   "outputs": [],
   "source": [
    "GH_df_group_by = GH_df.groupby('type_original').count()"
   ]
  },
  {
   "cell_type": "code",
   "execution_count": 366,
   "metadata": {},
   "outputs": [],
   "source": [
    "GH_df_group_by_50 = GH_df_group_by[GH_df_group_by.folder>20]"
   ]
  },
  {
   "cell_type": "code",
   "execution_count": 367,
   "metadata": {},
   "outputs": [],
   "source": [
    "GH_df = GH_df[GH_df['type_original'].isin(GH_df_group_by_50.index.values)]"
   ]
  },
  {
   "cell_type": "markdown",
   "metadata": {},
   "source": [
    "## Removing ACCM outliners "
   ]
  },
  {
   "cell_type": "code",
   "execution_count": 368,
   "metadata": {},
   "outputs": [
    {
     "data": {
      "text/plain": [
       "0.01    0.477272\n",
       "0.97    5.081029\n",
       "Name: analizo_accm_mean, dtype: float64"
      ]
     },
     "execution_count": 368,
     "metadata": {},
     "output_type": "execute_result"
    }
   ],
   "source": [
    "low = .01\n",
    "high = .97\n",
    "quant_df = GH_df['analizo_accm_mean'].quantile([low, high])\n",
    "quant_df"
   ]
  },
  {
   "cell_type": "code",
   "execution_count": 369,
   "metadata": {},
   "outputs": [],
   "source": [
    "GH_df_reduced =GH_df.loc[(GH_df['analizo_accm_mean']>=quant_df[low]) & (GH_df['analizo_accm_mean']<=quant_df[high]),:]"
   ]
  },
  {
   "cell_type": "code",
   "execution_count": 370,
   "metadata": {},
   "outputs": [],
   "source": [
    "df_merged= pd.concat([code_df_reduced,GH_df_reduced],sort=False)\n",
    "df_merged['type'] = 'others'"
   ]
  },
  {
   "cell_type": "code",
   "execution_count": 371,
   "metadata": {},
   "outputs": [],
   "source": [
    "df_merged.fillna(0,inplace=True)"
   ]
  },
  {
   "cell_type": "code",
   "execution_count": 372,
   "metadata": {},
   "outputs": [],
   "source": [
    "from sklearn.feature_selection import SelectKBest\n",
    "from sklearn.feature_selection import RFE\n",
    "from sklearn.linear_model import LogisticRegression\n",
    "from sklearn.ensemble import RandomForestClassifier\n",
    "from sklearn.model_selection import train_test_split\n",
    "from sklearn.svm import SVC\n"
   ]
  },
  {
   "cell_type": "code",
   "execution_count": 373,
   "metadata": {},
   "outputs": [],
   "source": [
    "import collections\n",
    "def calculate_accurarcy(df,pred,Y,code_class):\n",
    "    df_merged_acc = df.groupby('type_wrong').count().iloc[:,1]\n",
    "    print df_merged_acc\n",
    "    pred_robo_cont = collections.Counter(pred)[code_class]\n",
    "    Y_robo_cont = collections.Counter(Y)[code_class]\n",
    "    #calculate accurarcy \n",
    "    true_pos = float(df_merged_acc.loc[code_class]) if code_class in df_merged_acc.index else 0.0\n",
    "    \n",
    "    prec = true_pos / pred_robo_cont if pred_robo_cont >0 else 0 \n",
    "    recall = true_pos / Y_robo_cont if Y_robo_cont > 0  else 0 \n",
    "    print 'prec : '  , prec , 'recall :'  , recall , 'f1 :' , (2*(prec*recall)/(prec+recall)) if prec+recall >0 else 0\n",
    "    \n",
    "def set_wrong_type(pred,Y,df,type_class):\n",
    "    df.loc[:,'wrong'] = False\n",
    "    df.loc[(pred != Y),'wrong'] = True\n",
    "    df.loc[(pred != Y) & (df['type'] == type_class),'type_wrong'] = 'wrong_' +type_class    \n",
    "    df.loc[(pred == Y) & (df['type'] == type_class),'type_wrong'] = type_class\n",
    "    df.loc[(pred != Y) & (df['type'] == 'others'),'type_wrong'] = 'wrong_others'\n",
    "    df.loc[(pred == Y) & (df['type'] == 'others'),'type_wrong'] = 'others'\n",
    "    return df\n",
    "def classify_one_vs_many(df,type_class):   \n",
    "    GH_df_reduced_one_vs_many = df.copy()\n",
    "    GH_df_reduced_one_vs_many.loc[GH_df_reduced_one_vs_many['type_original']==type_class,'type' ] = type_class\n",
    "    print GH_df_reduced_one_vs_many.groupby('type').count().iloc[:,1]\n",
    "    X = GH_df_reduced_one_vs_many.select_dtypes(include=[np.number])\n",
    "    Y = GH_df_reduced_one_vs_many.loc[:,'type']\n",
    "    # feature extraction\n",
    "    X_train, X_test, y_train, y_test = train_test_split(X, Y, test_size=0.2)\n",
    "    fitl= model.fit(X,Y)\n",
    "    model.score(X,Y)\n",
    "    rfe = RFE(model, 2)\n",
    "    fit = rfe.fit(X, Y)\n",
    "    print \"Selected features : \" + str(X.columns[fit.support_])\n",
    "    pred = model.predict(X)\n",
    "    df_accurarcy  = set_wrong_type(pred,Y,GH_df_reduced_one_vs_many,type_class)\n",
    "    calculate_accurarcy(df_accurarcy,pred,Y,type_class)\n",
    "    return df_accurarcy , X.columns[fit.support_].values"
   ]
  },
  {
   "cell_type": "markdown",
   "metadata": {},
   "source": [
    "# Accurercy : "
   ]
  },
  {
   "cell_type": "code",
   "execution_count": 374,
   "metadata": {
    "scrolled": false
   },
   "outputs": [
    {
     "name": "stdout",
     "output_type": "stream",
     "text": [
      "robo\n",
      "type\n",
      "others    542\n",
      "robo       70\n",
      "Name: analizo_acc_sum, dtype: int64\n",
      "Selected features : Index([u'analizo_accm_mean', u'analizo_dit_mean'], dtype='object')\n",
      "type_wrong\n",
      "others          535\n",
      "robo             30\n",
      "wrong_others      7\n",
      "wrong_robo       40\n",
      "Name: analizo_acc_sum, dtype: int64\n",
      "prec :  0.810810810811 recall : 0.428571428571 f1 : 0.560747663551\n",
      "------------------\n",
      "\n",
      "Security\n",
      "type\n",
      "Security     60\n",
      "others      552\n",
      "Name: analizo_acc_sum, dtype: int64\n",
      "Selected features : Index([u'analizo_anpm_mean', u'analizo_total_cof'], dtype='object')\n",
      "type_wrong\n",
      "Security            3\n",
      "others            552\n",
      "wrong_Security     57\n",
      "Name: analizo_acc_sum, dtype: int64\n",
      "prec :  1.0 recall : 0.05 f1 : 0.0952380952381\n",
      "------------------\n",
      "\n",
      "mobile\n",
      "type\n",
      "mobile     52\n",
      "others    560\n",
      "Name: analizo_acc_sum, dtype: int64\n",
      "Selected features : Index([u'analizo_dit_mean', u'analizo_noc_mean'], dtype='object')\n",
      "type_wrong\n",
      "others          559\n",
      "wrong_mobile     52\n",
      "wrong_others      1\n",
      "Name: analizo_acc_sum, dtype: int64\n",
      "prec :  0.0 recall : 0.0 f1 : 0\n",
      "------------------\n",
      "\n",
      "ide\n",
      "type\n",
      "ide        51\n",
      "others    561\n",
      "Name: analizo_acc_sum, dtype: int64\n",
      "Selected features : Index([u'analizo_dit_mean', u'analizo_total_cof'], dtype='object')\n",
      "type_wrong\n",
      "ide              15\n",
      "others          559\n",
      "wrong_ide        36\n",
      "wrong_others      2\n",
      "Name: analizo_acc_sum, dtype: int64\n",
      "prec :  0.882352941176 recall : 0.294117647059 f1 : 0.441176470588\n",
      "------------------\n",
      "\n",
      "finance\n",
      "type\n",
      "finance     26\n",
      "others     586\n",
      "Name: analizo_acc_sum, dtype: int64\n",
      "Selected features : Index([u'analizo_accm_mean', u'analizo_anpm_mean'], dtype='object')\n",
      "type_wrong\n",
      "finance            6\n",
      "others           586\n",
      "wrong_finance     20\n",
      "Name: analizo_acc_sum, dtype: int64\n",
      "prec :  1.0 recall : 0.230769230769 f1 : 0.375\n",
      "------------------\n",
      "\n",
      "education\n",
      "type\n",
      "education     56\n",
      "others       556\n",
      "Name: analizo_acc_sum, dtype: int64\n",
      "Selected features : Index([u'analizo_anpm_mean', u'analizo_total_cof'], dtype='object')\n",
      "type_wrong\n",
      "education            1\n",
      "others             556\n",
      "wrong_education     55\n",
      "Name: analizo_acc_sum, dtype: int64\n",
      "prec :  1.0 recall : 0.0178571428571 f1 : 0.0350877192982\n",
      "------------------\n",
      "\n",
      "Games\n",
      "type\n",
      "Games      37\n",
      "others    575\n",
      "Name: analizo_acc_sum, dtype: int64\n",
      "Selected features : Index([u'analizo_accm_mean', u'analizo_anpm_mean'], dtype='object')\n",
      "type_wrong\n",
      "Games            2\n",
      "others         575\n",
      "wrong_Games     35\n",
      "Name: analizo_acc_sum, dtype: int64\n",
      "prec :  1.0 recall : 0.0540540540541 f1 : 0.102564102564\n",
      "------------------\n",
      "\n",
      "Graphics\n",
      "type\n",
      "Graphics     61\n",
      "others      551\n",
      "Name: analizo_acc_sum, dtype: int64\n",
      "Selected features : Index([u'analizo_dit_mean', u'analizo_total_cof'], dtype='object')\n",
      "type_wrong\n",
      "Graphics           20\n",
      "others            545\n",
      "wrong_Graphics     41\n",
      "wrong_others        6\n",
      "Name: analizo_acc_sum, dtype: int64\n",
      "prec :  0.769230769231 recall : 0.327868852459 f1 : 0.459770114943\n",
      "------------------\n",
      "\n",
      "robot-simulation\n",
      "type\n",
      "others              588\n",
      "robot-simulation     24\n",
      "Name: analizo_acc_sum, dtype: int64\n",
      "Selected features : Index([u'analizo_lcom4_mean', u'analizo_npm_mean'], dtype='object')\n",
      "type_wrong\n",
      "others                    588\n",
      "robot-simulation            2\n",
      "wrong_robot-simulation     22\n",
      "Name: analizo_acc_sum, dtype: int64\n",
      "prec :  1.0 recall : 0.0833333333333 f1 : 0.153846153846\n",
      "------------------\n",
      "\n",
      "audio\n",
      "type\n",
      "audio      55\n",
      "others    557\n",
      "Name: analizo_acc_sum, dtype: int64\n",
      "Selected features : Index([u'analizo_dit_mean', u'analizo_total_cof'], dtype='object')\n",
      "type_wrong\n",
      "audio             2\n",
      "others          554\n",
      "wrong_audio      53\n",
      "wrong_others      3\n",
      "Name: analizo_acc_sum, dtype: int64\n",
      "prec :  0.4 recall : 0.0363636363636 f1 : 0.0666666666667\n",
      "------------------\n",
      "\n",
      "communication\n",
      "type\n",
      "communication     22\n",
      "others           590\n",
      "Name: analizo_acc_sum, dtype: int64\n",
      "Selected features : Index([u'analizo_accm_mean', u'analizo_dit_mean'], dtype='object')\n",
      "type_wrong\n",
      "communication            2\n",
      "others                 587\n",
      "wrong_communication     20\n",
      "wrong_others             3\n",
      "Name: analizo_acc_sum, dtype: int64\n",
      "prec :  0.4 recall : 0.0909090909091 f1 : 0.148148148148\n",
      "------------------\n",
      "\n",
      "anac\n",
      "type\n",
      "anac       98\n",
      "others    514\n",
      "Name: analizo_acc_sum, dtype: int64\n",
      "Selected features : Index([u'analizo_npa_mean', u'analizo_total_modules_with_defined_attributes'], dtype='object')\n",
      "type_wrong\n",
      "anac             83\n",
      "others          498\n",
      "wrong_anac       15\n",
      "wrong_others     16\n",
      "Name: analizo_acc_sum, dtype: int64\n",
      "prec :  0.838383838384 recall : 0.84693877551 f1 : 0.842639593909\n",
      "------------------\n",
      "\n"
     ]
    }
   ],
   "source": [
    "for t in df_merged['type_original'].unique():\n",
    "    print t\n",
    "    type_class =  t\n",
    "    df_accurarcy, selected_features = classify_one_vs_many(df_merged,type_class)\n",
    "    print '------------------\\n'"
   ]
  },
  {
   "cell_type": "code",
   "execution_count": null,
   "metadata": {},
   "outputs": [],
   "source": []
  },
  {
   "cell_type": "code",
   "execution_count": 375,
   "metadata": {},
   "outputs": [
    {
     "data": {
      "text/plain": [
       "<seaborn.axisgrid.FacetGrid at 0x7f2d10cae110>"
      ]
     },
     "execution_count": 375,
     "metadata": {},
     "output_type": "execute_result"
    },
    {
     "data": {
      "image/png": "[encoded data removed]",
      "text/plain": [
       "<Figure size 1031.11x576 with 1 Axes>"
      ]
     },
     "metadata": {
      "needs_background": "light"
     },
     "output_type": "display_data"
    }
   ],
   "source": [
    "fg = sns.FacetGrid(data=df_accurarcy, hue='type_wrong',  aspect=1.61,height=8)\n",
    "fg.map(plt.scatter, selected_features[0],selected_features[1],).add_legend()"
   ]
  },
  {
   "cell_type": "code",
   "execution_count": 217,
   "metadata": {},
   "outputs": [],
   "source": [
    "import pickle"
   ]
  },
  {
   "cell_type": "code",
   "execution_count": 218,
   "metadata": {},
   "outputs": [],
   "source": [
    "pickle.dump(model,open('dump','w'))"
   ]
  },
  {
   "cell_type": "code",
   "execution_count": 257,
   "metadata": {},
   "outputs": [],
   "source": [
    "\n"
   ]
  },
  {
   "cell_type": "code",
   "execution_count": null,
   "metadata": {},
   "outputs": [],
   "source": []
  }
 ],
 "metadata": {
  "kernelspec": {
   "display_name": "Python 2",
   "language": "python",
   "name": "python2"
  },
  "language_info": {
   "codemirror_mode": {
    "name": "ipython",
    "version": 2
   },
   "file_extension": ".py",
   "mimetype": "text/x-python",
   "name": "python",
   "nbconvert_exporter": "python",
   "pygments_lexer": "ipython2",
   "version": "2.7.12"
  }
 },
 "nbformat": 4,
 "nbformat_minor": 1
}
