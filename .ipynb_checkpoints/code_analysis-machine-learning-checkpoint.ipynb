{
 "cells": [
  {
   "cell_type": "code",
   "execution_count": 1,
   "metadata": {},
   "outputs": [],
   "source": [
    "import matplotlib\n",
    "import  pandas as pd\n",
    "import os\n",
    "import matplotlib.pyplot as plt\n",
    "import numpy as np\n",
    "import seaborn as sns\n",
    "import re\n",
    "from sklearn.linear_model import LogisticRegression"
   ]
  },
  {
   "cell_type": "markdown",
   "metadata": {},
   "source": [
    "## Initilization"
   ]
  },
  {
   "cell_type": "code",
   "execution_count": 168,
   "metadata": {},
   "outputs": [],
   "source": [
    "df =  pd.read_csv(os.getcwd() +\"/data/data.csv\",index_col=0)"
   ]
  },
  {
   "cell_type": "code",
   "execution_count": 169,
   "metadata": {},
   "outputs": [],
   "source": [
    "common_categories = ['category','agent_type','type','folder']\n",
    "\n",
    "regexp_code = re.compile(r'analizo_(.)*(mean|median|quantile_upper)')\n",
    "regexp_loc = re.compile(r'analizo_loc_(.)*') \n",
    "df = df[[c for c in df.columns if  ( regexp_code.search(c) and not regexp_loc.search(c) ) or  c in common_categories]].copy()\n",
    "df_reduced = df"
   ]
  },
  {
   "cell_type": "code",
   "execution_count": null,
   "metadata": {
    "scrolled": true
   },
   "outputs": [],
   "source": []
  },
  {
   "cell_type": "markdown",
   "metadata": {},
   "source": [
    "## Removing ACCM outliners "
   ]
  },
  {
   "cell_type": "code",
   "execution_count": 170,
   "metadata": {},
   "outputs": [
    {
     "data": {
      "text/plain": [
       "0.01    1.111587\n",
       "0.97    7.116929\n",
       "Name: analizo_accm_mean, dtype: float64"
      ]
     },
     "execution_count": 170,
     "metadata": {},
     "output_type": "execute_result"
    }
   ],
   "source": [
    "low = .01\n",
    "high = .97\n",
    "quant_df = df['analizo_accm_mean'].quantile([low, high])\n",
    "quant_df"
   ]
  },
  {
   "cell_type": "code",
   "execution_count": 171,
   "metadata": {},
   "outputs": [],
   "source": [
    "df_reduced =df.loc[df['analizo_accm_mean']<=quant_df[high],:].copy()"
   ]
  },
  {
   "cell_type": "code",
   "execution_count": 172,
   "metadata": {},
   "outputs": [
    {
     "data": {
      "text/plain": [
       "['folder']"
      ]
     },
     "execution_count": 172,
     "metadata": {},
     "output_type": "execute_result"
    }
   ],
   "source": [
    "df_reduced.fillna(0,inplace=True)\n",
    "df.columns[df.isna().any()].tolist()"
   ]
  },
  {
   "cell_type": "code",
   "execution_count": 173,
   "metadata": {},
   "outputs": [],
   "source": [
    "from sklearn.feature_selection import SelectKBest\n",
    "from sklearn.feature_selection import RFE\n",
    "from sklearn.linear_model import LogisticRegression\n",
    "from sklearn.ensemble import RandomForestClassifier\n",
    "from sklearn.model_selection import train_test_split\n",
    "from sklearn.svm import SVC\n",
    "from imblearn.datasets import make_imbalance\n",
    "from imblearn.over_sampling import RandomOverSampler\n",
    "from imblearn.pipeline import make_pipeline\n",
    "from imblearn.metrics import classification_report_imbalanced"
   ]
  },
  {
   "cell_type": "code",
   "execution_count": 187,
   "metadata": {},
   "outputs": [],
   "source": [
    "import collections\n",
    "def calculate_accurarcy(df,pred,Y,code_class):\n",
    "    df_merged_acc = df.groupby('type_wrong').count().iloc[:,1]\n",
    "    pred_robo_cont = collections.Counter(pred)[code_class]\n",
    "    Y_robo_cont = collections.Counter(Y)[code_class]\n",
    "    #calculate accurarcy \n",
    "    true_pos = float(df_merged_acc.loc[code_class]) if code_class in df_merged_acc.index else 0.0\n",
    "    \n",
    "    prec = true_pos / pred_robo_cont if pred_robo_cont >0 else 0 \n",
    "    recall = true_pos / Y_robo_cont if Y_robo_cont > 0  else 0 \n",
    "    print 'prec : '  , prec , 'recall :'  , recall , 'f1 :' , (2*(prec*recall)/(prec+recall)) if prec+recall >0 else 0\n",
    "    \n",
    "def set_wrong_type(pred,Y,df,type_class):\n",
    "    df.loc[:,'wrong'] = False\n",
    "    df.loc[(pred != Y),'wrong'] = True    \n",
    "    df.loc[(pred != Y) & (df['ml_type'] == type_class),'type_wrong'] = 'wrong_' +type_class    \n",
    "    df.loc[(pred == Y) & (df['ml_type'] == type_class),'type_wrong'] = type_class\n",
    "    df.loc[(pred != Y) & (df['ml_type'] == 'others'),'type_wrong'] = 'wrong_others'\n",
    "    df.loc[(pred == Y) & (df['ml_type'] == 'others'),'type_wrong'] = 'others'\n",
    "    df['pred']  = Y\n",
    "    return df\n",
    "def classify_one_vs_many(df,model,type_class):   \n",
    "    GH_df_reduced_one_vs_many = df.copy()\n",
    "    others_df = GH_df_reduced_one_vs_many[(GH_df_reduced_one_vs_many['agent_type']=='non-agent') ].copy()\n",
    "    from collections import Counter\n",
    "    print('Training target statistics: {}'.format(Counter(others_df['category'])))\n",
    "    others_df.loc[:,'ml_type'] = 'others'\n",
    "    category_df = GH_df_reduced_one_vs_many[GH_df_reduced_one_vs_many['agent_type']==type_class].copy()\n",
    "    category_df.loc[:,'ml_type'] =type_class      \n",
    "    df_merged = pd.concat([others_df,category_df],ignore_index=True)\n",
    "\n",
    "    #print df_merged.groupby(['ml_type','category'])['analizo_accm_mean'].count()\n",
    "    X = df_merged.select_dtypes(include=[np.number])\n",
    "    y = df_merged.loc[:,'ml_type']\n",
    "    ros = RandomOverSampler(random_state=0)\n",
    "    X_resampled, Y_resampled = ros.fit_resample(X, y)\n",
    "   \n",
    "    print('Training target statistics: {}'.format(Counter(Y_resampled)))\n",
    "\n",
    "    model  = LogisticRegression()\n",
    "    model.fit(X_resampled,Y_resampled)\n",
    "    print model.score(X,y)\n",
    "    rfe = RFE(model, 4)\n",
    "    fit = rfe.fit(X, y)\n",
    "    print \"Selected features : \" + str(X.columns[fit.support_])\n",
    "    pred = model.predict(X)\n",
    "    print Counter(pred)\n",
    "    df_accurarcy  = set_wrong_type(pred,y, df_merged,type_class)\n",
    "    calculate_accurarcy(df_accurarcy,pred,y,type_class)\n",
    "    return df_accurarcy , X.columns[fit.support_].values"
   ]
  },
  {
   "cell_type": "markdown",
   "metadata": {},
   "source": [
    "# Accurercy : "
   ]
  },
  {
   "cell_type": "code",
   "execution_count": null,
   "metadata": {},
   "outputs": [],
   "source": [
    "df_accurarcy, selected_features = classify_one_vs_many(df_reduced,model,'agent')"
   ]
  },
  {
   "cell_type": "code",
   "execution_count": 200,
   "metadata": {},
   "outputs": [
    {
     "data": {
      "text/plain": [
       "array(['analizo_accm_quantile_upper', 'analizo_dit_mean',\n",
       "       'analizo_dit_quantile_median', 'analizo_noc_mean'], dtype=object)"
      ]
     },
     "execution_count": 200,
     "metadata": {},
     "output_type": "execute_result"
    }
   ],
   "source": [
    "selected_features"
   ]
  },
  {
   "cell_type": "code",
   "execution_count": 202,
   "metadata": {},
   "outputs": [
    {
     "data": {
      "image/png": "[encoded data removed]",
      "text/plain": [
       "<Figure size 1014.61x576 with 1 Axes>"
      ]
     },
     "metadata": {
      "needs_background": "light"
     },
     "output_type": "display_data"
    }
   ],
   "source": [
    "fg = sns.FacetGrid(data=df_accurarcy, hue='agent_type',  aspect=1.61,height=8)\n",
    "fig = fg.map(plt.scatter, 'analizo_accm_quantile_upper','analizo_dit_mean',).add_legend()"
   ]
  },
  {
   "cell_type": "code",
   "execution_count": 183,
   "metadata": {},
   "outputs": [
    {
     "data": {
      "text/plain": [
       "array(['analizo_accm_quantile_upper', 'analizo_dit_mean',\n",
       "       'analizo_noc_mean'], dtype=object)"
      ]
     },
     "execution_count": 183,
     "metadata": {},
     "output_type": "execute_result"
    }
   ],
   "source": [
    "selected_features"
   ]
  },
  {
   "cell_type": "code",
   "execution_count": 178,
   "metadata": {},
   "outputs": [
    {
     "data": {
      "text/html": [
       "<div>\n",
       "<style scoped>\n",
       "    .dataframe tbody tr th:only-of-type {\n",
       "        vertical-align: middle;\n",
       "    }\n",
       "\n",
       "    .dataframe tbody tr th {\n",
       "        vertical-align: top;\n",
       "    }\n",
       "\n",
       "    .dataframe thead th {\n",
       "        text-align: right;\n",
       "    }\n",
       "</style>\n",
       "<table border=\"1\" class=\"dataframe\">\n",
       "  <thead>\n",
       "    <tr style=\"text-align: right;\">\n",
       "      <th></th>\n",
       "      <th>analizo_acc_mean</th>\n",
       "      <th>analizo_acc_quantile_median</th>\n",
       "      <th>analizo_acc_quantile_upper</th>\n",
       "      <th>analizo_accm_mean</th>\n",
       "      <th>analizo_accm_quantile_median</th>\n",
       "      <th>analizo_accm_quantile_upper</th>\n",
       "      <th>analizo_amloc_mean</th>\n",
       "      <th>analizo_amloc_quantile_median</th>\n",
       "      <th>analizo_amloc_quantile_upper</th>\n",
       "      <th>analizo_anpm_mean</th>\n",
       "      <th>...</th>\n",
       "      <th>analizo_rfc_quantile_upper</th>\n",
       "      <th>analizo_sc_mean</th>\n",
       "      <th>analizo_sc_quantile_median</th>\n",
       "      <th>analizo_sc_quantile_upper</th>\n",
       "      <th>folder</th>\n",
       "      <th>category</th>\n",
       "      <th>agent_type</th>\n",
       "      <th>type</th>\n",
       "      <th>ml_type</th>\n",
       "      <th>wrong</th>\n",
       "    </tr>\n",
       "    <tr>\n",
       "      <th>type_wrong</th>\n",
       "      <th></th>\n",
       "      <th></th>\n",
       "      <th></th>\n",
       "      <th></th>\n",
       "      <th></th>\n",
       "      <th></th>\n",
       "      <th></th>\n",
       "      <th></th>\n",
       "      <th></th>\n",
       "      <th></th>\n",
       "      <th></th>\n",
       "      <th></th>\n",
       "      <th></th>\n",
       "      <th></th>\n",
       "      <th></th>\n",
       "      <th></th>\n",
       "      <th></th>\n",
       "      <th></th>\n",
       "      <th></th>\n",
       "      <th></th>\n",
       "      <th></th>\n",
       "    </tr>\n",
       "  </thead>\n",
       "  <tbody>\n",
       "    <tr>\n",
       "      <th>agent</th>\n",
       "      <td>96</td>\n",
       "      <td>96</td>\n",
       "      <td>96</td>\n",
       "      <td>96</td>\n",
       "      <td>96</td>\n",
       "      <td>96</td>\n",
       "      <td>96</td>\n",
       "      <td>96</td>\n",
       "      <td>96</td>\n",
       "      <td>96</td>\n",
       "      <td>...</td>\n",
       "      <td>96</td>\n",
       "      <td>96</td>\n",
       "      <td>96</td>\n",
       "      <td>96</td>\n",
       "      <td>96</td>\n",
       "      <td>96</td>\n",
       "      <td>96</td>\n",
       "      <td>96</td>\n",
       "      <td>96</td>\n",
       "      <td>96</td>\n",
       "    </tr>\n",
       "    <tr>\n",
       "      <th>others</th>\n",
       "      <td>343</td>\n",
       "      <td>343</td>\n",
       "      <td>343</td>\n",
       "      <td>343</td>\n",
       "      <td>343</td>\n",
       "      <td>343</td>\n",
       "      <td>343</td>\n",
       "      <td>343</td>\n",
       "      <td>343</td>\n",
       "      <td>343</td>\n",
       "      <td>...</td>\n",
       "      <td>343</td>\n",
       "      <td>343</td>\n",
       "      <td>343</td>\n",
       "      <td>343</td>\n",
       "      <td>343</td>\n",
       "      <td>343</td>\n",
       "      <td>343</td>\n",
       "      <td>343</td>\n",
       "      <td>343</td>\n",
       "      <td>343</td>\n",
       "    </tr>\n",
       "    <tr>\n",
       "      <th>wrong_agent</th>\n",
       "      <td>17</td>\n",
       "      <td>17</td>\n",
       "      <td>17</td>\n",
       "      <td>17</td>\n",
       "      <td>17</td>\n",
       "      <td>17</td>\n",
       "      <td>17</td>\n",
       "      <td>17</td>\n",
       "      <td>17</td>\n",
       "      <td>17</td>\n",
       "      <td>...</td>\n",
       "      <td>17</td>\n",
       "      <td>17</td>\n",
       "      <td>17</td>\n",
       "      <td>17</td>\n",
       "      <td>17</td>\n",
       "      <td>17</td>\n",
       "      <td>17</td>\n",
       "      <td>17</td>\n",
       "      <td>17</td>\n",
       "      <td>17</td>\n",
       "    </tr>\n",
       "    <tr>\n",
       "      <th>wrong_others</th>\n",
       "      <td>43</td>\n",
       "      <td>43</td>\n",
       "      <td>43</td>\n",
       "      <td>43</td>\n",
       "      <td>43</td>\n",
       "      <td>43</td>\n",
       "      <td>43</td>\n",
       "      <td>43</td>\n",
       "      <td>43</td>\n",
       "      <td>43</td>\n",
       "      <td>...</td>\n",
       "      <td>43</td>\n",
       "      <td>43</td>\n",
       "      <td>43</td>\n",
       "      <td>43</td>\n",
       "      <td>43</td>\n",
       "      <td>43</td>\n",
       "      <td>43</td>\n",
       "      <td>43</td>\n",
       "      <td>43</td>\n",
       "      <td>43</td>\n",
       "    </tr>\n",
       "  </tbody>\n",
       "</table>\n",
       "<p>4 rows × 51 columns</p>\n",
       "</div>"
      ],
      "text/plain": [
       "              analizo_acc_mean  analizo_acc_quantile_median  \\\n",
       "type_wrong                                                    \n",
       "agent                       96                           96   \n",
       "others                     343                          343   \n",
       "wrong_agent                 17                           17   \n",
       "wrong_others                43                           43   \n",
       "\n",
       "              analizo_acc_quantile_upper  analizo_accm_mean  \\\n",
       "type_wrong                                                    \n",
       "agent                                 96                 96   \n",
       "others                               343                343   \n",
       "wrong_agent                           17                 17   \n",
       "wrong_others                          43                 43   \n",
       "\n",
       "              analizo_accm_quantile_median  analizo_accm_quantile_upper  \\\n",
       "type_wrong                                                                \n",
       "agent                                   96                           96   \n",
       "others                                 343                          343   \n",
       "wrong_agent                             17                           17   \n",
       "wrong_others                            43                           43   \n",
       "\n",
       "              analizo_amloc_mean  analizo_amloc_quantile_median  \\\n",
       "type_wrong                                                        \n",
       "agent                         96                             96   \n",
       "others                       343                            343   \n",
       "wrong_agent                   17                             17   \n",
       "wrong_others                  43                             43   \n",
       "\n",
       "              analizo_amloc_quantile_upper  analizo_anpm_mean  ...    \\\n",
       "type_wrong                                                     ...     \n",
       "agent                                   96                 96  ...     \n",
       "others                                 343                343  ...     \n",
       "wrong_agent                             17                 17  ...     \n",
       "wrong_others                            43                 43  ...     \n",
       "\n",
       "              analizo_rfc_quantile_upper  analizo_sc_mean  \\\n",
       "type_wrong                                                  \n",
       "agent                                 96               96   \n",
       "others                               343              343   \n",
       "wrong_agent                           17               17   \n",
       "wrong_others                          43               43   \n",
       "\n",
       "              analizo_sc_quantile_median  analizo_sc_quantile_upper  folder  \\\n",
       "type_wrong                                                                    \n",
       "agent                                 96                         96      96   \n",
       "others                               343                        343     343   \n",
       "wrong_agent                           17                         17      17   \n",
       "wrong_others                          43                         43      43   \n",
       "\n",
       "              category  agent_type  type  ml_type  wrong  \n",
       "type_wrong                                                \n",
       "agent               96          96    96       96     96  \n",
       "others             343         343   343      343    343  \n",
       "wrong_agent         17          17    17       17     17  \n",
       "wrong_others        43          43    43       43     43  \n",
       "\n",
       "[4 rows x 51 columns]"
      ]
     },
     "execution_count": 178,
     "metadata": {},
     "output_type": "execute_result"
    }
   ],
   "source": [
    "df_accurarcy.groupby('type_wrong').count()"
   ]
  },
  {
   "cell_type": "code",
   "execution_count": 198,
   "metadata": {},
   "outputs": [
    {
     "name": "stdout",
     "output_type": "stream",
     "text": [
      "Training target statistics: Counter({'Graphics': 58, 'Security': 58, 'Ide': 53, 'Education': 49, 'Audio': 49, 'Mobile': 38, 'Games': 33, 'Finance': 26, 'Robot-Simulation': 22})\n"
     ]
    },
    {
     "ename": "ValueError",
     "evalue": "cannot set a frame with no defined index and a scalar",
     "output_type": "error",
     "traceback": [
      "\u001b[0;31m\u001b[0m",
      "\u001b[0;31mValueError\u001b[0mTraceback (most recent call last)",
      "\u001b[0;32m<ipython-input-198-a118f87d9018>\u001b[0m in \u001b[0;36m<module>\u001b[0;34m()\u001b[0m\n\u001b[0;32m----> 1\u001b[0;31m \u001b[0mdf_accurarcy\u001b[0m\u001b[0;34m,\u001b[0m \u001b[0mselected_features\u001b[0m \u001b[0;34m=\u001b[0m \u001b[0mclassify_one_vs_many\u001b[0m\u001b[0;34m(\u001b[0m\u001b[0mdf_reduced\u001b[0m\u001b[0;34m,\u001b[0m\u001b[0;34m'Chess'\u001b[0m\u001b[0;34m,\u001b[0m\u001b[0mmodel\u001b[0m\u001b[0;34m)\u001b[0m\u001b[0;34m\u001b[0m\u001b[0m\n\u001b[0m\u001b[1;32m      2\u001b[0m \u001b[0mfg\u001b[0m \u001b[0;34m=\u001b[0m \u001b[0msns\u001b[0m\u001b[0;34m.\u001b[0m\u001b[0mFacetGrid\u001b[0m\u001b[0;34m(\u001b[0m\u001b[0mdata\u001b[0m\u001b[0;34m=\u001b[0m\u001b[0mdf_accurarcy\u001b[0m\u001b[0;34m,\u001b[0m \u001b[0mhue\u001b[0m\u001b[0;34m=\u001b[0m\u001b[0;34m'type_wrong'\u001b[0m\u001b[0;34m,\u001b[0m  \u001b[0maspect\u001b[0m\u001b[0;34m=\u001b[0m\u001b[0;36m1.61\u001b[0m\u001b[0;34m,\u001b[0m\u001b[0mheight\u001b[0m\u001b[0;34m=\u001b[0m\u001b[0;36m8\u001b[0m\u001b[0;34m)\u001b[0m\u001b[0;34m\u001b[0m\u001b[0m\n\u001b[1;32m      3\u001b[0m \u001b[0mfig\u001b[0m \u001b[0;34m=\u001b[0m \u001b[0mfg\u001b[0m\u001b[0;34m.\u001b[0m\u001b[0mmap\u001b[0m\u001b[0;34m(\u001b[0m\u001b[0mplt\u001b[0m\u001b[0;34m.\u001b[0m\u001b[0mscatter\u001b[0m\u001b[0;34m,\u001b[0m \u001b[0;34m'analizo_accm_mean'\u001b[0m\u001b[0;34m,\u001b[0m\u001b[0;34m'analizo_acc_mean'\u001b[0m\u001b[0;34m,\u001b[0m\u001b[0;34m)\u001b[0m\u001b[0;34m.\u001b[0m\u001b[0madd_legend\u001b[0m\u001b[0;34m(\u001b[0m\u001b[0;34m)\u001b[0m\u001b[0;34m\u001b[0m\u001b[0m\n",
      "\u001b[0;32m<ipython-input-187-48a4d00b77a5>\u001b[0m in \u001b[0;36mclassify_one_vs_many\u001b[0;34m(df, model, type_class)\u001b[0m\n\u001b[1;32m     27\u001b[0m     \u001b[0mothers_df\u001b[0m\u001b[0;34m.\u001b[0m\u001b[0mloc\u001b[0m\u001b[0;34m[\u001b[0m\u001b[0;34m:\u001b[0m\u001b[0;34m,\u001b[0m\u001b[0;34m'ml_type'\u001b[0m\u001b[0;34m]\u001b[0m \u001b[0;34m=\u001b[0m \u001b[0;34m'others'\u001b[0m\u001b[0;34m\u001b[0m\u001b[0m\n\u001b[1;32m     28\u001b[0m     \u001b[0mcategory_df\u001b[0m \u001b[0;34m=\u001b[0m \u001b[0mGH_df_reduced_one_vs_many\u001b[0m\u001b[0;34m[\u001b[0m\u001b[0mGH_df_reduced_one_vs_many\u001b[0m\u001b[0;34m[\u001b[0m\u001b[0;34m'agent_type'\u001b[0m\u001b[0;34m]\u001b[0m\u001b[0;34m==\u001b[0m\u001b[0mtype_class\u001b[0m\u001b[0;34m]\u001b[0m\u001b[0;34m.\u001b[0m\u001b[0mcopy\u001b[0m\u001b[0;34m(\u001b[0m\u001b[0;34m)\u001b[0m\u001b[0;34m\u001b[0m\u001b[0m\n\u001b[0;32m---> 29\u001b[0;31m     \u001b[0mcategory_df\u001b[0m\u001b[0;34m.\u001b[0m\u001b[0mloc\u001b[0m\u001b[0;34m[\u001b[0m\u001b[0;34m:\u001b[0m\u001b[0;34m,\u001b[0m\u001b[0;34m'ml_type'\u001b[0m\u001b[0;34m]\u001b[0m \u001b[0;34m=\u001b[0m\u001b[0mtype_class\u001b[0m\u001b[0;34m\u001b[0m\u001b[0m\n\u001b[0m\u001b[1;32m     30\u001b[0m     \u001b[0mdf_merged\u001b[0m \u001b[0;34m=\u001b[0m \u001b[0mpd\u001b[0m\u001b[0;34m.\u001b[0m\u001b[0mconcat\u001b[0m\u001b[0;34m(\u001b[0m\u001b[0;34m[\u001b[0m\u001b[0mothers_df\u001b[0m\u001b[0;34m,\u001b[0m\u001b[0mcategory_df\u001b[0m\u001b[0;34m]\u001b[0m\u001b[0;34m,\u001b[0m\u001b[0mignore_index\u001b[0m\u001b[0;34m=\u001b[0m\u001b[0mTrue\u001b[0m\u001b[0;34m)\u001b[0m\u001b[0;34m\u001b[0m\u001b[0m\n\u001b[1;32m     31\u001b[0m \u001b[0;34m\u001b[0m\u001b[0m\n",
      "\u001b[0;32m/home/alon/.virtualenvs/vealon/workspace1/local/lib/python2.7/site-packages/pandas/core/indexing.pyc\u001b[0m in \u001b[0;36m__setitem__\u001b[0;34m(self, key, value)\u001b[0m\n\u001b[1;32m    187\u001b[0m             \u001b[0mkey\u001b[0m \u001b[0;34m=\u001b[0m \u001b[0mcom\u001b[0m\u001b[0;34m.\u001b[0m\u001b[0m_apply_if_callable\u001b[0m\u001b[0;34m(\u001b[0m\u001b[0mkey\u001b[0m\u001b[0;34m,\u001b[0m \u001b[0mself\u001b[0m\u001b[0;34m.\u001b[0m\u001b[0mobj\u001b[0m\u001b[0;34m)\u001b[0m\u001b[0;34m\u001b[0m\u001b[0m\n\u001b[1;32m    188\u001b[0m         \u001b[0mindexer\u001b[0m \u001b[0;34m=\u001b[0m \u001b[0mself\u001b[0m\u001b[0;34m.\u001b[0m\u001b[0m_get_setitem_indexer\u001b[0m\u001b[0;34m(\u001b[0m\u001b[0mkey\u001b[0m\u001b[0;34m)\u001b[0m\u001b[0;34m\u001b[0m\u001b[0m\n\u001b[0;32m--> 189\u001b[0;31m         \u001b[0mself\u001b[0m\u001b[0;34m.\u001b[0m\u001b[0m_setitem_with_indexer\u001b[0m\u001b[0;34m(\u001b[0m\u001b[0mindexer\u001b[0m\u001b[0;34m,\u001b[0m \u001b[0mvalue\u001b[0m\u001b[0;34m)\u001b[0m\u001b[0;34m\u001b[0m\u001b[0m\n\u001b[0m\u001b[1;32m    190\u001b[0m \u001b[0;34m\u001b[0m\u001b[0m\n\u001b[1;32m    191\u001b[0m     \u001b[0;32mdef\u001b[0m \u001b[0m_validate_key\u001b[0m\u001b[0;34m(\u001b[0m\u001b[0mself\u001b[0m\u001b[0;34m,\u001b[0m \u001b[0mkey\u001b[0m\u001b[0;34m,\u001b[0m \u001b[0maxis\u001b[0m\u001b[0;34m)\u001b[0m\u001b[0;34m:\u001b[0m\u001b[0;34m\u001b[0m\u001b[0m\n",
      "\u001b[0;32m/home/alon/.virtualenvs/vealon/workspace1/local/lib/python2.7/site-packages/pandas/core/indexing.pyc\u001b[0m in \u001b[0;36m_setitem_with_indexer\u001b[0;34m(self, indexer, value)\u001b[0m\n\u001b[1;32m    354\u001b[0m                         \u001b[0;32mif\u001b[0m \u001b[0many\u001b[0m\u001b[0;34m(\u001b[0m\u001b[0;32mnot\u001b[0m \u001b[0ml\u001b[0m \u001b[0;32mfor\u001b[0m \u001b[0ml\u001b[0m \u001b[0;32min\u001b[0m \u001b[0mlen_non_info_axes\u001b[0m\u001b[0;34m)\u001b[0m\u001b[0;34m:\u001b[0m\u001b[0;34m\u001b[0m\u001b[0m\n\u001b[1;32m    355\u001b[0m                             \u001b[0;32mif\u001b[0m \u001b[0;32mnot\u001b[0m \u001b[0mis_list_like_indexer\u001b[0m\u001b[0;34m(\u001b[0m\u001b[0mvalue\u001b[0m\u001b[0;34m)\u001b[0m\u001b[0;34m:\u001b[0m\u001b[0;34m\u001b[0m\u001b[0m\n\u001b[0;32m--> 356\u001b[0;31m                                 raise ValueError(\"cannot set a frame with no \"\n\u001b[0m\u001b[1;32m    357\u001b[0m                                                  \"defined index and a scalar\")\n\u001b[1;32m    358\u001b[0m                             \u001b[0mself\u001b[0m\u001b[0;34m.\u001b[0m\u001b[0mobj\u001b[0m\u001b[0;34m[\u001b[0m\u001b[0mkey\u001b[0m\u001b[0;34m]\u001b[0m \u001b[0;34m=\u001b[0m \u001b[0mvalue\u001b[0m\u001b[0;34m\u001b[0m\u001b[0m\n",
      "\u001b[0;31mValueError\u001b[0m: cannot set a frame with no defined index and a scalar"
     ]
    }
   ],
   "source": [
    "# Plotting decision regions\n",
    "x_min, x_max = df_accurarcy[:, 'df_accurarcy'].min() - 1, df_accurarcy[:, 'df_accurarcy'].max() + 1\n",
    "y_min, y_max = df_accurarcy[:, 'df_accurarcy'].min() - 1, df_accurarcy[:, 'df_accurarcy'].max() + 1\n",
    "xx, yy = np.meshgrid(np.arange(x_min, x_max, 0.1),\n",
    "                     np.arange(y_min, y_max, 0.1))\n",
    "\n",
    "\n",
    "\n",
    "\n",
    "Z = clf.predict(np.c_[xx.ravel(), yy.ravel()])\n",
    "Z = Z.reshape(xx.shape)\n",
    "\n",
    "plt.contourf(xx, yy, Z, alpha=0.4)\n",
    "plt.scatter(X[:, 0], X[:, 1], c=y,\n",
    "                              s=20, edgecolor='k')\n",
    "plt.set_title(tt)\n",
    "\n",
    "plt.show()"
   ]
  },
  {
   "cell_type": "code",
   "execution_count": 185,
   "metadata": {
    "scrolled": false
   },
   "outputs": [
    {
     "name": "stdout",
     "output_type": "stream",
     "text": [
      "Robocup-2D\n",
      "Training target statistics: Counter({'Graphics': 58, 'Security': 58, 'Ide': 53, 'Education': 49, 'Audio': 49, 'Mobile': 38, 'Games': 33, 'Finance': 26, 'Robot-Simulation': 22})\n"
     ]
    },
    {
     "ename": "ValueError",
     "evalue": "cannot set a frame with no defined index and a scalar",
     "output_type": "error",
     "traceback": [
      "\u001b[0;31m\u001b[0m",
      "\u001b[0;31mValueError\u001b[0mTraceback (most recent call last)",
      "\u001b[0;32m<ipython-input-185-98cbe3962826>\u001b[0m in \u001b[0;36m<module>\u001b[0;34m()\u001b[0m\n\u001b[1;32m      3\u001b[0m     \u001b[0;32mprint\u001b[0m \u001b[0mt\u001b[0m\u001b[0;34m\u001b[0m\u001b[0m\n\u001b[1;32m      4\u001b[0m     \u001b[0mtype_class\u001b[0m \u001b[0;34m=\u001b[0m  \u001b[0mt\u001b[0m\u001b[0;34m\u001b[0m\u001b[0m\n\u001b[0;32m----> 5\u001b[0;31m     \u001b[0mdf_accurarcy\u001b[0m\u001b[0;34m,\u001b[0m \u001b[0mselected_features\u001b[0m \u001b[0;34m=\u001b[0m \u001b[0mclassify_one_vs_many\u001b[0m\u001b[0;34m(\u001b[0m\u001b[0mdf_reduced\u001b[0m\u001b[0;34m,\u001b[0m\u001b[0mtype_class\u001b[0m\u001b[0;34m,\u001b[0m\u001b[0mmodel\u001b[0m\u001b[0;34m)\u001b[0m\u001b[0;34m\u001b[0m\u001b[0m\n\u001b[0m\u001b[1;32m      6\u001b[0m     \u001b[0mfg\u001b[0m \u001b[0;34m=\u001b[0m \u001b[0msns\u001b[0m\u001b[0;34m.\u001b[0m\u001b[0mFacetGrid\u001b[0m\u001b[0;34m(\u001b[0m\u001b[0mdata\u001b[0m\u001b[0;34m=\u001b[0m\u001b[0mdf_accurarcy\u001b[0m\u001b[0;34m,\u001b[0m \u001b[0mhue\u001b[0m\u001b[0;34m=\u001b[0m\u001b[0;34m'type_wrong'\u001b[0m\u001b[0;34m,\u001b[0m  \u001b[0maspect\u001b[0m\u001b[0;34m=\u001b[0m\u001b[0;36m1.61\u001b[0m\u001b[0;34m,\u001b[0m\u001b[0mheight\u001b[0m\u001b[0;34m=\u001b[0m\u001b[0;36m8\u001b[0m\u001b[0;34m)\u001b[0m\u001b[0;34m\u001b[0m\u001b[0m\n\u001b[1;32m      7\u001b[0m     \u001b[0mfig\u001b[0m \u001b[0;34m=\u001b[0m \u001b[0mfg\u001b[0m\u001b[0;34m.\u001b[0m\u001b[0mmap\u001b[0m\u001b[0;34m(\u001b[0m\u001b[0mplt\u001b[0m\u001b[0;34m.\u001b[0m\u001b[0mscatter\u001b[0m\u001b[0;34m,\u001b[0m \u001b[0mselected_features\u001b[0m\u001b[0;34m[\u001b[0m\u001b[0;36m0\u001b[0m\u001b[0;34m]\u001b[0m\u001b[0;34m,\u001b[0m\u001b[0mselected_features\u001b[0m\u001b[0;34m[\u001b[0m\u001b[0;36m1\u001b[0m\u001b[0;34m]\u001b[0m\u001b[0;34m,\u001b[0m\u001b[0;34m)\u001b[0m\u001b[0;34m.\u001b[0m\u001b[0madd_legend\u001b[0m\u001b[0;34m(\u001b[0m\u001b[0;34m)\u001b[0m\u001b[0;34m\u001b[0m\u001b[0m\n",
      "\u001b[0;32m<ipython-input-181-bae2b16cb6a6>\u001b[0m in \u001b[0;36mclassify_one_vs_many\u001b[0;34m(df, model, type_class)\u001b[0m\n\u001b[1;32m     27\u001b[0m     \u001b[0mothers_df\u001b[0m\u001b[0;34m.\u001b[0m\u001b[0mloc\u001b[0m\u001b[0;34m[\u001b[0m\u001b[0;34m:\u001b[0m\u001b[0;34m,\u001b[0m\u001b[0;34m'ml_type'\u001b[0m\u001b[0;34m]\u001b[0m \u001b[0;34m=\u001b[0m \u001b[0;34m'others'\u001b[0m\u001b[0;34m\u001b[0m\u001b[0m\n\u001b[1;32m     28\u001b[0m     \u001b[0mcategory_df\u001b[0m \u001b[0;34m=\u001b[0m \u001b[0mGH_df_reduced_one_vs_many\u001b[0m\u001b[0;34m[\u001b[0m\u001b[0mGH_df_reduced_one_vs_many\u001b[0m\u001b[0;34m[\u001b[0m\u001b[0;34m'agent_type'\u001b[0m\u001b[0;34m]\u001b[0m\u001b[0;34m==\u001b[0m\u001b[0mtype_class\u001b[0m\u001b[0;34m]\u001b[0m\u001b[0;34m.\u001b[0m\u001b[0mcopy\u001b[0m\u001b[0;34m(\u001b[0m\u001b[0;34m)\u001b[0m\u001b[0;34m\u001b[0m\u001b[0m\n\u001b[0;32m---> 29\u001b[0;31m     \u001b[0mcategory_df\u001b[0m\u001b[0;34m.\u001b[0m\u001b[0mloc\u001b[0m\u001b[0;34m[\u001b[0m\u001b[0;34m:\u001b[0m\u001b[0;34m,\u001b[0m\u001b[0;34m'ml_type'\u001b[0m\u001b[0;34m]\u001b[0m \u001b[0;34m=\u001b[0m\u001b[0mtype_class\u001b[0m\u001b[0;34m\u001b[0m\u001b[0m\n\u001b[0m\u001b[1;32m     30\u001b[0m     \u001b[0mdf_merged\u001b[0m \u001b[0;34m=\u001b[0m \u001b[0mpd\u001b[0m\u001b[0;34m.\u001b[0m\u001b[0mconcat\u001b[0m\u001b[0;34m(\u001b[0m\u001b[0;34m[\u001b[0m\u001b[0mothers_df\u001b[0m\u001b[0;34m,\u001b[0m\u001b[0mcategory_df\u001b[0m\u001b[0;34m]\u001b[0m\u001b[0;34m,\u001b[0m\u001b[0mignore_index\u001b[0m\u001b[0;34m=\u001b[0m\u001b[0mTrue\u001b[0m\u001b[0;34m)\u001b[0m\u001b[0;34m\u001b[0m\u001b[0m\n\u001b[1;32m     31\u001b[0m \u001b[0;34m\u001b[0m\u001b[0m\n",
      "\u001b[0;32m/home/alon/.virtualenvs/vealon/workspace1/local/lib/python2.7/site-packages/pandas/core/indexing.pyc\u001b[0m in \u001b[0;36m__setitem__\u001b[0;34m(self, key, value)\u001b[0m\n\u001b[1;32m    187\u001b[0m             \u001b[0mkey\u001b[0m \u001b[0;34m=\u001b[0m \u001b[0mcom\u001b[0m\u001b[0;34m.\u001b[0m\u001b[0m_apply_if_callable\u001b[0m\u001b[0;34m(\u001b[0m\u001b[0mkey\u001b[0m\u001b[0;34m,\u001b[0m \u001b[0mself\u001b[0m\u001b[0;34m.\u001b[0m\u001b[0mobj\u001b[0m\u001b[0;34m)\u001b[0m\u001b[0;34m\u001b[0m\u001b[0m\n\u001b[1;32m    188\u001b[0m         \u001b[0mindexer\u001b[0m \u001b[0;34m=\u001b[0m \u001b[0mself\u001b[0m\u001b[0;34m.\u001b[0m\u001b[0m_get_setitem_indexer\u001b[0m\u001b[0;34m(\u001b[0m\u001b[0mkey\u001b[0m\u001b[0;34m)\u001b[0m\u001b[0;34m\u001b[0m\u001b[0m\n\u001b[0;32m--> 189\u001b[0;31m         \u001b[0mself\u001b[0m\u001b[0;34m.\u001b[0m\u001b[0m_setitem_with_indexer\u001b[0m\u001b[0;34m(\u001b[0m\u001b[0mindexer\u001b[0m\u001b[0;34m,\u001b[0m \u001b[0mvalue\u001b[0m\u001b[0;34m)\u001b[0m\u001b[0;34m\u001b[0m\u001b[0m\n\u001b[0m\u001b[1;32m    190\u001b[0m \u001b[0;34m\u001b[0m\u001b[0m\n\u001b[1;32m    191\u001b[0m     \u001b[0;32mdef\u001b[0m \u001b[0m_validate_key\u001b[0m\u001b[0;34m(\u001b[0m\u001b[0mself\u001b[0m\u001b[0;34m,\u001b[0m \u001b[0mkey\u001b[0m\u001b[0;34m,\u001b[0m \u001b[0maxis\u001b[0m\u001b[0;34m)\u001b[0m\u001b[0;34m:\u001b[0m\u001b[0;34m\u001b[0m\u001b[0m\n",
      "\u001b[0;32m/home/alon/.virtualenvs/vealon/workspace1/local/lib/python2.7/site-packages/pandas/core/indexing.pyc\u001b[0m in \u001b[0;36m_setitem_with_indexer\u001b[0;34m(self, indexer, value)\u001b[0m\n\u001b[1;32m    354\u001b[0m                         \u001b[0;32mif\u001b[0m \u001b[0many\u001b[0m\u001b[0;34m(\u001b[0m\u001b[0;32mnot\u001b[0m \u001b[0ml\u001b[0m \u001b[0;32mfor\u001b[0m \u001b[0ml\u001b[0m \u001b[0;32min\u001b[0m \u001b[0mlen_non_info_axes\u001b[0m\u001b[0;34m)\u001b[0m\u001b[0;34m:\u001b[0m\u001b[0;34m\u001b[0m\u001b[0m\n\u001b[1;32m    355\u001b[0m                             \u001b[0;32mif\u001b[0m \u001b[0;32mnot\u001b[0m \u001b[0mis_list_like_indexer\u001b[0m\u001b[0;34m(\u001b[0m\u001b[0mvalue\u001b[0m\u001b[0;34m)\u001b[0m\u001b[0;34m:\u001b[0m\u001b[0;34m\u001b[0m\u001b[0m\n\u001b[0;32m--> 356\u001b[0;31m                                 raise ValueError(\"cannot set a frame with no \"\n\u001b[0m\u001b[1;32m    357\u001b[0m                                                  \"defined index and a scalar\")\n\u001b[1;32m    358\u001b[0m                             \u001b[0mself\u001b[0m\u001b[0;34m.\u001b[0m\u001b[0mobj\u001b[0m\u001b[0;34m[\u001b[0m\u001b[0mkey\u001b[0m\u001b[0;34m]\u001b[0m \u001b[0;34m=\u001b[0m \u001b[0mvalue\u001b[0m\u001b[0;34m\u001b[0m\u001b[0m\n",
      "\u001b[0;31mValueError\u001b[0m: cannot set a frame with no defined index and a scalar"
     ]
    }
   ],
   "source": [
    "model = LogisticRegression()\n",
    "for t in df_reduced['category'].unique():\n",
    "    print t\n",
    "    type_class =  t\n",
    "    df_accurarcy, selected_features = classify_one_vs_many(df_reduced,type_class,model)\n",
    "    fg = sns.FacetGrid(data=df_accurarcy, hue='type_wrong',  aspect=1.61,height=8)\n",
    "    fig = fg.map(plt.scatter, selected_features[0],selected_features[1],).add_legend()\n",
    "   \n",
    "    print '------------------\\n'"
   ]
  },
  {
   "cell_type": "code",
   "execution_count": null,
   "metadata": {},
   "outputs": [],
   "source": []
  },
  {
   "cell_type": "code",
   "execution_count": 257,
   "metadata": {},
   "outputs": [],
   "source": [
    "\n"
   ]
  },
  {
   "cell_type": "code",
   "execution_count": null,
   "metadata": {},
   "outputs": [],
   "source": []
  }
 ],
 "metadata": {
  "kernelspec": {
   "display_name": "Python 2",
   "language": "python",
   "name": "python2"
  },
  "language_info": {
   "codemirror_mode": {
    "name": "ipython",
    "version": 2
   },
   "file_extension": ".py",
   "mimetype": "text/x-python",
   "name": "python",
   "nbconvert_exporter": "python",
   "pygments_lexer": "ipython2",
   "version": "2.7.12"
  }
 },
 "nbformat": 4,
 "nbformat_minor": 1
}
