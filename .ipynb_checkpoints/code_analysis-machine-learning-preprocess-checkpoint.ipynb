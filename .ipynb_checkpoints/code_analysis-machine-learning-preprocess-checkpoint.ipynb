{
 "cells": [
  {
   "cell_type": "code",
   "execution_count": 104,
   "metadata": {},
   "outputs": [],
   "source": [
    "!source activate  /Users/azanbar/miniconda2/envs/se-in-robocup"
   ]
  },
  {
   "cell_type": "code",
   "execution_count": 105,
   "metadata": {},
   "outputs": [],
   "source": [
    "import matplotlib\n",
    "import  pandas as pd\n",
    "import os\n",
    "import matplotlib.pyplot as plt\n",
    "import numpy as np\n",
    "import seaborn as sns\n",
    "import re\n",
    "from sklearn.svm import LinearSVC\n",
    "from sklearn.linear_model import LogisticRegression \n",
    "%matplotlib inline"
   ]
  },
  {
   "cell_type": "markdown",
   "metadata": {},
   "source": [
    "## Initilization"
   ]
  },
  {
   "cell_type": "code",
   "execution_count": 106,
   "metadata": {},
   "outputs": [],
   "source": [
    "df1 =  pd.read_csv(os.getcwd() +\"/data/data.csv\",index_col=0)"
   ]
  },
  {
   "cell_type": "code",
   "execution_count": 107,
   "metadata": {},
   "outputs": [],
   "source": [
    "common_categories = ['category','agent_type','type','folder']\n",
    "\n",
    "regexp_code = re.compile(r'analizo_(.)*(mean)')\n",
    "regexp_loc = re.compile(r'analizo_(total|loc|sum)_(.)*') \n",
    "df1.replace([np.inf, -np.inf], np.nan)\n",
    "df = df1.fillna(0)\n",
    "df= df[[c for c in df.columns if  ( regexp_code.search(c) and not regexp_loc.search(c) ) or  c in common_categories]].copy()"
   ]
  },
  {
   "cell_type": "markdown",
   "metadata": {},
   "source": [
    "## Removing ACCM outliners "
   ]
  },
  {
   "cell_type": "code",
   "execution_count": 108,
   "metadata": {},
   "outputs": [],
   "source": [
    "low = .01\n",
    "high = 0.97\n",
    "quant_df = df['analizo_accm_mean'].quantile([low, high])\n",
    "df_reduced = df[df['analizo_accm_mean']<=quant_df[high]]\n",
    "df_reduced"
   ]
  },
  {
   "cell_type": "code",
   "execution_count": 109,
   "metadata": {},
   "outputs": [],
   "source": [
    "from sklearn.feature_selection import SelectKBest\n",
    "from sklearn.feature_selection import RFE\n",
    "from sklearn.linear_model import LogisticRegression\n",
    "from sklearn.ensemble import RandomForestClassifier\n",
    "from sklearn.model_selection import train_test_split\n",
    "from sklearn.svm import SVC\n",
    "from imblearn.datasets import make_imbalance\n",
    "from imblearn.over_sampling import RandomOverSampler\n",
    "from imblearn.pipeline import make_pipeline\n",
    "from imblearn.metrics import classification_report_imbalanced\n",
    "from sklearn.metrics import roc_curve, auc , f1_score"
   ]
  },
  {
   "cell_type": "code",
   "execution_count": 110,
   "metadata": {},
   "outputs": [],
   "source": [
    "import collections\n",
    "def classify_one_vs_many(df,model_name,model,type_class):   \n",
    "    GH_df_reduced_one_vs_many = df.copy()\n",
    "    others_df = GH_df_reduced_one_vs_many[(GH_df_reduced_one_vs_many['agent_type']=='non-agent') ].copy()\n",
    "    from collections import Counter\n",
    "    #print('Training target statistics: {}'.format(Counter(others_df['category'])))\n",
    "    others_df.loc[:,'ml_type'] = 'others'\n",
    "    category_df = GH_df_reduced_one_vs_many[GH_df_reduced_one_vs_many['category']==type_class].copy()\n",
    "    agent_type = category_df['agent_type'].unique()[0]\n",
    "    category_df.loc[:,'ml_type'] =type_class      \n",
    "    df_merged = pd.concat([others_df,category_df],ignore_index=True)\n",
    "\n",
    "    #print df_merged.groupby(['ml_type','category'])['analizo_accm_mean'].count()\n",
    "    X = df_merged.select_dtypes(include=[np.number])\n",
    "    y = df_merged.loc[:,'ml_type']\n",
    "    test_size = 0.2\n",
    "    X_train, X_test, y_train, y_test = train_test_split(X, y, test_size=test_size)\n",
    "    ros = RandomOverSampler(random_state=0)\n",
    "    if len(y_train.unique())<2:\n",
    "        print ('cannot fit for {}'.format(type_class))\n",
    "        return None\n",
    "    X_resampled, Y_resampled = ros.fit_resample(X_train, y_train)\n",
    "   \n",
    "    #print('Training target statistics: {}'.format(Counter(y)))\n",
    "    if Counter(y)[type_class] == 1:\n",
    "        print ('cannot fit for {}'.format(type_class))\n",
    "        return\n",
    "    \n",
    "    model.fit(X_train,y_train)\n",
    "    #print model.score(X_test,y_test)\n",
    "    rfe = RFE(model, 4)\n",
    "    fit = rfe.fit(X_train, y_train)\n",
    "    #print \"Selected features : \" + str(X.columns[fit.support_])\n",
    "    pred = model.predict(X_test)\n",
    "#     print Counter(pred)\n",
    "#     df_accurarcy  = set_wrong_type(pred,y, df_merged,type_class)\n",
    "    #calculate_accurarcy(df_accurarcy,pred,y,type_class)\n",
    "    fpr = tpr = roc_auc =  None\n",
    "    t=True\n",
    "    try:\n",
    "       \n",
    "        y_pred = model.predict_proba(X_test)[:,1]\n",
    "    except:\n",
    "        t = False\n",
    "    if t:\n",
    "        fpr, tpr, _ = roc_curve(y_test, y_pred,pos_label = type_class)\n",
    "        roc_auc = auc(tpr, fpr)\n",
    "    f1 = f1_score(y_test,pred,pos_label=type_class)\n",
    "\n",
    "\n",
    "    return {'model_name':model_name,'agent_type':agent_type,'feature_importance':fit , 'model':model, 'fpr':fpr, 'tpr':tpr, 'auc':roc_auc,'f1_score':f1, 'type_class':type_class}"
   ]
  },
  {
   "cell_type": "markdown",
   "metadata": {},
   "source": [
    "# Accurercy : "
   ]
  },
  {
   "cell_type": "code",
   "execution_count": 111,
   "metadata": {},
   "outputs": [],
   "source": [
    "from xgboost import XGBClassifier\n",
    "from sklearn import linear_model\n",
    "models = {'SGD':linear_model.SGDClassifier(loss='hinge',max_iter=10000),'Logistic Regression':LogisticRegression(),'Boosted Trees':XGBClassifier()}"
   ]
  },
  {
   "cell_type": "code",
   "execution_count": 112,
   "metadata": {},
   "outputs": [],
   "source": [
    "results = {}"
   ]
  },
  {
   "cell_type": "code",
   "execution_count": 113,
   "metadata": {},
   "outputs": [
    {
     "name": "stdout",
     "output_type": "stream",
     "text": [
      "cannot fit for Autodrivers\n",
      "finished training : Boosted Trees\n",
      "cannot fit for Autodrivers\n",
      "finished training : SGD\n",
      "cannot fit for Autodrivers\n",
      "finished training : Logistic Regression\n"
     ]
    }
   ],
   "source": [
    "from sklearn import ensemble\n",
    "categories = df_reduced['category'].unique()\n",
    "\n",
    "for k,clf in models.iteritems():\n",
    "    results[k] = [classify_one_vs_many(df_reduced,k,clf,cat) for cat in categories]\n",
    "    print \"finished training : \" +k \n"
   ]
  },
  {
   "cell_type": "code",
   "execution_count": 114,
   "metadata": {},
   "outputs": [],
   "source": [
    "import pickle\n",
    "pickle.dump([df_reduced,results],open('checkpoints/12many.model','w'))"
   ]
  },
  {
   "cell_type": "code",
   "execution_count": 115,
   "metadata": {},
   "outputs": [],
   "source": [
    "_,result_l = pickle.load(open('checkpoints/12many.model'))\n",
    "resluts_df = {} \n",
    "for k,results in result_l.iteritems():\n",
    "    results = [res for res in results if res is not None]\n",
    "    resluts_df[k] = pd.DataFrame(results).sort_values('auc')"
   ]
  },
  {
   "cell_type": "code",
   "execution_count": 116,
   "metadata": {},
   "outputs": [],
   "source": [
    "pd.set_option('max_colwidth',100)\n"
   ]
  },
  {
   "cell_type": "code",
   "execution_count": 117,
   "metadata": {},
   "outputs": [],
   "source": [
    "#resluts_df = resluts_df.sort_values('f1_score',ascending=False)\n",
    "res_df = resluts_df['Boosted Trees']\n",
    "res_df['auc'] = 1- res_df['auc']\n",
    "res_df = res_df.round(2)"
   ]
  },
  {
   "cell_type": "code",
   "execution_count": 118,
   "metadata": {},
   "outputs": [
    {
     "name": "stdout",
     "output_type": "stream",
     "text": [
      "\\begin{tabular}{lllrrl}\n",
      "\\toprule\n",
      "{} & agent\\_type &            type\\_class &   auc &  f1\\_score &                                                                                   feature\\_importance \\\\\n",
      "\\midrule\n",
      "0  &      agent &            Robocup-2D &  0.95 &      0.78 &  RFE(estimator=XGBClassifier(base\\_score=0.5, booster='gbtree', colsample\\_bylevel=1,\\textbackslash n       colsa... \\\\\n",
      "1  &      agent &                 Chess &  0.93 &      0.60 &  RFE(estimator=XGBClassifier(base\\_score=0.5, booster='gbtree', colsample\\_bylevel=1,\\textbackslash n       colsa... \\\\\n",
      "2  &      agent &                  Anac &  0.93 &      0.60 &  RFE(estimator=XGBClassifier(base\\_score=0.5, booster='gbtree', colsample\\_bylevel=1,\\textbackslash n       colsa... \\\\\n",
      "3  &      Robot &  Robcup-Other-Leagues &  0.92 &      0.33 &  RFE(estimator=XGBClassifier(base\\_score=0.5, booster='gbtree', colsample\\_bylevel=1,\\textbackslash n       colsa... \\\\\n",
      "4  &  non-agent &                Mobile &  0.39 &      0.00 &  RFE(estimator=XGBClassifier(base\\_score=0.5, booster='gbtree', colsample\\_bylevel=1,\\textbackslash n       colsa... \\\\\n",
      "5  &  non-agent &                 Audio &  0.46 &      0.00 &  RFE(estimator=XGBClassifier(base\\_score=0.5, booster='gbtree', colsample\\_bylevel=1,\\textbackslash n       colsa... \\\\\n",
      "6  &  non-agent &                   Ide &  0.47 &      0.00 &  RFE(estimator=XGBClassifier(base\\_score=0.5, booster='gbtree', colsample\\_bylevel=1,\\textbackslash n       colsa... \\\\\n",
      "7  &  non-agent &             Education &  0.47 &      0.00 &  RFE(estimator=XGBClassifier(base\\_score=0.5, booster='gbtree', colsample\\_bylevel=1,\\textbackslash n       colsa... \\\\\n",
      "8  &  non-agent &              Security &  0.50 &      0.00 &  RFE(estimator=XGBClassifier(base\\_score=0.5, booster='gbtree', colsample\\_bylevel=1,\\textbackslash n       colsa... \\\\\n",
      "9  &  non-agent &              Graphics &  0.55 &      0.00 &  RFE(estimator=XGBClassifier(base\\_score=0.5, booster='gbtree', colsample\\_bylevel=1,\\textbackslash n       colsa... \\\\\n",
      "10 &  non-agent &               Finance &  0.56 &      0.00 &  RFE(estimator=XGBClassifier(base\\_score=0.5, booster='gbtree', colsample\\_bylevel=1,\\textbackslash n       colsa... \\\\\n",
      "11 &  non-agent &                 Games &  0.59 &      0.00 &  RFE(estimator=XGBClassifier(base\\_score=0.5, booster='gbtree', colsample\\_bylevel=1,\\textbackslash n       colsa... \\\\\n",
      "12 &  non-agent &      Robot-Simulation &  0.62 &      0.00 &  RFE(estimator=XGBClassifier(base\\_score=0.5, booster='gbtree', colsample\\_bylevel=1,\\textbackslash n       colsa... \\\\\n",
      "13 &      Robot &         Robo-Projects &   NaN &      0.00 &  RFE(estimator=XGBClassifier(base\\_score=0.5, booster='gbtree', colsample\\_bylevel=1,\\textbackslash n       colsa... \\\\\n",
      "\\bottomrule\n",
      "\\end{tabular}\n",
      "\n"
     ]
    }
   ],
   "source": [
    "res_df = res_df.sort_values('f1_score',ascending=False).reset_index()\n",
    "res_df['auc'] = 1 - res_df['auc']\n",
    "print(res_df[['agent_type','type_class','auc','f1_score','feature_importance']].to_latex())"
   ]
  },
  {
   "cell_type": "code",
   "execution_count": 257,
   "metadata": {},
   "outputs": [],
   "source": [
    "\n"
   ]
  },
  {
   "cell_type": "code",
   "execution_count": null,
   "metadata": {},
   "outputs": [],
   "source": []
  }
 ],
 "metadata": {
  "kernelspec": {
   "display_name": "Python 2",
   "language": "python",
   "name": "python2"
  },
  "language_info": {
   "codemirror_mode": {
    "name": "ipython",
    "version": 2
   },
   "file_extension": ".py",
   "mimetype": "text/x-python",
   "name": "python",
   "nbconvert_exporter": "python",
   "pygments_lexer": "ipython2",
   "version": "2.7.15"
  }
 },
 "nbformat": 4,
 "nbformat_minor": 1
}
