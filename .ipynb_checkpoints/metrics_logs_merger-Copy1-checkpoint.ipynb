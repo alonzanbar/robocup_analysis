{
 "cells": [
  {
   "cell_type": "code",
   "execution_count": 312,
   "metadata": {},
   "outputs": [],
   "source": [
    "import pandas as pd\n",
    "import json \n",
    "import re\n",
    "import numpy as np"
   ]
  },
  {
   "cell_type": "code",
   "execution_count": 313,
   "metadata": {},
   "outputs": [
    {
     "data": {
      "text/plain": [
       "516"
      ]
     },
     "execution_count": 313,
     "metadata": {},
     "output_type": "execute_result"
    }
   ],
   "source": [
    "df_metrics = pd.read_csv('data/2d-03_10_2018.csv')\n",
    "df_metrics.shape[0]"
   ]
  },
  {
   "cell_type": "code",
   "execution_count": 314,
   "metadata": {},
   "outputs": [
    {
     "data": {
      "text/html": [
       "<div>\n",
       "<style scoped>\n",
       "    .dataframe tbody tr th:only-of-type {\n",
       "        vertical-align: middle;\n",
       "    }\n",
       "\n",
       "    .dataframe tbody tr th {\n",
       "        vertical-align: top;\n",
       "    }\n",
       "\n",
       "    .dataframe thead th {\n",
       "        text-align: right;\n",
       "    }\n",
       "</style>\n",
       "<table border=\"1\" class=\"dataframe\">\n",
       "  <thead>\n",
       "    <tr style=\"text-align: right;\">\n",
       "      <th></th>\n",
       "      <th>team</th>\n",
       "      <th>results_loss</th>\n",
       "      <th>results_S</th>\n",
       "      <th>results_R</th>\n",
       "      <th>results_games</th>\n",
       "      <th>results_tie</th>\n",
       "      <th>results_win</th>\n",
       "      <th>results_win_diff</th>\n",
       "      <th>results_win_rate</th>\n",
       "      <th>results_goals_diff</th>\n",
       "      <th>results_loss_rate</th>\n",
       "      <th>competition</th>\n",
       "      <th>year</th>\n",
       "    </tr>\n",
       "  </thead>\n",
       "  <tbody>\n",
       "    <tr>\n",
       "      <th>0</th>\n",
       "      <td>-ai2004</td>\n",
       "      <td>2.0</td>\n",
       "      <td>19</td>\n",
       "      <td>9</td>\n",
       "      <td>7</td>\n",
       "      <td>0.0</td>\n",
       "      <td>5.0</td>\n",
       "      <td>0.428571</td>\n",
       "      <td>0.714286</td>\n",
       "      <td>1.428571</td>\n",
       "      <td>0.285714</td>\n",
       "      <td>AI-Games</td>\n",
       "      <td>2005</td>\n",
       "    </tr>\n",
       "    <tr>\n",
       "      <th>1</th>\n",
       "      <td>-hopomo</td>\n",
       "      <td>2.0</td>\n",
       "      <td>0</td>\n",
       "      <td>12</td>\n",
       "      <td>2</td>\n",
       "      <td>0.0</td>\n",
       "      <td>0.0</td>\n",
       "      <td>-1.000000</td>\n",
       "      <td>0.000000</td>\n",
       "      <td>-6.000000</td>\n",
       "      <td>1.000000</td>\n",
       "      <td>AI-Games</td>\n",
       "      <td>2005</td>\n",
       "    </tr>\n",
       "    <tr>\n",
       "      <th>2</th>\n",
       "      <td>actu</td>\n",
       "      <td>2.0</td>\n",
       "      <td>0</td>\n",
       "      <td>7</td>\n",
       "      <td>2</td>\n",
       "      <td>0.0</td>\n",
       "      <td>0.0</td>\n",
       "      <td>-1.000000</td>\n",
       "      <td>0.000000</td>\n",
       "      <td>-3.500000</td>\n",
       "      <td>1.000000</td>\n",
       "      <td>AI-Games</td>\n",
       "      <td>2005</td>\n",
       "    </tr>\n",
       "    <tr>\n",
       "      <th>3</th>\n",
       "      <td>biust</td>\n",
       "      <td>2.0</td>\n",
       "      <td>19</td>\n",
       "      <td>10</td>\n",
       "      <td>6</td>\n",
       "      <td>1.0</td>\n",
       "      <td>3.0</td>\n",
       "      <td>0.166667</td>\n",
       "      <td>0.500000</td>\n",
       "      <td>1.500000</td>\n",
       "      <td>0.333333</td>\n",
       "      <td>AI-Games</td>\n",
       "      <td>2005</td>\n",
       "    </tr>\n",
       "    <tr>\n",
       "      <th>4</th>\n",
       "      <td>iust</td>\n",
       "      <td>4.0</td>\n",
       "      <td>2</td>\n",
       "      <td>13</td>\n",
       "      <td>5</td>\n",
       "      <td>0.0</td>\n",
       "      <td>1.0</td>\n",
       "      <td>-0.600000</td>\n",
       "      <td>0.200000</td>\n",
       "      <td>-2.200000</td>\n",
       "      <td>0.800000</td>\n",
       "      <td>AI-Games</td>\n",
       "      <td>2005</td>\n",
       "    </tr>\n",
       "  </tbody>\n",
       "</table>\n",
       "</div>"
      ],
      "text/plain": [
       "      team  results_loss  results_S  results_R  results_games  results_tie  \\\n",
       "0  -ai2004           2.0         19          9              7          0.0   \n",
       "1  -hopomo           2.0          0         12              2          0.0   \n",
       "2     actu           2.0          0          7              2          0.0   \n",
       "3    biust           2.0         19         10              6          1.0   \n",
       "4     iust           4.0          2         13              5          0.0   \n",
       "\n",
       "   results_win  results_win_diff  results_win_rate  results_goals_diff  \\\n",
       "0          5.0          0.428571          0.714286            1.428571   \n",
       "1          0.0         -1.000000          0.000000           -6.000000   \n",
       "2          0.0         -1.000000          0.000000           -3.500000   \n",
       "3          3.0          0.166667          0.500000            1.500000   \n",
       "4          1.0         -0.600000          0.200000           -2.200000   \n",
       "\n",
       "   results_loss_rate competition  year  \n",
       "0           0.285714    AI-Games  2005  \n",
       "1           1.000000    AI-Games  2005  \n",
       "2           1.000000    AI-Games  2005  \n",
       "3           0.333333    AI-Games  2005  \n",
       "4           0.800000    AI-Games  2005  "
      ]
     },
     "execution_count": 314,
     "metadata": {},
     "output_type": "execute_result"
    }
   ],
   "source": [
    "with open('data/logs_exracted.json') as f:\n",
    "    a = json.load(f)\n",
    "df_logs = pd.DataFrame.from_dict({(i,j): a[i][j] \n",
    "                           for i in a.keys() \n",
    "                           for j in a[i].keys()},orient='index').reset_index()\n",
    "\n",
    "df_logs= df_logs.fillna(0)\n",
    "df_logs['win_diff'] = df_logs.apply(lambda x: (x['win']-x['loss'])/x['games'],axis=1)\n",
    "df_logs['win_rate'] = df_logs.apply(lambda x: (x['win'])/x['games'],axis=1)\n",
    "df_logs['goals_diff'] = df_logs.apply(lambda x: float(x['S']-x['R'])/x['games'],axis=1)\n",
    "df_logs['loss_rate'] = df_logs.apply(lambda x: (x['loss'])/x['games'],axis=1)\n",
    "df_logs = df_logs.rename({k:'results_' + k for k in df_logs.select_dtypes(include=np.number)},axis=1)\n",
    "two_groups = '(?P<competition>[a-zA-Z\\-\\_]+)(?P<year>[0-9]+)'\n",
    "\n",
    "df_logs = pd.concat([df_logs,df_logs['level_0'].str.extract(two_groups)],axis=1)\n",
    "df_logs['year'] = df_logs['year'].astype('int64')\n",
    "df_logs = df_logs.drop(['level_0'],axis=1)\n",
    "df_logs = df_logs.rename({'level_1':'team'},axis=1)\n",
    "\n",
    "\n",
    "\n",
    "\n",
    "df_logs.head()"
   ]
  },
  {
   "cell_type": "code",
   "execution_count": 315,
   "metadata": {},
   "outputs": [],
   "source": [
    "df_logs['team'] = [x.strip('_-') for x in df_logs['team']]"
   ]
  },
  {
   "cell_type": "code",
   "execution_count": 316,
   "metadata": {},
   "outputs": [],
   "source": [
    "df_logs['competition'] = df_logs['competition'].str.replace(u'JapanAutumnCamp','AutumnCamp')"
   ]
  },
  {
   "cell_type": "code",
   "execution_count": 317,
   "metadata": {},
   "outputs": [],
   "source": [
    "df_logs.to_csv('data/logs_extracted.csv')"
   ]
  },
  {
   "cell_type": "code",
   "execution_count": 318,
   "metadata": {},
   "outputs": [],
   "source": [
    "df_logs['team'] = df_logs['team'].str.lower()"
   ]
  },
  {
   "cell_type": "code",
   "execution_count": 319,
   "metadata": {},
   "outputs": [],
   "source": [
    "df_logs = df_logs.groupby(['year','competition','team']).sum().reset_index()"
   ]
  },
  {
   "cell_type": "code",
   "execution_count": 320,
   "metadata": {},
   "outputs": [
    {
     "data": {
      "text/plain": [
       "1291"
      ]
     },
     "execution_count": 320,
     "metadata": {},
     "output_type": "execute_result"
    }
   ],
   "source": [
    "df_logs.shape[0]"
   ]
  },
  {
   "cell_type": "code",
   "execution_count": 321,
   "metadata": {},
   "outputs": [],
   "source": [
    "df_logs = df_logs[~(df_logs['team'].str.len()<3)]"
   ]
  },
  {
   "cell_type": "markdown",
   "metadata": {},
   "source": [
    "#### Load manually linked logs to program"
   ]
  },
  {
   "cell_type": "code",
   "execution_count": 322,
   "metadata": {},
   "outputs": [
    {
     "name": "stdout",
     "output_type": "stream",
     "text": [
      "<class 'pandas.core.frame.DataFrame'>\n",
      "RangeIndex: 528 entries, 0 to 527\n",
      "Data columns (total 4 columns):\n",
      "competition    528 non-null object\n",
      "group_name     528 non-null object\n",
      "year           528 non-null int64\n",
      "team_manual    60 non-null object\n",
      "dtypes: int64(1), object(3)\n",
      "memory usage: 16.6+ KB\n"
     ]
    }
   ],
   "source": [
    "df_mapped = pd.read_csv('data/group_names_mapped.csv',usecols=['competition','year','team_manual','group_name'])\n",
    "df_mapped.info()"
   ]
  },
  {
   "cell_type": "code",
   "execution_count": 323,
   "metadata": {},
   "outputs": [],
   "source": [
    "df_merged_mapping = df_logs.merge(df_mapped,left_on=['competition','year','team'],right_on=['competition','year','team_manual'],how='left')\n",
    "df_merged_mapping['team_alt'] = df_merged_mapping.apply(lambda x: x.group_name if pd.notnull(x.group_name) else x.team ,axis=1)"
   ]
  },
  {
   "cell_type": "code",
   "execution_count": 324,
   "metadata": {},
   "outputs": [
    {
     "data": {
      "text/plain": [
       "1257"
      ]
     },
     "execution_count": 324,
     "metadata": {},
     "output_type": "execute_result"
    }
   ],
   "source": [
    "df_merged_mapping.shape[0]"
   ]
  },
  {
   "cell_type": "code",
   "execution_count": 325,
   "metadata": {},
   "outputs": [],
   "source": [
    "df_merged_mapping = df_merged_mapping.drop('group_name',axis=1)"
   ]
  },
  {
   "cell_type": "markdown",
   "metadata": {},
   "source": [
    "#### number manually linked programs : "
   ]
  },
  {
   "cell_type": "code",
   "execution_count": 326,
   "metadata": {},
   "outputs": [
    {
     "data": {
      "text/plain": [
       "1257"
      ]
     },
     "execution_count": 326,
     "metadata": {},
     "output_type": "execute_result"
    }
   ],
   "source": [
    "df_merged_mapping.shape[0]"
   ]
  },
  {
   "cell_type": "markdown",
   "metadata": {},
   "source": [
    "#### Number of not liked groups"
   ]
  },
  {
   "cell_type": "markdown",
   "metadata": {},
   "source": [
    "### Automatically linking groups to logs"
   ]
  },
  {
   "cell_type": "code",
   "execution_count": 327,
   "metadata": {},
   "outputs": [],
   "source": [
    "def is_in_group(x,):\n",
    "    r= re.match(r'([a-zA-Z\\-]+)',x.team_alt)\n",
    "    r2 = re.match(r'([a-zA-Z\\-0-9]+)',x.team_alt)\n",
    "    if not r:\n",
    "        return False\n",
    "    return r.groups()[0].lower() in x.group_name.lower(), len(r2.groups()[0])"
   ]
  },
  {
   "cell_type": "code",
   "execution_count": 328,
   "metadata": {},
   "outputs": [],
   "source": [
    "def len_in_group_dup(x):\n",
    "    if x.duplicate_team < 2: \n",
    "        return True\n",
    "    r= re.match(r'([a-zA-Z\\-0-9]+)',x.team_alt)\n",
    "    if not r:\n",
    "        return False\n",
    "    if r.groups()[0].lower() in x.group_name.lower():\n",
    "        return len(r.groups()[0])"
   ]
  },
  {
   "cell_type": "code",
   "execution_count": 329,
   "metadata": {},
   "outputs": [],
   "source": [
    "df_mix = df_metrics.merge(df_merged_mapping,on=['competition','year'])\n"
   ]
  },
  {
   "cell_type": "code",
   "execution_count": 330,
   "metadata": {},
   "outputs": [],
   "source": [
    "df_mix = df_mix.join(df_mix.apply(is_in_group,axis=1,result_type='expand').\n",
    "                     rename({0:'exist',1:'length'},axis=1))\n"
   ]
  },
  {
   "cell_type": "code",
   "execution_count": 331,
   "metadata": {},
   "outputs": [],
   "source": [
    "df = df_mix[df_mix['exist']==True].copy()"
   ]
  },
  {
   "cell_type": "code",
   "execution_count": 332,
   "metadata": {},
   "outputs": [],
   "source": [
    "df.loc[:,'max'] = df.groupby(['competition','year','group_name'])['length'].transform(max)"
   ]
  },
  {
   "cell_type": "code",
   "execution_count": 333,
   "metadata": {},
   "outputs": [],
   "source": [
    "df = df[df['length']==df['max']]"
   ]
  },
  {
   "cell_type": "code",
   "execution_count": 334,
   "metadata": {},
   "outputs": [],
   "source": [
    "g = df.groupby(['competition','year','group_name'])['Current_group_location'].transform(lambda x: x.count())"
   ]
  },
  {
   "cell_type": "code",
   "execution_count": 335,
   "metadata": {},
   "outputs": [
    {
     "data": {
      "text/plain": [
       "516"
      ]
     },
     "execution_count": 335,
     "metadata": {},
     "output_type": "execute_result"
    }
   ],
   "source": [
    "df_metrics.shape[0]"
   ]
  },
  {
   "cell_type": "code",
   "execution_count": 336,
   "metadata": {},
   "outputs": [
    {
     "data": {
      "text/plain": [
       "410"
      ]
     },
     "execution_count": 336,
     "metadata": {},
     "output_type": "execute_result"
    }
   ],
   "source": [
    "df1 = df_metrics.merge(df,on=['competition','year','group_name'],how='left',indicator=True)\n",
    "df1[df1['_merge']=='both'].shape[0]"
   ]
  },
  {
   "cell_type": "code",
   "execution_count": 337,
   "metadata": {},
   "outputs": [],
   "source": [
    "df1[['competition','group_name','year','team_manual','_merge']].sort_values(['year','group_name']).to_csv('checkpoints/not_found_group_names.csv')"
   ]
  },
  {
   "cell_type": "code",
   "execution_count": 338,
   "metadata": {},
   "outputs": [],
   "source": [
    "df2 = df_logs.merge(df,how='left',on=['competition','year','team'])"
   ]
  },
  {
   "cell_type": "code",
   "execution_count": 339,
   "metadata": {},
   "outputs": [
    {
     "data": {
      "text/plain": [
       "year                  1251\n",
       "competition           1251\n",
       "team                  1251\n",
       "results_loss          1251\n",
       "results_S             1251\n",
       "results_R             1251\n",
       "results_games         1251\n",
       "results_tie           1251\n",
       "results_win           1251\n",
       "results_win_diff      1251\n",
       "results_win_rate      1251\n",
       "results_goals_diff    1251\n",
       "results_loss_rate     1251\n",
       "dtype: int64"
      ]
     },
     "execution_count": 339,
     "metadata": {},
     "output_type": "execute_result"
    }
   ],
   "source": [
    "df_logs.count()"
   ]
  },
  {
   "cell_type": "code",
   "execution_count": 340,
   "metadata": {},
   "outputs": [],
   "source": [
    "df2[(df2['group_name'].isnull())][['competition','year','team']].sort_values(['competition','year','team']).to_csv('checkpoints/not_found_team.csv')\n"
   ]
  },
  {
   "cell_type": "code",
   "execution_count": 341,
   "metadata": {},
   "outputs": [],
   "source": [
    "r= re.match(r'([a-zA-Z\\-0-9]+)','oxblue08')"
   ]
  },
  {
   "cell_type": "code",
   "execution_count": 342,
   "metadata": {},
   "outputs": [
    {
     "data": {
      "text/plain": [
       "'oxblue08'"
      ]
     },
     "execution_count": 342,
     "metadata": {},
     "output_type": "execute_result"
    }
   ],
   "source": [
    "r.group(0).lower()"
   ]
  },
  {
   "cell_type": "code",
   "execution_count": 343,
   "metadata": {},
   "outputs": [
    {
     "data": {
      "text/plain": [
       "'oxblue_rc08_release'"
      ]
     },
     "execution_count": 343,
     "metadata": {},
     "output_type": "execute_result"
    }
   ],
   "source": [
    "'OxBlue_rc08_release'.lower()"
   ]
  },
  {
   "cell_type": "code",
   "execution_count": 344,
   "metadata": {},
   "outputs": [],
   "source": [
    "df.to_csv('data/merged-logs_repo.csv')"
   ]
  },
  {
   "cell_type": "code",
   "execution_count": null,
   "metadata": {},
   "outputs": [],
   "source": []
  }
 ],
 "metadata": {
  "hide_input": false,
  "kernelspec": {
   "display_name": "Python 2",
   "language": "python",
   "name": "python2"
  },
  "language_info": {
   "codemirror_mode": {
    "name": "ipython",
    "version": 2
   },
   "file_extension": ".py",
   "mimetype": "text/x-python",
   "name": "python",
   "nbconvert_exporter": "python",
   "pygments_lexer": "ipython2",
   "version": "2.7.15"
  }
 },
 "nbformat": 4,
 "nbformat_minor": 2
}
