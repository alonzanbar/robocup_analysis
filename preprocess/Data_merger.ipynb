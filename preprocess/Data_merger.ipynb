{
 "cells": [
  {
   "cell_type": "code",
   "execution_count": 1,
   "metadata": {},
   "outputs": [],
   "source": [
    "import matplotlib\n",
    "import  pandas as pd\n",
    "import os\n",
    "import matplotlib.pyplot as plt\n",
    "import numpy as np\n",
    "import seaborn as sns\n",
    "import re"
   ]
  },
  {
   "cell_type": "code",
   "execution_count": 2,
   "metadata": {},
   "outputs": [],
   "source": [
    "common_categories = ['category','agent_type','type','folder']\n",
    "regexp_total = re.compile(r'analizo_(.)*')"
   ]
  },
  {
   "cell_type": "code",
   "execution_count": 4,
   "metadata": {},
   "outputs": [],
   "source": [
    "anac_df = pd.read_csv(\"../data/anac.csv\")\n",
    "anac_df.rename(columns={'type':'category'},inplace=True)\n",
    "anac_df['type'] = 'anac'\n",
    "anac_df['category'] = 'anac'\n",
    "anac_df['agent_type'] = 'agent'\n",
    "cccc_cols= [c for c in anac_df if 'cccc' in c]\n",
    "drop_cccc_dic = {k[5:]:k for k in cccc_cols}"
   ]
  },
  {
   "cell_type": "code",
   "execution_count": 6,
   "metadata": {},
   "outputs": [],
   "source": [
    "rep_df_2d = pd.read_csv('../data/2d-03_10_2018.csv')\n",
    "rep_df_2d = rep_df_2d[rep_df_2d['is_source']==True].copy()\n",
    "rep_df_2d['category'] = 'robocup-2d'\n",
    "rep_df_2d['agent_type'] = 'agent'\n",
    "rep_df_2d.rename(index=str,columns=drop_cccc_dic,inplace=True)\n",
    "\n",
    "robocup_other =  pd.read_csv(\"../data/robocup-other-04_10_2018.csv\")\n",
    "robocup_other['category'] = 'Robcup-other-leagues'\n",
    "robocup_other['agent_type'] = 'Robot'\n",
    "\n",
    "robo_sim_df = pd.concat([rep_df_2d,robocup_other],sort=False)"
   ]
  },
  {
   "cell_type": "code",
   "execution_count": null,
   "metadata": {},
   "outputs": [],
   "source": []
  },
  {
   "cell_type": "code",
   "execution_count": 8,
   "metadata": {},
   "outputs": [],
   "source": [
    "robo_sim_df = robo_sim_df.rename(index=str,columns={'new_dir':'folder'})\n",
    "robo_sim_df.to_csv('../data/robo-sim-data.csv')\n",
    "#robo_sim_df = robo_sim_df[[c for c in robo_sim_df.columns if regexp_total.search(c) or (c in common_categories)]].copy()"
   ]
  },
  {
   "cell_type": "code",
   "execution_count": 9,
   "metadata": {},
   "outputs": [],
   "source": [
    "\n",
    "robo_sim_df['type'] = 'Robocup'"
   ]
  },
  {
   "cell_type": "code",
   "execution_count": 69,
   "metadata": {},
   "outputs": [],
   "source": [
    "git_hub_df = pd.read_csv(\"../data/git-hub-10_10_2018.csv\")\n",
    "git_hub_df['category'] = git_hub_df['new_dir_name'].str.split(\"/\").str[-2]\n",
    "git_hub_df['type'] = 'git-hub'\n",
    "agent_categories = ['chess']\n",
    "git_hub_df = git_hub_df.groupby('category').filter(lambda x: x['analizo_mmloc_sum'].count()>25)\n",
    "\n",
    "git_hub_df.loc[git_hub_df.category.isin(agent_categories), 'agent_type'] = 'agent'\n",
    "git_hub_df.loc[~git_hub_df.category.isin(agent_categories), 'agent_type'] = 'non-agent'\n",
    "git_hub_df.rename(index=str,columns=drop_cccc_dic,inplace=True)"
   ]
  },
  {
   "cell_type": "code",
   "execution_count": 75,
   "metadata": {},
   "outputs": [],
   "source": [
    "df_chatbot = pd.read_csv(\"../data/chatbot-20_09_2019.csv\")"
   ]
  },
  {
   "cell_type": "code",
   "execution_count": 76,
   "metadata": {},
   "outputs": [],
   "source": [
    "df_chatbot['category'] = df_chatbot['new_dir_name'].str.split(\"/\").str[-2]"
   ]
  },
  {
   "cell_type": "code",
   "execution_count": null,
   "metadata": {},
   "outputs": [],
   "source": [
    "df_chatbot['type'] = 'git-hub'\n",
    "\n",
    "df_chatbot['agent_type'] = 'agent'\n",
    "df_chatbot.rename(index=str,columns=drop_cccc_dic,inplace=True)"
   ]
  },
  {
   "cell_type": "code",
   "execution_count": 79,
   "metadata": {},
   "outputs": [],
   "source": [
    "external_df  = pd.read_csv(\"../data/external-04_10_2018code_analysis__summery_report.csv\")\n",
    "external_df.rename(columns={'type':'category'},inplace=True)\n",
    "external_df['type'] = 'Industry'\n",
    "external_df['agent_type'] = 'Robot'"
   ]
  },
  {
   "cell_type": "code",
   "execution_count": 80,
   "metadata": {},
   "outputs": [],
   "source": [
    "df_all = pd.concat([git_hub_df,anac_df,external_df,df_chatbot],sort=False)\n",
    "#df_all = df_all[[c for c in df_all.columns if  regexp_total.search(c) or c in common_categories]].copy()\n",
    "df_all[4:5].columns[df_all[4:5].isna().any()].tolist()\n",
    "cols = [\n",
    " 'analizo__module',\n",
    " 'analizo_lcom4',\n",
    " 'analizo_npm',\n",
    " 'analizo_dit',\n",
    " 'analizo_acc',\n",
    " 'analizo_cbo',\n",
    " 'analizo_accm',\n",
    " 'analizo_amloc',\n",
    " 'analizo_sc',\n",
    " 'analizo_noc',\n",
    " 'analizo_rfc',\n",
    " 'analizo_noa',\n",
    " 'analizo_nom',\n",
    " 'analizo_npa',\n",
    " 'analizo_mmloc',\n",
    " 'analizo_loc',\n",
    " 'analizo_anpm',\n",
    " 'analizo_total_eloc']"
   ]
  },
  {
   "cell_type": "code",
   "execution_count": 81,
   "metadata": {},
   "outputs": [
    {
     "data": {
      "text/plain": [
       "(693, 241)"
      ]
     },
     "execution_count": 81,
     "metadata": {},
     "output_type": "execute_result"
    }
   ],
   "source": [
    "df_all.drop(columns=cols,inplace=True)\n",
    "#df_all.dropna(inplace=True)\n",
    "df_all.shape"
   ]
  },
  {
   "cell_type": "code",
   "execution_count": 82,
   "metadata": {},
   "outputs": [
    {
     "data": {
      "text/plain": [
       "(782, 275)"
      ]
     },
     "execution_count": 82,
     "metadata": {},
     "output_type": "execute_result"
    }
   ],
   "source": [
    "df_robo_all = pd.concat([robo_sim_df,df_all],sort=False,ignore_index=True)\n",
    "df_robo_all.shape"
   ]
  },
  {
   "cell_type": "code",
   "execution_count": 83,
   "metadata": {},
   "outputs": [],
   "source": [
    "df_robo_all['category'] = df_robo_all['category'].str.title()"
   ]
  },
  {
   "cell_type": "code",
   "execution_count": 84,
   "metadata": {},
   "outputs": [
    {
     "name": "stdout",
     "output_type": "stream",
     "text": [
      "project before removing lower quantile : 782\n",
      "project after removing lower quantile : 577\n"
     ]
    }
   ],
   "source": [
    "print \"project before removing lower quantile : \" + str(df_robo_all.shape[0])\n",
    "df_robo_all =df_robo_all.loc[df_robo_all['analizo_total_loc']>1000,:]\n",
    "print \"project after removing lower quantile : \" + str(df_robo_all.shape[0])"
   ]
  },
  {
   "cell_type": "code",
   "execution_count": 85,
   "metadata": {},
   "outputs": [],
   "source": [
    "df_robo_all.to_csv(\"../data/data.csv\")"
   ]
  },
  {
   "cell_type": "code",
   "execution_count": 86,
   "metadata": {},
   "outputs": [
    {
     "data": {
      "text/plain": [
       "type      category            \n",
       "Industry  Autodrivers              1\n",
       "          Robo-Projects            4\n",
       "Robocup   Robcup-Other-Leagues    21\n",
       "          Robocup-2D              64\n",
       "anac      Anac                    25\n",
       "git-hub   Audio                   53\n",
       "          Chatbot                 35\n",
       "          Chess                   29\n",
       "          Education               50\n",
       "          Finance                 26\n",
       "          Games                   34\n",
       "          Graphics                59\n",
       "          Ide                     53\n",
       "          Mobile                  41\n",
       "          Robot-Simulation        23\n",
       "          Security                59\n",
       "Name: analizo_accm_mean, dtype: int64"
      ]
     },
     "execution_count": 86,
     "metadata": {},
     "output_type": "execute_result"
    }
   ],
   "source": [
    "df_robo_all.groupby(['type','category'])['analizo_accm_mean'].count()"
   ]
  },
  {
   "cell_type": "code",
   "execution_count": 51,
   "metadata": {},
   "outputs": [],
   "source": [
    "# df_robo_all.groupby('category').sum()['analizo_total_modules'].plot(kind='bar')"
   ]
  },
  {
   "cell_type": "code",
   "execution_count": 52,
   "metadata": {},
   "outputs": [
    {
     "data": {
      "text/plain": [
       "<matplotlib.axes._subplots.AxesSubplot at 0x11c0c3790>"
      ]
     },
     "execution_count": 52,
     "metadata": {},
     "output_type": "execute_result"
    },
    {
     "data": {
      "image/png": "[encoded data removed]",
      "text/plain": [
       "<Figure size 432x288 with 1 Axes>"
      ]
     },
     "metadata": {
      "needs_background": "light"
     },
     "output_type": "display_data"
    }
   ],
   "source": [
    "df_robo_all.groupby('category').mean()['analizo_total_loc'].plot(kind='bar')"
   ]
  },
  {
   "cell_type": "code",
   "execution_count": 53,
   "metadata": {},
   "outputs": [
    {
     "name": "stdout",
     "output_type": "stream",
     "text": [
      "Collecting xlwt\n",
      "\u001b[?25l  Downloading https://files.pythonhosted.org/packages/44/48/def306413b25c3d01753603b1a222a011b8621aed27cd7f89cbc27e6b0f4/xlwt-1.3.0-py2.py3-none-any.whl (99kB)\n",
      "\u001b[K    100% |████████████████████████████████| 102kB 283kB/s a 0:00:01\n",
      "\u001b[?25hInstalling collected packages: xlwt\n",
      "Successfully installed xlwt-1.3.0\n",
      "\u001b[33mYou are using pip version 10.0.1, however version 19.2.3 is available.\n",
      "You should consider upgrading via the 'pip install --upgrade pip' command.\u001b[0m\n"
     ]
    }
   ],
   "source": [
    "!pip install xlwt"
   ]
  },
  {
   "cell_type": "code",
   "execution_count": 29,
   "metadata": {},
   "outputs": [],
   "source": [
    "df_robo_all.groupby('category').agg(['min', 'max','median'])['analizo_total_loc'].to_csv('loc.csv')"
   ]
  },
  {
   "cell_type": "code",
   "execution_count": 54,
   "metadata": {},
   "outputs": [
    {
     "data": {
      "text/plain": [
       "category\n",
       "Anac                      443.0\n",
       "Audio                   15263.0\n",
       "Autodrivers               940.0\n",
       "Chatbot                  6046.0\n",
       "Chatterbot               6046.0\n",
       "Chess                    2260.0\n",
       "Education               14039.0\n",
       "Finance                 10400.0\n",
       "Games                    6763.0\n",
       "Graphics                23328.0\n",
       "Ide                     30718.0\n",
       "Mobile                   7239.0\n",
       "Robcup-Other-Leagues    14763.0\n",
       "Robo-Projects            1269.0\n",
       "Robocup-2D              13315.0\n",
       "Robot-Simulation         7820.0\n",
       "Security                20702.0\n",
       "Name: analizo_total_modules, dtype: float64"
      ]
     },
     "execution_count": 54,
     "metadata": {},
     "output_type": "execute_result"
    }
   ],
   "source": [
    "df_robo_all.groupby('category').sum()['analizo_total_modules']"
   ]
  },
  {
   "cell_type": "code",
   "execution_count": 55,
   "metadata": {},
   "outputs": [
    {
     "ename": "NameError",
     "evalue": "name 'df_robo_a' is not defined",
     "output_type": "error",
     "traceback": [
      "\u001b[0;31m---------------------------------------------------------------------------\u001b[0m",
      "\u001b[0;31mNameError\u001b[0m                                 Traceback (most recent call last)",
      "\u001b[0;32m<ipython-input-55-2fa181843100>\u001b[0m in \u001b[0;36m<module>\u001b[0;34m()\u001b[0m\n\u001b[0;32m----> 1\u001b[0;31m \u001b[0mdf_robo_a\u001b[0m\u001b[0;34m\u001b[0m\u001b[0m\n\u001b[0m",
      "\u001b[0;31mNameError\u001b[0m: name 'df_robo_a' is not defined"
     ]
    }
   ],
   "source": [
    "df_robo_a"
   ]
  },
  {
   "cell_type": "code",
   "execution_count": null,
   "metadata": {},
   "outputs": [],
   "source": []
  },
  {
   "cell_type": "code",
   "execution_count": null,
   "metadata": {},
   "outputs": [],
   "source": []
  }
 ],
 "metadata": {
  "hide_input": false,
  "kernelspec": {
   "display_name": "Python 2",
   "language": "python",
   "name": "python2"
  },
  "language_info": {
   "codemirror_mode": {
    "name": "ipython",
    "version": 2
   },
   "file_extension": ".py",
   "mimetype": "text/x-python",
   "name": "python",
   "nbconvert_exporter": "python",
   "pygments_lexer": "ipython2",
   "version": "2.7.15"
  }
 },
 "nbformat": 4,
 "nbformat_minor": 2
}
