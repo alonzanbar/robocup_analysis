{
 "cells": [
  {
   "cell_type": "code",
   "execution_count": 224,
   "metadata": {},
   "outputs": [],
   "source": [
    "import pandas as pd\n",
    "import json \n",
    "import re\n",
    "import numpy as np"
   ]
  },
  {
   "cell_type": "code",
   "execution_count": 225,
   "metadata": {},
   "outputs": [
    {
     "name": "stdout",
     "output_type": "stream",
     "text": [
      "<class 'pandas.core.frame.DataFrame'>\n",
      "RangeIndex: 516 entries, 0 to 515\n",
      "Columns: 270 entries, Current_group_location to year\n",
      "dtypes: float64(220), int64(5), object(45)\n",
      "memory usage: 1.1+ MB\n"
     ]
    }
   ],
   "source": [
    "df_metrics = pd.read_csv('data/2d-03_10_2018.csv')\n",
    "df_metrics.info()"
   ]
  },
  {
   "cell_type": "code",
   "execution_count": 226,
   "metadata": {},
   "outputs": [
    {
     "name": "stdout",
     "output_type": "stream",
     "text": [
      "<class 'pandas.core.frame.DataFrame'>\n",
      "RangeIndex: 1294 entries, 0 to 1293\n",
      "Data columns (total 16 columns):\n",
      "Unnamed: 0     1294 non-null int64\n",
      "teamname       1294 non-null object\n",
      "loss           1294 non-null float64\n",
      "S              1294 non-null int64\n",
      "R              1294 non-null int64\n",
      "games          1294 non-null int64\n",
      "tie            1294 non-null float64\n",
      "win            1294 non-null float64\n",
      "competition    1294 non-null object\n",
      "year           1294 non-null int64\n",
      "win_diff       1294 non-null float64\n",
      "win_rate       1294 non-null float64\n",
      "goals_diff     1294 non-null float64\n",
      "loss_rate      1294 non-null float64\n",
      "team           1294 non-null object\n",
      "rank           53 non-null float64\n",
      "dtypes: float64(8), int64(5), object(3)\n",
      "memory usage: 161.8+ KB\n"
     ]
    }
   ],
   "source": [
    "df_logs =  pd.read_csv('checkpoints/logs-ranks.csv')\n",
    "df_logs.info()"
   ]
  },
  {
   "cell_type": "code",
   "execution_count": 227,
   "metadata": {},
   "outputs": [
    {
     "data": {
      "text/html": [
       "<div>\n",
       "<style scoped>\n",
       "    .dataframe tbody tr th:only-of-type {\n",
       "        vertical-align: middle;\n",
       "    }\n",
       "\n",
       "    .dataframe tbody tr th {\n",
       "        vertical-align: top;\n",
       "    }\n",
       "\n",
       "    .dataframe thead th {\n",
       "        text-align: right;\n",
       "    }\n",
       "</style>\n",
       "<table border=\"1\" class=\"dataframe\">\n",
       "  <thead>\n",
       "    <tr style=\"text-align: right;\">\n",
       "      <th></th>\n",
       "      <th>Unnamed: 0</th>\n",
       "      <th>teamname</th>\n",
       "      <th>loss</th>\n",
       "      <th>S</th>\n",
       "      <th>R</th>\n",
       "      <th>games</th>\n",
       "      <th>tie</th>\n",
       "      <th>win</th>\n",
       "      <th>competition</th>\n",
       "      <th>year</th>\n",
       "      <th>win_diff</th>\n",
       "      <th>win_rate</th>\n",
       "      <th>goals_diff</th>\n",
       "      <th>loss_rate</th>\n",
       "      <th>team</th>\n",
       "      <th>rank</th>\n",
       "    </tr>\n",
       "  </thead>\n",
       "  <tbody>\n",
       "    <tr>\n",
       "      <th>0</th>\n",
       "      <td>0</td>\n",
       "      <td>-humboldt</td>\n",
       "      <td>4.0</td>\n",
       "      <td>0</td>\n",
       "      <td>13</td>\n",
       "      <td>4</td>\n",
       "      <td>0.0</td>\n",
       "      <td>0.0</td>\n",
       "      <td>WorldCup</td>\n",
       "      <td>2005</td>\n",
       "      <td>-1.0</td>\n",
       "      <td>0.0</td>\n",
       "      <td>-3.250000</td>\n",
       "      <td>1.0</td>\n",
       "      <td>humboldt</td>\n",
       "      <td>NaN</td>\n",
       "    </tr>\n",
       "    <tr>\n",
       "      <th>1</th>\n",
       "      <td>1</td>\n",
       "      <td>chagamma</td>\n",
       "      <td>5.0</td>\n",
       "      <td>1</td>\n",
       "      <td>25</td>\n",
       "      <td>5</td>\n",
       "      <td>0.0</td>\n",
       "      <td>0.0</td>\n",
       "      <td>WorldCup</td>\n",
       "      <td>2003</td>\n",
       "      <td>-1.0</td>\n",
       "      <td>0.0</td>\n",
       "      <td>-4.800000</td>\n",
       "      <td>1.0</td>\n",
       "      <td>chagamma</td>\n",
       "      <td>NaN</td>\n",
       "    </tr>\n",
       "    <tr>\n",
       "      <th>2</th>\n",
       "      <td>2</td>\n",
       "      <td>og</td>\n",
       "      <td>4.0</td>\n",
       "      <td>1</td>\n",
       "      <td>11</td>\n",
       "      <td>4</td>\n",
       "      <td>0.0</td>\n",
       "      <td>0.0</td>\n",
       "      <td>JapanAutumnCamp</td>\n",
       "      <td>2010</td>\n",
       "      <td>-1.0</td>\n",
       "      <td>0.0</td>\n",
       "      <td>-2.500000</td>\n",
       "      <td>1.0</td>\n",
       "      <td>og</td>\n",
       "      <td>NaN</td>\n",
       "    </tr>\n",
       "    <tr>\n",
       "      <th>3</th>\n",
       "      <td>3</td>\n",
       "      <td>_utaustinvilla</td>\n",
       "      <td>1.0</td>\n",
       "      <td>0</td>\n",
       "      <td>6</td>\n",
       "      <td>1</td>\n",
       "      <td>0.0</td>\n",
       "      <td>0.0</td>\n",
       "      <td>USOpens</td>\n",
       "      <td>2004</td>\n",
       "      <td>-1.0</td>\n",
       "      <td>0.0</td>\n",
       "      <td>-6.000000</td>\n",
       "      <td>1.0</td>\n",
       "      <td>utaustinvilla</td>\n",
       "      <td>NaN</td>\n",
       "    </tr>\n",
       "    <tr>\n",
       "      <th>4</th>\n",
       "      <td>4</td>\n",
       "      <td>ahua</td>\n",
       "      <td>3.0</td>\n",
       "      <td>1</td>\n",
       "      <td>11</td>\n",
       "      <td>3</td>\n",
       "      <td>0.0</td>\n",
       "      <td>0.0</td>\n",
       "      <td>ChinaOpens</td>\n",
       "      <td>2007</td>\n",
       "      <td>-1.0</td>\n",
       "      <td>0.0</td>\n",
       "      <td>-3.333333</td>\n",
       "      <td>1.0</td>\n",
       "      <td>ahua</td>\n",
       "      <td>NaN</td>\n",
       "    </tr>\n",
       "  </tbody>\n",
       "</table>\n",
       "</div>"
      ],
      "text/plain": [
       "   Unnamed: 0        teamname  loss  S   R  games  tie  win      competition  \\\n",
       "0           0       -humboldt   4.0  0  13      4  0.0  0.0         WorldCup   \n",
       "1           1        chagamma   5.0  1  25      5  0.0  0.0         WorldCup   \n",
       "2           2              og   4.0  1  11      4  0.0  0.0  JapanAutumnCamp   \n",
       "3           3  _utaustinvilla   1.0  0   6      1  0.0  0.0          USOpens   \n",
       "4           4            ahua   3.0  1  11      3  0.0  0.0       ChinaOpens   \n",
       "\n",
       "   year  win_diff  win_rate  goals_diff  loss_rate           team  rank  \n",
       "0  2005      -1.0       0.0   -3.250000        1.0       humboldt   NaN  \n",
       "1  2003      -1.0       0.0   -4.800000        1.0       chagamma   NaN  \n",
       "2  2010      -1.0       0.0   -2.500000        1.0             og   NaN  \n",
       "3  2004      -1.0       0.0   -6.000000        1.0  utaustinvilla   NaN  \n",
       "4  2007      -1.0       0.0   -3.333333        1.0           ahua   NaN  "
      ]
     },
     "execution_count": 227,
     "metadata": {},
     "output_type": "execute_result"
    }
   ],
   "source": [
    "df_logs.head()"
   ]
  },
  {
   "cell_type": "code",
   "execution_count": 228,
   "metadata": {},
   "outputs": [],
   "source": [
    "df_logs['team'] = [x.strip('_-') for x in df_logs['team']]"
   ]
  },
  {
   "cell_type": "code",
   "execution_count": 229,
   "metadata": {},
   "outputs": [],
   "source": [
    "df_logs['competition'] = df_logs['competition'].str.replace(u'JapanAutumnCamp','AutumnCamp')"
   ]
  },
  {
   "cell_type": "code",
   "execution_count": 230,
   "metadata": {},
   "outputs": [],
   "source": [
    "df_logs.to_csv('data/logs_extracted.csv')"
   ]
  },
  {
   "cell_type": "code",
   "execution_count": 231,
   "metadata": {},
   "outputs": [],
   "source": [
    "df_logs['team'] = df_logs['team'].str.lower()"
   ]
  },
  {
   "cell_type": "code",
   "execution_count": 232,
   "metadata": {},
   "outputs": [],
   "source": [
    "df_logs = df_logs.groupby(['year','competition','team']).sum().reset_index()"
   ]
  },
  {
   "cell_type": "code",
   "execution_count": 233,
   "metadata": {},
   "outputs": [
    {
     "data": {
      "text/plain": [
       "1291"
      ]
     },
     "execution_count": 233,
     "metadata": {},
     "output_type": "execute_result"
    }
   ],
   "source": [
    "df_logs.shape[0]"
   ]
  },
  {
   "cell_type": "code",
   "execution_count": 234,
   "metadata": {},
   "outputs": [],
   "source": [
    "df_logs = df_logs[~(df_logs['team'].str.len()<3)]"
   ]
  },
  {
   "cell_type": "code",
   "execution_count": 235,
   "metadata": {},
   "outputs": [
    {
     "data": {
      "text/html": [
       "<div>\n",
       "<style scoped>\n",
       "    .dataframe tbody tr th:only-of-type {\n",
       "        vertical-align: middle;\n",
       "    }\n",
       "\n",
       "    .dataframe tbody tr th {\n",
       "        vertical-align: top;\n",
       "    }\n",
       "\n",
       "    .dataframe thead th {\n",
       "        text-align: right;\n",
       "    }\n",
       "</style>\n",
       "<table border=\"1\" class=\"dataframe\">\n",
       "  <thead>\n",
       "    <tr style=\"text-align: right;\">\n",
       "      <th></th>\n",
       "      <th>year</th>\n",
       "      <th>competition</th>\n",
       "      <th>results_team</th>\n",
       "      <th>results_Unnamed: 0</th>\n",
       "      <th>results_loss</th>\n",
       "      <th>results_S</th>\n",
       "      <th>results_R</th>\n",
       "      <th>results_games</th>\n",
       "      <th>results_tie</th>\n",
       "      <th>results_win</th>\n",
       "      <th>results_win_diff</th>\n",
       "      <th>results_win_rate</th>\n",
       "      <th>results_goals_diff</th>\n",
       "      <th>results_loss_rate</th>\n",
       "      <th>results_rank</th>\n",
       "    </tr>\n",
       "  </thead>\n",
       "  <tbody>\n",
       "    <tr>\n",
       "      <th>0</th>\n",
       "      <td>2001</td>\n",
       "      <td>WorldCup</td>\n",
       "      <td>arvand</td>\n",
       "      <td>928</td>\n",
       "      <td>1.0</td>\n",
       "      <td>3</td>\n",
       "      <td>1</td>\n",
       "      <td>4</td>\n",
       "      <td>1.0</td>\n",
       "      <td>2.0</td>\n",
       "      <td>0.250000</td>\n",
       "      <td>0.500000</td>\n",
       "      <td>0.500000</td>\n",
       "      <td>0.250000</td>\n",
       "      <td>0.0</td>\n",
       "    </tr>\n",
       "    <tr>\n",
       "      <th>1</th>\n",
       "      <td>2001</td>\n",
       "      <td>WorldCup</td>\n",
       "      <td>ateam</td>\n",
       "      <td>930</td>\n",
       "      <td>1.0</td>\n",
       "      <td>9</td>\n",
       "      <td>1</td>\n",
       "      <td>4</td>\n",
       "      <td>1.0</td>\n",
       "      <td>2.0</td>\n",
       "      <td>0.250000</td>\n",
       "      <td>0.500000</td>\n",
       "      <td>2.000000</td>\n",
       "      <td>0.250000</td>\n",
       "      <td>0.0</td>\n",
       "    </tr>\n",
       "    <tr>\n",
       "      <th>2</th>\n",
       "      <td>2001</td>\n",
       "      <td>WorldCup</td>\n",
       "      <td>attunited01</td>\n",
       "      <td>35</td>\n",
       "      <td>1.0</td>\n",
       "      <td>0</td>\n",
       "      <td>2</td>\n",
       "      <td>1</td>\n",
       "      <td>0.0</td>\n",
       "      <td>0.0</td>\n",
       "      <td>-1.000000</td>\n",
       "      <td>0.000000</td>\n",
       "      <td>-2.000000</td>\n",
       "      <td>1.000000</td>\n",
       "      <td>0.0</td>\n",
       "    </tr>\n",
       "    <tr>\n",
       "      <th>3</th>\n",
       "      <td>2001</td>\n",
       "      <td>WorldCup</td>\n",
       "      <td>brainstormers01</td>\n",
       "      <td>1114</td>\n",
       "      <td>1.0</td>\n",
       "      <td>16</td>\n",
       "      <td>3</td>\n",
       "      <td>7</td>\n",
       "      <td>1.0</td>\n",
       "      <td>5.0</td>\n",
       "      <td>0.571429</td>\n",
       "      <td>0.714286</td>\n",
       "      <td>1.857143</td>\n",
       "      <td>0.142857</td>\n",
       "      <td>2.0</td>\n",
       "    </tr>\n",
       "    <tr>\n",
       "      <th>4</th>\n",
       "      <td>2001</td>\n",
       "      <td>WorldCup</td>\n",
       "      <td>chameleons</td>\n",
       "      <td>476</td>\n",
       "      <td>4.0</td>\n",
       "      <td>10</td>\n",
       "      <td>16</td>\n",
       "      <td>7</td>\n",
       "      <td>1.0</td>\n",
       "      <td>2.0</td>\n",
       "      <td>-0.285714</td>\n",
       "      <td>0.285714</td>\n",
       "      <td>-0.857143</td>\n",
       "      <td>0.571429</td>\n",
       "      <td>0.0</td>\n",
       "    </tr>\n",
       "  </tbody>\n",
       "</table>\n",
       "</div>"
      ],
      "text/plain": [
       "   year competition     results_team  results_Unnamed: 0  results_loss  \\\n",
       "0  2001    WorldCup           arvand                 928           1.0   \n",
       "1  2001    WorldCup            ateam                 930           1.0   \n",
       "2  2001    WorldCup      attunited01                  35           1.0   \n",
       "3  2001    WorldCup  brainstormers01                1114           1.0   \n",
       "4  2001    WorldCup       chameleons                 476           4.0   \n",
       "\n",
       "   results_S  results_R  results_games  results_tie  results_win  \\\n",
       "0          3          1              4          1.0          2.0   \n",
       "1          9          1              4          1.0          2.0   \n",
       "2          0          2              1          0.0          0.0   \n",
       "3         16          3              7          1.0          5.0   \n",
       "4         10         16              7          1.0          2.0   \n",
       "\n",
       "   results_win_diff  results_win_rate  results_goals_diff  results_loss_rate  \\\n",
       "0          0.250000          0.500000            0.500000           0.250000   \n",
       "1          0.250000          0.500000            2.000000           0.250000   \n",
       "2         -1.000000          0.000000           -2.000000           1.000000   \n",
       "3          0.571429          0.714286            1.857143           0.142857   \n",
       "4         -0.285714          0.285714           -0.857143           0.571429   \n",
       "\n",
       "   results_rank  \n",
       "0           0.0  \n",
       "1           0.0  \n",
       "2           0.0  \n",
       "3           2.0  \n",
       "4           0.0  "
      ]
     },
     "execution_count": 235,
     "metadata": {},
     "output_type": "execute_result"
    }
   ],
   "source": [
    "rename_dict = {a:\"results_%s\"%a for a in df_logs.columns if a not in ['competition','year','group_name']}\n",
    "\n",
    "\n",
    "df_logs =df_logs.rename(rename_dict,axis=1)\n",
    "df_logs.head()"
   ]
  },
  {
   "cell_type": "markdown",
   "metadata": {},
   "source": [
    "#### Load manually linked logs to program"
   ]
  },
  {
   "cell_type": "code",
   "execution_count": 236,
   "metadata": {},
   "outputs": [
    {
     "name": "stdout",
     "output_type": "stream",
     "text": [
      "<class 'pandas.core.frame.DataFrame'>\n",
      "RangeIndex: 528 entries, 0 to 527\n",
      "Data columns (total 4 columns):\n",
      "competition    528 non-null object\n",
      "group_name     528 non-null object\n",
      "year           528 non-null int64\n",
      "team_manual    60 non-null object\n",
      "dtypes: int64(1), object(3)\n",
      "memory usage: 16.6+ KB\n"
     ]
    }
   ],
   "source": [
    "df_mapped = pd.read_csv('data/group_names_mapped.csv',usecols=['competition','year','team_manual','group_name'])\n",
    "df_mapped.info()"
   ]
  },
  {
   "cell_type": "code",
   "execution_count": 237,
   "metadata": {},
   "outputs": [],
   "source": [
    "df_merged_mapping = df_logs.merge(df_mapped,left_on=['competition','year','results_team'],right_on=['competition','year','team_manual'],how='left')\n",
    "df_merged_mapping['team_alt'] = df_merged_mapping.apply(lambda x: x.group_name if pd.notnull(x.group_name) else x.results_team ,axis=1)"
   ]
  },
  {
   "cell_type": "code",
   "execution_count": 238,
   "metadata": {},
   "outputs": [
    {
     "data": {
      "text/plain": [
       "1257"
      ]
     },
     "execution_count": 238,
     "metadata": {},
     "output_type": "execute_result"
    }
   ],
   "source": [
    "df_merged_mapping.shape[0]"
   ]
  },
  {
   "cell_type": "code",
   "execution_count": 239,
   "metadata": {},
   "outputs": [],
   "source": [
    "df_merged_mapping = df_merged_mapping.drop('group_name',axis=1)"
   ]
  },
  {
   "cell_type": "markdown",
   "metadata": {},
   "source": [
    "#### number manually linked programs : "
   ]
  },
  {
   "cell_type": "code",
   "execution_count": 240,
   "metadata": {},
   "outputs": [
    {
     "data": {
      "text/plain": [
       "1257"
      ]
     },
     "execution_count": 240,
     "metadata": {},
     "output_type": "execute_result"
    }
   ],
   "source": [
    "df_merged_mapping.shape[0]"
   ]
  },
  {
   "cell_type": "markdown",
   "metadata": {},
   "source": [
    "#### Number of not liked groups"
   ]
  },
  {
   "cell_type": "markdown",
   "metadata": {},
   "source": [
    "### Automatically linking groups to logs"
   ]
  },
  {
   "cell_type": "code",
   "execution_count": 241,
   "metadata": {},
   "outputs": [],
   "source": [
    "def is_in_group(x,):\n",
    "    r= re.match(r'([a-zA-Z\\-]+)',x.team_alt)\n",
    "    r2 = re.match(r'([a-zA-Z\\-0-9]+)',x.team_alt)\n",
    "    if not r:\n",
    "        return False\n",
    "    return r.groups()[0].lower() in x.group_name.lower(), len(r2.groups()[0])"
   ]
  },
  {
   "cell_type": "code",
   "execution_count": 242,
   "metadata": {},
   "outputs": [],
   "source": [
    "def len_in_group_dup(x):\n",
    "    if x.duplicate_team < 2: \n",
    "        return True\n",
    "    r= re.match(r'([a-zA-Z\\-0-9]+)',x.team_alt)\n",
    "    if not r:\n",
    "        return False\n",
    "    if r.groups()[0].lower() in x.group_name.lower():\n",
    "        return len(r.groups()[0])"
   ]
  },
  {
   "cell_type": "code",
   "execution_count": 243,
   "metadata": {},
   "outputs": [],
   "source": [
    "df_mix = df_metrics.merge(df_merged_mapping,on=['competition','year'])\n"
   ]
  },
  {
   "cell_type": "code",
   "execution_count": 244,
   "metadata": {},
   "outputs": [],
   "source": [
    "df_mix = df_mix.join(df_mix.apply(is_in_group,axis=1,result_type='expand').\n",
    "                     rename({0:'exist',1:'length'},axis=1))\n"
   ]
  },
  {
   "cell_type": "code",
   "execution_count": 245,
   "metadata": {},
   "outputs": [],
   "source": [
    "df = df_mix[df_mix['exist']==True].copy()"
   ]
  },
  {
   "cell_type": "code",
   "execution_count": 246,
   "metadata": {},
   "outputs": [],
   "source": [
    "df.loc[:,'max'] = df.groupby(['competition','year','group_name'])['length'].transform(max)"
   ]
  },
  {
   "cell_type": "code",
   "execution_count": 247,
   "metadata": {},
   "outputs": [],
   "source": [
    "df = df[df['length']==df['max']]"
   ]
  },
  {
   "cell_type": "code",
   "execution_count": 248,
   "metadata": {},
   "outputs": [],
   "source": [
    "df.drop(['length','max'],axis=1,inplace=True)"
   ]
  },
  {
   "cell_type": "code",
   "execution_count": null,
   "metadata": {},
   "outputs": [],
   "source": []
  },
  {
   "cell_type": "code",
   "execution_count": 249,
   "metadata": {},
   "outputs": [],
   "source": [
    "#df.columns = [\"results_%s\"%a for a in df.columns if a not in ['competition','year','group_name']] +['competition','year','group_name']"
   ]
  },
  {
   "cell_type": "code",
   "execution_count": 250,
   "metadata": {},
   "outputs": [
    {
     "data": {
      "text/plain": [
       "410"
      ]
     },
     "execution_count": 250,
     "metadata": {},
     "output_type": "execute_result"
    }
   ],
   "source": [
    "df1 = df_metrics.merge(df,on=['competition','year','group_name'],how='left',indicator=True)\n",
    "df1[df1['_merge']=='both'].shape[0]"
   ]
  },
  {
   "cell_type": "code",
   "execution_count": 251,
   "metadata": {},
   "outputs": [],
   "source": [
    "df1[['competition','group_name','year','team_manual','_merge']].sort_values(['year','group_name']) \\\n",
    "    .to_csv('checkpoints/not_found_repo_names.csv')"
   ]
  },
  {
   "cell_type": "code",
   "execution_count": 252,
   "metadata": {},
   "outputs": [],
   "source": [
    "df2 = df_logs.merge(df,how='left',on=['competition','year','results_team'])\n",
    "df2[(df2['group_name'].isnull())][['competition','year','results_team']].sort_values(['competition','year','results_team']).to_csv('checkpoints/not_found_team.csv')\n"
   ]
  },
  {
   "cell_type": "code",
   "execution_count": 253,
   "metadata": {},
   "outputs": [],
   "source": [
    "df.to_csv('data/merged-logs_repo.csv')"
   ]
  },
  {
   "cell_type": "code",
   "execution_count": null,
   "metadata": {},
   "outputs": [],
   "source": []
  }
 ],
 "metadata": {
  "hide_input": false,
  "kernelspec": {
   "display_name": "Python 2",
   "language": "python",
   "name": "python2"
  },
  "language_info": {
   "codemirror_mode": {
    "name": "ipython",
    "version": 2
   },
   "file_extension": ".py",
   "mimetype": "text/x-python",
   "name": "python",
   "nbconvert_exporter": "python",
   "pygments_lexer": "ipython2",
   "version": "2.7.15"
  }
 },
 "nbformat": 4,
 "nbformat_minor": 2
}
