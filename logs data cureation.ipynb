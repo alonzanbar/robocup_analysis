{
 "cells": [
  {
   "cell_type": "code",
   "execution_count": 29,
   "metadata": {},
   "outputs": [],
   "source": [
    "import json\n",
    "import pandas as pd\n",
    "import matplotlib.pyplot as plt\n",
    "%matplotlib inline\n",
    "import re\n",
    "import numpy as np"
   ]
  },
  {
   "cell_type": "code",
   "execution_count": 30,
   "metadata": {},
   "outputs": [],
   "source": [
    "with open('data/logs_exracted.json') as f:\n",
    "    a = json.load(f)"
   ]
  },
  {
   "cell_type": "code",
   "execution_count": 31,
   "metadata": {},
   "outputs": [
    {
     "data": {
      "text/html": [
       "<div>\n",
       "<style scoped>\n",
       "    .dataframe tbody tr th:only-of-type {\n",
       "        vertical-align: middle;\n",
       "    }\n",
       "\n",
       "    .dataframe tbody tr th {\n",
       "        vertical-align: top;\n",
       "    }\n",
       "\n",
       "    .dataframe thead th {\n",
       "        text-align: right;\n",
       "    }\n",
       "</style>\n",
       "<table border=\"1\" class=\"dataframe\">\n",
       "  <thead>\n",
       "    <tr style=\"text-align: right;\">\n",
       "      <th></th>\n",
       "      <th>teamname</th>\n",
       "      <th>loss</th>\n",
       "      <th>S</th>\n",
       "      <th>R</th>\n",
       "      <th>games</th>\n",
       "      <th>tie</th>\n",
       "      <th>win</th>\n",
       "      <th>competition</th>\n",
       "      <th>year</th>\n",
       "      <th>win_diff</th>\n",
       "      <th>win_rate</th>\n",
       "      <th>goals_diff</th>\n",
       "      <th>loss_rate</th>\n",
       "    </tr>\n",
       "  </thead>\n",
       "  <tbody>\n",
       "    <tr>\n",
       "      <th>996</th>\n",
       "      <td>-humboldt</td>\n",
       "      <td>4.0</td>\n",
       "      <td>0</td>\n",
       "      <td>13</td>\n",
       "      <td>4</td>\n",
       "      <td>0.0</td>\n",
       "      <td>0.0</td>\n",
       "      <td>WorldCup</td>\n",
       "      <td>2005</td>\n",
       "      <td>-1.0</td>\n",
       "      <td>0.0</td>\n",
       "      <td>-3.250000</td>\n",
       "      <td>1.0</td>\n",
       "    </tr>\n",
       "    <tr>\n",
       "      <th>928</th>\n",
       "      <td>chagamma</td>\n",
       "      <td>5.0</td>\n",
       "      <td>1</td>\n",
       "      <td>25</td>\n",
       "      <td>5</td>\n",
       "      <td>0.0</td>\n",
       "      <td>0.0</td>\n",
       "      <td>WorldCup</td>\n",
       "      <td>2003</td>\n",
       "      <td>-1.0</td>\n",
       "      <td>0.0</td>\n",
       "      <td>-4.800000</td>\n",
       "      <td>1.0</td>\n",
       "    </tr>\n",
       "    <tr>\n",
       "      <th>500</th>\n",
       "      <td>og</td>\n",
       "      <td>4.0</td>\n",
       "      <td>1</td>\n",
       "      <td>11</td>\n",
       "      <td>4</td>\n",
       "      <td>0.0</td>\n",
       "      <td>0.0</td>\n",
       "      <td>JapanAutumnCamp</td>\n",
       "      <td>2010</td>\n",
       "      <td>-1.0</td>\n",
       "      <td>0.0</td>\n",
       "      <td>-2.500000</td>\n",
       "      <td>1.0</td>\n",
       "    </tr>\n",
       "    <tr>\n",
       "      <th>808</th>\n",
       "      <td>_utaustinvilla</td>\n",
       "      <td>1.0</td>\n",
       "      <td>0</td>\n",
       "      <td>6</td>\n",
       "      <td>1</td>\n",
       "      <td>0.0</td>\n",
       "      <td>0.0</td>\n",
       "      <td>USOpens</td>\n",
       "      <td>2004</td>\n",
       "      <td>-1.0</td>\n",
       "      <td>0.0</td>\n",
       "      <td>-6.000000</td>\n",
       "      <td>1.0</td>\n",
       "    </tr>\n",
       "    <tr>\n",
       "      <th>99</th>\n",
       "      <td>ahua</td>\n",
       "      <td>3.0</td>\n",
       "      <td>1</td>\n",
       "      <td>11</td>\n",
       "      <td>3</td>\n",
       "      <td>0.0</td>\n",
       "      <td>0.0</td>\n",
       "      <td>ChinaOpens</td>\n",
       "      <td>2007</td>\n",
       "      <td>-1.0</td>\n",
       "      <td>0.0</td>\n",
       "      <td>-3.333333</td>\n",
       "      <td>1.0</td>\n",
       "    </tr>\n",
       "  </tbody>\n",
       "</table>\n",
       "</div>"
      ],
      "text/plain": [
       "           teamname  loss  S   R  games  tie  win      competition  year  \\\n",
       "996       -humboldt   4.0  0  13      4  0.0  0.0         WorldCup  2005   \n",
       "928        chagamma   5.0  1  25      5  0.0  0.0         WorldCup  2003   \n",
       "500              og   4.0  1  11      4  0.0  0.0  JapanAutumnCamp  2010   \n",
       "808  _utaustinvilla   1.0  0   6      1  0.0  0.0          USOpens  2004   \n",
       "99             ahua   3.0  1  11      3  0.0  0.0       ChinaOpens  2007   \n",
       "\n",
       "     win_diff  win_rate  goals_diff  loss_rate  \n",
       "996      -1.0       0.0   -3.250000        1.0  \n",
       "928      -1.0       0.0   -4.800000        1.0  \n",
       "500      -1.0       0.0   -2.500000        1.0  \n",
       "808      -1.0       0.0   -6.000000        1.0  \n",
       "99       -1.0       0.0   -3.333333        1.0  "
      ]
     },
     "execution_count": 31,
     "metadata": {},
     "output_type": "execute_result"
    }
   ],
   "source": [
    "df_logs = pd.DataFrame.from_dict({(i,j): a[i][j] \n",
    "                           for i in a.keys() \n",
    "                           for j in a[i].keys()},orient='index').reset_index()\n",
    "\n",
    "df_logs= df_logs.fillna(0)\n",
    "two_groups = '(?P<competition>[a-zA-Z\\-]+)(?P<year>[0-9]+)'\n",
    "\n",
    "df_logs = pd.concat([df_logs,df_logs['level_0'].str.extract(two_groups)],axis=1)\n",
    "df_logs['year'] = df_logs['year'].astype('int64')\n",
    "df_logs = df_logs.drop(['level_0'],axis=1)\n",
    "df_logs['win_diff'] = df_logs.apply(lambda x: (x['win']-x['loss'])/x['games'],axis=1)\n",
    "df_logs['win_rate'] = df_logs.apply(lambda x: (x['win'])/x['games'],axis=1)\n",
    "df_logs['goals_diff'] = df_logs.apply(lambda x: float(x['S']-x['R'])/x['games'],axis=1)\n",
    "df_logs['loss_rate'] = df_logs.apply(lambda x: (x['loss'])/x['games'],axis=1)\n",
    "df_logs= df_logs.sort_values('win_diff')\n",
    "df_logs =df_logs.rename({'level_1':'teamname'},axis='columns')\n",
    "\n",
    "df_logs.head()"
   ]
  },
  {
   "cell_type": "code",
   "execution_count": 32,
   "metadata": {},
   "outputs": [
    {
     "data": {
      "text/html": [
       "<div>\n",
       "<style scoped>\n",
       "    .dataframe tbody tr th:only-of-type {\n",
       "        vertical-align: middle;\n",
       "    }\n",
       "\n",
       "    .dataframe tbody tr th {\n",
       "        vertical-align: top;\n",
       "    }\n",
       "\n",
       "    .dataframe thead th {\n",
       "        text-align: right;\n",
       "    }\n",
       "</style>\n",
       "<table border=\"1\" class=\"dataframe\">\n",
       "  <thead>\n",
       "    <tr style=\"text-align: right;\">\n",
       "      <th></th>\n",
       "      <th>teamname</th>\n",
       "      <th>loss</th>\n",
       "      <th>S</th>\n",
       "      <th>R</th>\n",
       "      <th>games</th>\n",
       "      <th>tie</th>\n",
       "      <th>win</th>\n",
       "      <th>competition</th>\n",
       "      <th>year</th>\n",
       "      <th>win_diff</th>\n",
       "      <th>win_rate</th>\n",
       "      <th>goals_diff</th>\n",
       "      <th>loss_rate</th>\n",
       "    </tr>\n",
       "  </thead>\n",
       "  <tbody>\n",
       "    <tr>\n",
       "      <th>996</th>\n",
       "      <td>-humboldt</td>\n",
       "      <td>4.0</td>\n",
       "      <td>0</td>\n",
       "      <td>13</td>\n",
       "      <td>4</td>\n",
       "      <td>0.0</td>\n",
       "      <td>0.0</td>\n",
       "      <td>WorldCup</td>\n",
       "      <td>2005</td>\n",
       "      <td>-1.0</td>\n",
       "      <td>0.0</td>\n",
       "      <td>-3.25</td>\n",
       "      <td>1.0</td>\n",
       "    </tr>\n",
       "    <tr>\n",
       "      <th>811</th>\n",
       "      <td>borregos</td>\n",
       "      <td>10.0</td>\n",
       "      <td>1</td>\n",
       "      <td>39</td>\n",
       "      <td>10</td>\n",
       "      <td>0.0</td>\n",
       "      <td>0.0</td>\n",
       "      <td>USOpens</td>\n",
       "      <td>2005</td>\n",
       "      <td>-1.0</td>\n",
       "      <td>0.0</td>\n",
       "      <td>-3.80</td>\n",
       "      <td>1.0</td>\n",
       "    </tr>\n",
       "    <tr>\n",
       "      <th>768</th>\n",
       "      <td>anct2005</td>\n",
       "      <td>10.0</td>\n",
       "      <td>0</td>\n",
       "      <td>34</td>\n",
       "      <td>10</td>\n",
       "      <td>0.0</td>\n",
       "      <td>0.0</td>\n",
       "      <td>SpringCompetitions</td>\n",
       "      <td>2005</td>\n",
       "      <td>-1.0</td>\n",
       "      <td>0.0</td>\n",
       "      <td>-3.40</td>\n",
       "      <td>1.0</td>\n",
       "    </tr>\n",
       "    <tr>\n",
       "      <th>440</th>\n",
       "      <td>-one</td>\n",
       "      <td>1.0</td>\n",
       "      <td>0</td>\n",
       "      <td>4</td>\n",
       "      <td>1</td>\n",
       "      <td>0.0</td>\n",
       "      <td>0.0</td>\n",
       "      <td>JapanAutumnCamp</td>\n",
       "      <td>2005</td>\n",
       "      <td>-1.0</td>\n",
       "      <td>0.0</td>\n",
       "      <td>-4.00</td>\n",
       "      <td>1.0</td>\n",
       "    </tr>\n",
       "    <tr>\n",
       "      <th>441</th>\n",
       "      <td>_grana05</td>\n",
       "      <td>3.0</td>\n",
       "      <td>0</td>\n",
       "      <td>6</td>\n",
       "      <td>3</td>\n",
       "      <td>0.0</td>\n",
       "      <td>0.0</td>\n",
       "      <td>JapanAutumnCamp</td>\n",
       "      <td>2005</td>\n",
       "      <td>-1.0</td>\n",
       "      <td>0.0</td>\n",
       "      <td>-2.00</td>\n",
       "      <td>1.0</td>\n",
       "    </tr>\n",
       "  </tbody>\n",
       "</table>\n",
       "</div>"
      ],
      "text/plain": [
       "      teamname  loss  S   R  games  tie  win         competition  year  \\\n",
       "996  -humboldt   4.0  0  13      4  0.0  0.0            WorldCup  2005   \n",
       "811   borregos  10.0  1  39     10  0.0  0.0             USOpens  2005   \n",
       "768   anct2005  10.0  0  34     10  0.0  0.0  SpringCompetitions  2005   \n",
       "440       -one   1.0  0   4      1  0.0  0.0     JapanAutumnCamp  2005   \n",
       "441   _grana05   3.0  0   6      3  0.0  0.0     JapanAutumnCamp  2005   \n",
       "\n",
       "     win_diff  win_rate  goals_diff  loss_rate  \n",
       "996      -1.0       0.0       -3.25        1.0  \n",
       "811      -1.0       0.0       -3.80        1.0  \n",
       "768      -1.0       0.0       -3.40        1.0  \n",
       "440      -1.0       0.0       -4.00        1.0  \n",
       "441      -1.0       0.0       -2.00        1.0  "
      ]
     },
     "execution_count": 32,
     "metadata": {},
     "output_type": "execute_result"
    }
   ],
   "source": [
    "df_logs[df_logs['year']==2005].head()"
   ]
  },
  {
   "cell_type": "code",
   "execution_count": 33,
   "metadata": {},
   "outputs": [],
   "source": [
    "df_logs['team'] = [x.strip('_-').lower() for x in df_logs['teamname']]\n"
   ]
  },
  {
   "cell_type": "code",
   "execution_count": 34,
   "metadata": {},
   "outputs": [
    {
     "data": {
      "text/html": [
       "<div>\n",
       "<style scoped>\n",
       "    .dataframe tbody tr th:only-of-type {\n",
       "        vertical-align: middle;\n",
       "    }\n",
       "\n",
       "    .dataframe tbody tr th {\n",
       "        vertical-align: top;\n",
       "    }\n",
       "\n",
       "    .dataframe thead th {\n",
       "        text-align: right;\n",
       "    }\n",
       "</style>\n",
       "<table border=\"1\" class=\"dataframe\">\n",
       "  <thead>\n",
       "    <tr style=\"text-align: right;\">\n",
       "      <th></th>\n",
       "      <th>avg_goal_diff</th>\n",
       "      <th>avg_goals_scored</th>\n",
       "      <th>country</th>\n",
       "      <th>dir</th>\n",
       "      <th>drawn</th>\n",
       "      <th>goals_received</th>\n",
       "      <th>goals_scored</th>\n",
       "      <th>lost</th>\n",
       "      <th>matches</th>\n",
       "      <th>points</th>\n",
       "      <th>score</th>\n",
       "      <th>team</th>\n",
       "      <th>teamname</th>\n",
       "      <th>won</th>\n",
       "      <th>year</th>\n",
       "      <th>competition</th>\n",
       "    </tr>\n",
       "  </thead>\n",
       "  <tbody>\n",
       "    <tr>\n",
       "      <th>0</th>\n",
       "      <td>2.000000</td>\n",
       "      <td>3.000000</td>\n",
       "      <td>brazil</td>\n",
       "      <td>/home/itandroids</td>\n",
       "      <td>0</td>\n",
       "      <td>1</td>\n",
       "      <td>3</td>\n",
       "      <td>0</td>\n",
       "      <td>1</td>\n",
       "      <td>3</td>\n",
       "      <td>NaN</td>\n",
       "      <td>NaN</td>\n",
       "      <td>ITAndroids</td>\n",
       "      <td>1</td>\n",
       "      <td>2013</td>\n",
       "      <td>CBR</td>\n",
       "    </tr>\n",
       "    <tr>\n",
       "      <th>1</th>\n",
       "      <td>-2.000000</td>\n",
       "      <td>1.000000</td>\n",
       "      <td>brazil</td>\n",
       "      <td>/home/uaisoccer2d</td>\n",
       "      <td>0</td>\n",
       "      <td>3</td>\n",
       "      <td>1</td>\n",
       "      <td>1</td>\n",
       "      <td>1</td>\n",
       "      <td>0</td>\n",
       "      <td>NaN</td>\n",
       "      <td>NaN</td>\n",
       "      <td>UAISoccer2D</td>\n",
       "      <td>0</td>\n",
       "      <td>2013</td>\n",
       "      <td>CBR</td>\n",
       "    </tr>\n",
       "    <tr>\n",
       "      <th>2</th>\n",
       "      <td>2.000000</td>\n",
       "      <td>2.000000</td>\n",
       "      <td>brazil</td>\n",
       "      <td>/home/itandroids</td>\n",
       "      <td>0</td>\n",
       "      <td>0</td>\n",
       "      <td>6</td>\n",
       "      <td>0</td>\n",
       "      <td>3</td>\n",
       "      <td>9</td>\n",
       "      <td>NaN</td>\n",
       "      <td>NaN</td>\n",
       "      <td>ITAndroids</td>\n",
       "      <td>3</td>\n",
       "      <td>2013</td>\n",
       "      <td>CBR</td>\n",
       "    </tr>\n",
       "    <tr>\n",
       "      <th>3</th>\n",
       "      <td>0.333333</td>\n",
       "      <td>2.333333</td>\n",
       "      <td>brazil</td>\n",
       "      <td>/home/warthog2d</td>\n",
       "      <td>1</td>\n",
       "      <td>6</td>\n",
       "      <td>7</td>\n",
       "      <td>1</td>\n",
       "      <td>3</td>\n",
       "      <td>4</td>\n",
       "      <td>NaN</td>\n",
       "      <td>NaN</td>\n",
       "      <td>Warthog</td>\n",
       "      <td>1</td>\n",
       "      <td>2013</td>\n",
       "      <td>CBR</td>\n",
       "    </tr>\n",
       "    <tr>\n",
       "      <th>4</th>\n",
       "      <td>-0.666667</td>\n",
       "      <td>1.333333</td>\n",
       "      <td>brazil</td>\n",
       "      <td>/home/furgbot</td>\n",
       "      <td>2</td>\n",
       "      <td>6</td>\n",
       "      <td>4</td>\n",
       "      <td>1</td>\n",
       "      <td>3</td>\n",
       "      <td>2</td>\n",
       "      <td>NaN</td>\n",
       "      <td>NaN</td>\n",
       "      <td>Furgbot</td>\n",
       "      <td>0</td>\n",
       "      <td>2013</td>\n",
       "      <td>CBR</td>\n",
       "    </tr>\n",
       "  </tbody>\n",
       "</table>\n",
       "</div>"
      ],
      "text/plain": [
       "   avg_goal_diff  avg_goals_scored country                dir  drawn  \\\n",
       "0       2.000000          3.000000  brazil   /home/itandroids      0   \n",
       "1      -2.000000          1.000000  brazil  /home/uaisoccer2d      0   \n",
       "2       2.000000          2.000000  brazil   /home/itandroids      0   \n",
       "3       0.333333          2.333333  brazil    /home/warthog2d      1   \n",
       "4      -0.666667          1.333333  brazil      /home/furgbot      2   \n",
       "\n",
       "   goals_received  goals_scored  lost  matches  points  score  team  \\\n",
       "0               1             3     0        1       3    NaN   NaN   \n",
       "1               3             1     1        1       0    NaN   NaN   \n",
       "2               0             6     0        3       9    NaN   NaN   \n",
       "3               6             7     1        3       4    NaN   NaN   \n",
       "4               6             4     1        3       2    NaN   NaN   \n",
       "\n",
       "      teamname  won  year competition  \n",
       "0   ITAndroids    1  2013         CBR  \n",
       "1  UAISoccer2D    0  2013         CBR  \n",
       "2   ITAndroids    3  2013         CBR  \n",
       "3      Warthog    1  2013         CBR  \n",
       "4      Furgbot    0  2013         CBR  "
      ]
     },
     "execution_count": 34,
     "metadata": {},
     "output_type": "execute_result"
    }
   ],
   "source": [
    "df_results = pd.read_csv('data/competition_results.csv')\n",
    "\n",
    "df_results.head()"
   ]
  },
  {
   "cell_type": "code",
   "execution_count": 35,
   "metadata": {},
   "outputs": [],
   "source": [
    "df_results_sum = df_results.groupby(['competition','year','teamname']).sum().reset_index()"
   ]
  },
  {
   "cell_type": "code",
   "execution_count": 36,
   "metadata": {},
   "outputs": [],
   "source": [
    "df1 = df_logs.merge(df_results_sum,how='inner',on=['competition','year','teamname'])[['competition','year','teamname','games','matches']]\n"
   ]
  },
  {
   "cell_type": "code",
   "execution_count": 37,
   "metadata": {},
   "outputs": [],
   "source": [
    "diffs = df1[['games','matches']].apply(lambda x: x[0]-x[1],axis=1)"
   ]
  },
  {
   "cell_type": "code",
   "execution_count": 38,
   "metadata": {},
   "outputs": [
    {
     "data": {
      "text/plain": [
       "count    5.00000\n",
       "mean    -0.80000\n",
       "std      0.83666\n",
       "min     -2.00000\n",
       "25%     -1.00000\n",
       "50%     -1.00000\n",
       "75%      0.00000\n",
       "max      0.00000\n",
       "dtype: float64"
      ]
     },
     "execution_count": 38,
     "metadata": {},
     "output_type": "execute_result"
    }
   ],
   "source": [
    "diffs.describe()"
   ]
  },
  {
   "cell_type": "code",
   "execution_count": 39,
   "metadata": {},
   "outputs": [
    {
     "data": {
      "text/html": [
       "<div>\n",
       "<style scoped>\n",
       "    .dataframe tbody tr th:only-of-type {\n",
       "        vertical-align: middle;\n",
       "    }\n",
       "\n",
       "    .dataframe tbody tr th {\n",
       "        vertical-align: top;\n",
       "    }\n",
       "\n",
       "    .dataframe thead th {\n",
       "        text-align: right;\n",
       "    }\n",
       "</style>\n",
       "<table border=\"1\" class=\"dataframe\">\n",
       "  <thead>\n",
       "    <tr style=\"text-align: right;\">\n",
       "      <th></th>\n",
       "      <th>games</th>\n",
       "      <th>matches</th>\n",
       "    </tr>\n",
       "  </thead>\n",
       "  <tbody>\n",
       "    <tr>\n",
       "      <th>games</th>\n",
       "      <td>1.000000</td>\n",
       "      <td>0.999716</td>\n",
       "    </tr>\n",
       "    <tr>\n",
       "      <th>matches</th>\n",
       "      <td>0.999716</td>\n",
       "      <td>1.000000</td>\n",
       "    </tr>\n",
       "  </tbody>\n",
       "</table>\n",
       "</div>"
      ],
      "text/plain": [
       "            games   matches\n",
       "games    1.000000  0.999716\n",
       "matches  0.999716  1.000000"
      ]
     },
     "execution_count": 39,
     "metadata": {},
     "output_type": "execute_result"
    }
   ],
   "source": [
    "df1[['games','matches']].corr()"
   ]
  },
  {
   "cell_type": "code",
   "execution_count": 40,
   "metadata": {},
   "outputs": [
    {
     "data": {
      "text/plain": [
       "<matplotlib.axes._subplots.AxesSubplot at 0x11b7bf510>"
      ]
     },
     "execution_count": 40,
     "metadata": {},
     "output_type": "execute_result"
    },
    {
     "data": {
      "image/png": "[encoded data removed]",
      "text/plain": [
       "<Figure size 432x288 with 1 Axes>"
      ]
     },
     "metadata": {
      "needs_background": "light"
     },
     "output_type": "display_data"
    }
   ],
   "source": [
    "df1['games'].hist() "
   ]
  },
  {
   "cell_type": "markdown",
   "metadata": {},
   "source": [
    "## Data validation : "
   ]
  },
  {
   "cell_type": "markdown",
   "metadata": {},
   "source": [
    "### correlation between goals scores and and wins "
   ]
  },
  {
   "cell_type": "code",
   "execution_count": 41,
   "metadata": {},
   "outputs": [
    {
     "data": {
      "text/html": [
       "<div>\n",
       "<style scoped>\n",
       "    .dataframe tbody tr th:only-of-type {\n",
       "        vertical-align: middle;\n",
       "    }\n",
       "\n",
       "    .dataframe tbody tr th {\n",
       "        vertical-align: top;\n",
       "    }\n",
       "\n",
       "    .dataframe thead th {\n",
       "        text-align: right;\n",
       "    }\n",
       "</style>\n",
       "<table border=\"1\" class=\"dataframe\">\n",
       "  <thead>\n",
       "    <tr style=\"text-align: right;\">\n",
       "      <th></th>\n",
       "      <th>win</th>\n",
       "      <th>S</th>\n",
       "    </tr>\n",
       "  </thead>\n",
       "  <tbody>\n",
       "    <tr>\n",
       "      <th>win</th>\n",
       "      <td>1.000000</td>\n",
       "      <td>0.941496</td>\n",
       "    </tr>\n",
       "    <tr>\n",
       "      <th>S</th>\n",
       "      <td>0.941496</td>\n",
       "      <td>1.000000</td>\n",
       "    </tr>\n",
       "  </tbody>\n",
       "</table>\n",
       "</div>"
      ],
      "text/plain": [
       "          win         S\n",
       "win  1.000000  0.941496\n",
       "S    0.941496  1.000000"
      ]
     },
     "execution_count": 41,
     "metadata": {},
     "output_type": "execute_result"
    }
   ],
   "source": [
    "df_logs[['win','S']].corr()"
   ]
  },
  {
   "cell_type": "markdown",
   "metadata": {},
   "source": [
    "### correlation between goals recived and losses "
   ]
  },
  {
   "cell_type": "code",
   "execution_count": 42,
   "metadata": {},
   "outputs": [
    {
     "data": {
      "text/html": [
       "<div>\n",
       "<style scoped>\n",
       "    .dataframe tbody tr th:only-of-type {\n",
       "        vertical-align: middle;\n",
       "    }\n",
       "\n",
       "    .dataframe tbody tr th {\n",
       "        vertical-align: top;\n",
       "    }\n",
       "\n",
       "    .dataframe thead th {\n",
       "        text-align: right;\n",
       "    }\n",
       "</style>\n",
       "<table border=\"1\" class=\"dataframe\">\n",
       "  <thead>\n",
       "    <tr style=\"text-align: right;\">\n",
       "      <th></th>\n",
       "      <th>loss</th>\n",
       "      <th>R</th>\n",
       "    </tr>\n",
       "  </thead>\n",
       "  <tbody>\n",
       "    <tr>\n",
       "      <th>loss</th>\n",
       "      <td>1.000000</td>\n",
       "      <td>0.917302</td>\n",
       "    </tr>\n",
       "    <tr>\n",
       "      <th>R</th>\n",
       "      <td>0.917302</td>\n",
       "      <td>1.000000</td>\n",
       "    </tr>\n",
       "  </tbody>\n",
       "</table>\n",
       "</div>"
      ],
      "text/plain": [
       "          loss         R\n",
       "loss  1.000000  0.917302\n",
       "R     0.917302  1.000000"
      ]
     },
     "execution_count": 42,
     "metadata": {},
     "output_type": "execute_result"
    }
   ],
   "source": [
    "df_logs[['loss','R']].corr()"
   ]
  },
  {
   "cell_type": "code",
   "execution_count": 43,
   "metadata": {},
   "outputs": [
    {
     "data": {
      "text/html": [
       "<div>\n",
       "<style scoped>\n",
       "    .dataframe tbody tr th:only-of-type {\n",
       "        vertical-align: middle;\n",
       "    }\n",
       "\n",
       "    .dataframe tbody tr th {\n",
       "        vertical-align: top;\n",
       "    }\n",
       "\n",
       "    .dataframe thead th {\n",
       "        text-align: right;\n",
       "    }\n",
       "</style>\n",
       "<table border=\"1\" class=\"dataframe\">\n",
       "  <thead>\n",
       "    <tr style=\"text-align: right;\">\n",
       "      <th></th>\n",
       "      <th>teamname</th>\n",
       "      <th>loss</th>\n",
       "      <th>S</th>\n",
       "      <th>R</th>\n",
       "      <th>games</th>\n",
       "      <th>tie</th>\n",
       "      <th>win</th>\n",
       "      <th>competition</th>\n",
       "      <th>year</th>\n",
       "      <th>win_diff</th>\n",
       "      <th>win_rate</th>\n",
       "      <th>goals_diff</th>\n",
       "      <th>loss_rate</th>\n",
       "      <th>team</th>\n",
       "    </tr>\n",
       "  </thead>\n",
       "  <tbody>\n",
       "  </tbody>\n",
       "</table>\n",
       "</div>"
      ],
      "text/plain": [
       "Empty DataFrame\n",
       "Columns: [teamname, loss, S, R, games, tie, win, competition, year, win_diff, win_rate, goals_diff, loss_rate, team]\n",
       "Index: []"
      ]
     },
     "execution_count": 43,
     "metadata": {},
     "output_type": "execute_result"
    }
   ],
   "source": [
    "df_logs[df_logs['games']==0]"
   ]
  },
  {
   "cell_type": "code",
   "execution_count": 44,
   "metadata": {},
   "outputs": [],
   "source": [
    "df_ranks_raw = pd.read_csv('data/ranks_wiki.csv')"
   ]
  },
  {
   "cell_type": "code",
   "execution_count": 45,
   "metadata": {},
   "outputs": [
    {
     "data": {
      "text/plain": [
       "20"
      ]
     },
     "execution_count": 45,
     "metadata": {},
     "output_type": "execute_result"
    }
   ],
   "source": [
    "df_ranks_raw.shape[0]"
   ]
  },
  {
   "cell_type": "code",
   "execution_count": 46,
   "metadata": {},
   "outputs": [],
   "source": [
    "results = [] \n",
    "for _,r in df_ranks_raw.iterrows(): \n",
    "    results +=  [(r.Year,r[c].lower(),4-int(c[0])) for c in df_ranks_raw.columns[1:]]"
   ]
  },
  {
   "cell_type": "code",
   "execution_count": 47,
   "metadata": {},
   "outputs": [],
   "source": [
    "df_ranks = pd.DataFrame(results,columns=['year','team','rank'])"
   ]
  },
  {
   "cell_type": "code",
   "execution_count": 48,
   "metadata": {},
   "outputs": [],
   "source": [
    "df_ranks_logs1= df_ranks.merge(df_logs[df_logs['competition']=='WorldCup'][['year','team']],on=['year'],\n",
    "                               how='inner')"
   ]
  },
  {
   "cell_type": "code",
   "execution_count": 49,
   "metadata": {},
   "outputs": [
    {
     "data": {
      "text/html": [
       "<div>\n",
       "<style scoped>\n",
       "    .dataframe tbody tr th:only-of-type {\n",
       "        vertical-align: middle;\n",
       "    }\n",
       "\n",
       "    .dataframe tbody tr th {\n",
       "        vertical-align: top;\n",
       "    }\n",
       "\n",
       "    .dataframe thead th {\n",
       "        text-align: right;\n",
       "    }\n",
       "</style>\n",
       "<table border=\"1\" class=\"dataframe\">\n",
       "  <thead>\n",
       "    <tr style=\"text-align: right;\">\n",
       "      <th></th>\n",
       "      <th>year</th>\n",
       "      <th>rank</th>\n",
       "      <th>team</th>\n",
       "      <th>competition</th>\n",
       "    </tr>\n",
       "  </thead>\n",
       "  <tbody>\n",
       "    <tr>\n",
       "      <th>794</th>\n",
       "      <td>2005</td>\n",
       "      <td>3</td>\n",
       "      <td>t</td>\n",
       "      <td>WorldCup</td>\n",
       "    </tr>\n",
       "    <tr>\n",
       "      <th>807</th>\n",
       "      <td>2005</td>\n",
       "      <td>3</td>\n",
       "      <td>brainstormers05</td>\n",
       "      <td>WorldCup</td>\n",
       "    </tr>\n",
       "    <tr>\n",
       "      <th>825</th>\n",
       "      <td>2005</td>\n",
       "      <td>2</td>\n",
       "      <td>we2005</td>\n",
       "      <td>WorldCup</td>\n",
       "    </tr>\n",
       "    <tr>\n",
       "      <th>828</th>\n",
       "      <td>2005</td>\n",
       "      <td>1</td>\n",
       "      <td>t</td>\n",
       "      <td>WorldCup</td>\n",
       "    </tr>\n",
       "    <tr>\n",
       "      <th>839</th>\n",
       "      <td>2005</td>\n",
       "      <td>1</td>\n",
       "      <td>tokyotech2005</td>\n",
       "      <td>WorldCup</td>\n",
       "    </tr>\n",
       "  </tbody>\n",
       "</table>\n",
       "</div>"
      ],
      "text/plain": [
       "     year  rank             team competition\n",
       "794  2005     3                t    WorldCup\n",
       "807  2005     3  brainstormers05    WorldCup\n",
       "825  2005     2           we2005    WorldCup\n",
       "828  2005     1                t    WorldCup\n",
       "839  2005     1    tokyotech2005    WorldCup"
      ]
     },
     "execution_count": 49,
     "metadata": {},
     "output_type": "execute_result"
    }
   ],
   "source": [
    "matched_df = df_ranks_logs1[df_ranks_logs1.apply(lambda x: (x['team_x'] in x['team_y']) or (x['team_y'] in x['team_x']),axis=1) ]\n",
    "matched_df = matched_df.drop('team_x',axis=1)\n",
    "matched_df= matched_df.rename({'team_y':'team'},axis=1)\n",
    "matched_df['competition'] =  'WorldCup'\n",
    "matched_df[matched_df['year']==2005]\n"
   ]
  },
  {
   "cell_type": "code",
   "execution_count": 50,
   "metadata": {},
   "outputs": [],
   "source": [
    "df_ranks_logs1 = None"
   ]
  },
  {
   "cell_type": "code",
   "execution_count": null,
   "metadata": {},
   "outputs": [],
   "source": []
  },
  {
   "cell_type": "code",
   "execution_count": 51,
   "metadata": {},
   "outputs": [
    {
     "data": {
      "text/plain": [
       "1294"
      ]
     },
     "execution_count": 51,
     "metadata": {},
     "output_type": "execute_result"
    }
   ],
   "source": [
    "df_ranks_logs = df_logs.merge(matched_df, on = ['competition','year','team'],how='left')\n",
    "df_ranks_logs.shape[0]"
   ]
  },
  {
   "cell_type": "code",
   "execution_count": 52,
   "metadata": {},
   "outputs": [
    {
     "name": "stdout",
     "output_type": "stream",
     "text": [
      "<class 'pandas.core.frame.DataFrame'>\n",
      "Int64Index: 1294 entries, 0 to 1293\n",
      "Data columns (total 15 columns):\n",
      "teamname       1294 non-null object\n",
      "loss           1294 non-null float64\n",
      "S              1294 non-null int64\n",
      "R              1294 non-null int64\n",
      "games          1294 non-null int64\n",
      "tie            1294 non-null float64\n",
      "win            1294 non-null float64\n",
      "competition    1294 non-null object\n",
      "year           1294 non-null int64\n",
      "win_diff       1294 non-null float64\n",
      "win_rate       1294 non-null float64\n",
      "goals_diff     1294 non-null float64\n",
      "loss_rate      1294 non-null float64\n",
      "team           1294 non-null object\n",
      "rank           53 non-null float64\n",
      "dtypes: float64(8), int64(4), object(3)\n",
      "memory usage: 161.8+ KB\n"
     ]
    }
   ],
   "source": [
    "df_ranks_logs.info()"
   ]
  },
  {
   "cell_type": "code",
   "execution_count": 53,
   "metadata": {},
   "outputs": [],
   "source": [
    "df_ranks_logs.to_csv('checkpoints/logs-ranks.csv')"
   ]
  },
  {
   "cell_type": "code",
   "execution_count": 54,
   "metadata": {},
   "outputs": [],
   "source": [
    "import seaborn as sns"
   ]
  },
  {
   "cell_type": "code",
   "execution_count": 55,
   "metadata": {},
   "outputs": [
    {
     "data": {
      "text/plain": [
       "Text(0.5,1,'Total Goals Scored Vs rank')"
      ]
     },
     "execution_count": 55,
     "metadata": {},
     "output_type": "execute_result"
    },
    {
     "data": {
      "image/png": "[encoded data removed]",
      "text/plain": [
       "<Figure size 432x288 with 1 Axes>"
      ]
     },
     "metadata": {
      "needs_background": "light"
     },
     "output_type": "display_data"
    }
   ],
   "source": [
    "sns.scatterplot(data=df_ranks_logs,x='S',y='rank').set_title('Total Goals Scored Vs rank')\n"
   ]
  },
  {
   "cell_type": "code",
   "execution_count": 56,
   "metadata": {},
   "outputs": [
    {
     "data": {
      "text/plain": [
       "Text(0.5,1,'Wins-Losses / Games  vs Rank')"
      ]
     },
     "execution_count": 56,
     "metadata": {},
     "output_type": "execute_result"
    },
    {
     "data": {
      "image/png": "[encoded data removed]",
      "text/plain": [
       "<Figure size 432x288 with 1 Axes>"
      ]
     },
     "metadata": {
      "needs_background": "light"
     },
     "output_type": "display_data"
    }
   ],
   "source": [
    "sns.scatterplot(data=df_ranks_logs,x='win_diff',y='rank').set_title('Wins-Losses / Games  vs Rank')"
   ]
  },
  {
   "cell_type": "code",
   "execution_count": 57,
   "metadata": {},
   "outputs": [
    {
     "data": {
      "text/plain": [
       "Text(0.5,1,'wins / games vs rank')"
      ]
     },
     "execution_count": 57,
     "metadata": {},
     "output_type": "execute_result"
    },
    {
     "data": {
      "image/png": "[encoded data removed]",
      "text/plain": [
       "<Figure size 432x288 with 1 Axes>"
      ]
     },
     "metadata": {
      "needs_background": "light"
     },
     "output_type": "display_data"
    }
   ],
   "source": [
    "sns.scatterplot(data=df_ranks_logs,x='win_rate',y='rank').set_title('wins / games vs rank')"
   ]
  },
  {
   "cell_type": "code",
   "execution_count": 58,
   "metadata": {
    "scrolled": true
   },
   "outputs": [
    {
     "data": {
      "text/plain": [
       "Text(0.5,1,'goals diff vs rank')"
      ]
     },
     "execution_count": 58,
     "metadata": {},
     "output_type": "execute_result"
    },
    {
     "data": {
      "image/png": "[encoded data removed]",
      "text/plain": [
       "<Figure size 432x288 with 1 Axes>"
      ]
     },
     "metadata": {
      "needs_background": "light"
     },
     "output_type": "display_data"
    }
   ],
   "source": [
    "sns.scatterplot(data=df_ranks_logs,x='goals_diff',y='rank').set_title('goals diff vs rank')"
   ]
  },
  {
   "cell_type": "code",
   "execution_count": 59,
   "metadata": {},
   "outputs": [
    {
     "data": {
      "text/plain": [
       "Text(0.5,1,'loss rate vs rank')"
      ]
     },
     "execution_count": 59,
     "metadata": {},
     "output_type": "execute_result"
    },
    {
     "data": {
      "image/png": "[encoded data removed]",
      "text/plain": [
       "<Figure size 432x288 with 1 Axes>"
      ]
     },
     "metadata": {
      "needs_background": "light"
     },
     "output_type": "display_data"
    }
   ],
   "source": [
    "sns.scatterplot(data=df_ranks_logs,x='loss_rate',y='rank').set_title('loss rate vs rank')"
   ]
  },
  {
   "cell_type": "code",
   "execution_count": 60,
   "metadata": {},
   "outputs": [
    {
     "data": {
      "text/html": [
       "<div>\n",
       "<style scoped>\n",
       "    .dataframe tbody tr th:only-of-type {\n",
       "        vertical-align: middle;\n",
       "    }\n",
       "\n",
       "    .dataframe tbody tr th {\n",
       "        vertical-align: top;\n",
       "    }\n",
       "\n",
       "    .dataframe thead th {\n",
       "        text-align: right;\n",
       "    }\n",
       "</style>\n",
       "<table border=\"1\" class=\"dataframe\">\n",
       "  <thead>\n",
       "    <tr style=\"text-align: right;\">\n",
       "      <th></th>\n",
       "      <th>loss</th>\n",
       "      <th>S</th>\n",
       "      <th>R</th>\n",
       "      <th>games</th>\n",
       "      <th>tie</th>\n",
       "      <th>win</th>\n",
       "      <th>year</th>\n",
       "      <th>win_diff</th>\n",
       "      <th>win_rate</th>\n",
       "      <th>goals_diff</th>\n",
       "      <th>loss_rate</th>\n",
       "      <th>rank</th>\n",
       "    </tr>\n",
       "  </thead>\n",
       "  <tbody>\n",
       "    <tr>\n",
       "      <th>loss</th>\n",
       "      <td>1.000000</td>\n",
       "      <td>-0.064028</td>\n",
       "      <td>0.877924</td>\n",
       "      <td>0.314138</td>\n",
       "      <td>0.199389</td>\n",
       "      <td>-0.067849</td>\n",
       "      <td>0.176371</td>\n",
       "      <td>-0.593785</td>\n",
       "      <td>-0.457567</td>\n",
       "      <td>-0.641969</td>\n",
       "      <td>0.650477</td>\n",
       "      <td>-0.358770</td>\n",
       "    </tr>\n",
       "    <tr>\n",
       "      <th>S</th>\n",
       "      <td>-0.064028</td>\n",
       "      <td>1.000000</td>\n",
       "      <td>0.176213</td>\n",
       "      <td>0.824917</td>\n",
       "      <td>0.147093</td>\n",
       "      <td>0.924938</td>\n",
       "      <td>0.396967</td>\n",
       "      <td>0.570110</td>\n",
       "      <td>0.599754</td>\n",
       "      <td>0.657964</td>\n",
       "      <td>-0.431728</td>\n",
       "      <td>0.167100</td>\n",
       "    </tr>\n",
       "    <tr>\n",
       "      <th>R</th>\n",
       "      <td>0.877924</td>\n",
       "      <td>0.176213</td>\n",
       "      <td>1.000000</td>\n",
       "      <td>0.452705</td>\n",
       "      <td>0.319601</td>\n",
       "      <td>0.102310</td>\n",
       "      <td>0.279346</td>\n",
       "      <td>-0.410591</td>\n",
       "      <td>-0.303141</td>\n",
       "      <td>-0.465739</td>\n",
       "      <td>0.465726</td>\n",
       "      <td>-0.215192</td>\n",
       "    </tr>\n",
       "    <tr>\n",
       "      <th>games</th>\n",
       "      <td>0.314138</td>\n",
       "      <td>0.824917</td>\n",
       "      <td>0.452705</td>\n",
       "      <td>1.000000</td>\n",
       "      <td>0.463149</td>\n",
       "      <td>0.896705</td>\n",
       "      <td>0.468290</td>\n",
       "      <td>0.329564</td>\n",
       "      <td>0.365219</td>\n",
       "      <td>0.260298</td>\n",
       "      <td>-0.227312</td>\n",
       "      <td>-0.045433</td>\n",
       "    </tr>\n",
       "    <tr>\n",
       "      <th>tie</th>\n",
       "      <td>0.199389</td>\n",
       "      <td>0.147093</td>\n",
       "      <td>0.319601</td>\n",
       "      <td>0.463149</td>\n",
       "      <td>1.000000</td>\n",
       "      <td>0.177099</td>\n",
       "      <td>0.270406</td>\n",
       "      <td>-0.068448</td>\n",
       "      <td>-0.218437</td>\n",
       "      <td>-0.159881</td>\n",
       "      <td>-0.124151</td>\n",
       "      <td>-0.214354</td>\n",
       "    </tr>\n",
       "    <tr>\n",
       "      <th>win</th>\n",
       "      <td>-0.067849</td>\n",
       "      <td>0.924938</td>\n",
       "      <td>0.102310</td>\n",
       "      <td>0.896705</td>\n",
       "      <td>0.177099</td>\n",
       "      <td>1.000000</td>\n",
       "      <td>0.394188</td>\n",
       "      <td>0.615778</td>\n",
       "      <td>0.647597</td>\n",
       "      <td>0.579963</td>\n",
       "      <td>-0.466551</td>\n",
       "      <td>0.140837</td>\n",
       "    </tr>\n",
       "    <tr>\n",
       "      <th>year</th>\n",
       "      <td>0.176371</td>\n",
       "      <td>0.396967</td>\n",
       "      <td>0.279346</td>\n",
       "      <td>0.468290</td>\n",
       "      <td>0.270406</td>\n",
       "      <td>0.394188</td>\n",
       "      <td>1.000000</td>\n",
       "      <td>0.204536</td>\n",
       "      <td>0.223009</td>\n",
       "      <td>0.172165</td>\n",
       "      <td>-0.145469</td>\n",
       "      <td>0.087085</td>\n",
       "    </tr>\n",
       "    <tr>\n",
       "      <th>win_diff</th>\n",
       "      <td>-0.593785</td>\n",
       "      <td>0.570110</td>\n",
       "      <td>-0.410591</td>\n",
       "      <td>0.329564</td>\n",
       "      <td>-0.068448</td>\n",
       "      <td>0.615778</td>\n",
       "      <td>0.204536</td>\n",
       "      <td>1.000000</td>\n",
       "      <td>0.932503</td>\n",
       "      <td>0.899205</td>\n",
       "      <td>-0.900884</td>\n",
       "      <td>0.437247</td>\n",
       "    </tr>\n",
       "    <tr>\n",
       "      <th>win_rate</th>\n",
       "      <td>-0.457567</td>\n",
       "      <td>0.599754</td>\n",
       "      <td>-0.303141</td>\n",
       "      <td>0.365219</td>\n",
       "      <td>-0.218437</td>\n",
       "      <td>0.647597</td>\n",
       "      <td>0.223009</td>\n",
       "      <td>0.932503</td>\n",
       "      <td>1.000000</td>\n",
       "      <td>0.869664</td>\n",
       "      <td>-0.683312</td>\n",
       "      <td>0.474523</td>\n",
       "    </tr>\n",
       "    <tr>\n",
       "      <th>goals_diff</th>\n",
       "      <td>-0.641969</td>\n",
       "      <td>0.657964</td>\n",
       "      <td>-0.465739</td>\n",
       "      <td>0.260298</td>\n",
       "      <td>-0.159881</td>\n",
       "      <td>0.579963</td>\n",
       "      <td>0.172165</td>\n",
       "      <td>0.899205</td>\n",
       "      <td>0.869664</td>\n",
       "      <td>1.000000</td>\n",
       "      <td>-0.772639</td>\n",
       "      <td>0.427713</td>\n",
       "    </tr>\n",
       "    <tr>\n",
       "      <th>loss_rate</th>\n",
       "      <td>0.650477</td>\n",
       "      <td>-0.431728</td>\n",
       "      <td>0.465726</td>\n",
       "      <td>-0.227312</td>\n",
       "      <td>-0.124151</td>\n",
       "      <td>-0.466551</td>\n",
       "      <td>-0.145469</td>\n",
       "      <td>-0.900884</td>\n",
       "      <td>-0.683312</td>\n",
       "      <td>-0.772639</td>\n",
       "      <td>1.000000</td>\n",
       "      <td>-0.313638</td>\n",
       "    </tr>\n",
       "    <tr>\n",
       "      <th>rank</th>\n",
       "      <td>-0.358770</td>\n",
       "      <td>0.167100</td>\n",
       "      <td>-0.215192</td>\n",
       "      <td>-0.045433</td>\n",
       "      <td>-0.214354</td>\n",
       "      <td>0.140837</td>\n",
       "      <td>0.087085</td>\n",
       "      <td>0.437247</td>\n",
       "      <td>0.474523</td>\n",
       "      <td>0.427713</td>\n",
       "      <td>-0.313638</td>\n",
       "      <td>1.000000</td>\n",
       "    </tr>\n",
       "  </tbody>\n",
       "</table>\n",
       "</div>"
      ],
      "text/plain": [
       "                loss         S         R     games       tie       win  \\\n",
       "loss        1.000000 -0.064028  0.877924  0.314138  0.199389 -0.067849   \n",
       "S          -0.064028  1.000000  0.176213  0.824917  0.147093  0.924938   \n",
       "R           0.877924  0.176213  1.000000  0.452705  0.319601  0.102310   \n",
       "games       0.314138  0.824917  0.452705  1.000000  0.463149  0.896705   \n",
       "tie         0.199389  0.147093  0.319601  0.463149  1.000000  0.177099   \n",
       "win        -0.067849  0.924938  0.102310  0.896705  0.177099  1.000000   \n",
       "year        0.176371  0.396967  0.279346  0.468290  0.270406  0.394188   \n",
       "win_diff   -0.593785  0.570110 -0.410591  0.329564 -0.068448  0.615778   \n",
       "win_rate   -0.457567  0.599754 -0.303141  0.365219 -0.218437  0.647597   \n",
       "goals_diff -0.641969  0.657964 -0.465739  0.260298 -0.159881  0.579963   \n",
       "loss_rate   0.650477 -0.431728  0.465726 -0.227312 -0.124151 -0.466551   \n",
       "rank       -0.358770  0.167100 -0.215192 -0.045433 -0.214354  0.140837   \n",
       "\n",
       "                year  win_diff  win_rate  goals_diff  loss_rate      rank  \n",
       "loss        0.176371 -0.593785 -0.457567   -0.641969   0.650477 -0.358770  \n",
       "S           0.396967  0.570110  0.599754    0.657964  -0.431728  0.167100  \n",
       "R           0.279346 -0.410591 -0.303141   -0.465739   0.465726 -0.215192  \n",
       "games       0.468290  0.329564  0.365219    0.260298  -0.227312 -0.045433  \n",
       "tie         0.270406 -0.068448 -0.218437   -0.159881  -0.124151 -0.214354  \n",
       "win         0.394188  0.615778  0.647597    0.579963  -0.466551  0.140837  \n",
       "year        1.000000  0.204536  0.223009    0.172165  -0.145469  0.087085  \n",
       "win_diff    0.204536  1.000000  0.932503    0.899205  -0.900884  0.437247  \n",
       "win_rate    0.223009  0.932503  1.000000    0.869664  -0.683312  0.474523  \n",
       "goals_diff  0.172165  0.899205  0.869664    1.000000  -0.772639  0.427713  \n",
       "loss_rate  -0.145469 -0.900884 -0.683312   -0.772639   1.000000 -0.313638  \n",
       "rank        0.087085  0.437247  0.474523    0.427713  -0.313638  1.000000  "
      ]
     },
     "execution_count": 60,
     "metadata": {},
     "output_type": "execute_result"
    }
   ],
   "source": [
    "df_ranks_logs[~df_ranks_logs['rank'].isnull()].corr()"
   ]
  },
  {
   "cell_type": "code",
   "execution_count": 61,
   "metadata": {},
   "outputs": [],
   "source": [
    "df_ranks_logs['is_ranked'] = ~df_ranks_logs['rank'].isnull()\n",
    "df_ranks_logs.drop('rank',inplace=True,axis=1)"
   ]
  },
  {
   "cell_type": "code",
   "execution_count": 62,
   "metadata": {},
   "outputs": [],
   "source": [
    "agg = df_ranks_logs[df_ranks_logs['competition']=='WorldCup'].groupby(['year','is_ranked']).mean().reset_index()"
   ]
  },
  {
   "cell_type": "code",
   "execution_count": 63,
   "metadata": {},
   "outputs": [],
   "source": [
    "agg1 = agg.melt(id_vars=['year','is_ranked'],value_vars=agg.columns[2:])"
   ]
  },
  {
   "cell_type": "code",
   "execution_count": 64,
   "metadata": {},
   "outputs": [
    {
     "data": {
      "text/plain": [
       "<seaborn.axisgrid.FacetGrid at 0x11b7f5110>"
      ]
     },
     "execution_count": 64,
     "metadata": {},
     "output_type": "execute_result"
    },
    {
     "data": {
      "image/png": "[encoded data removed]",
      "text/plain": [
       "<Figure size 1070.12x576 with 10 Axes>"
      ]
     },
     "metadata": {
      "needs_background": "light"
     },
     "output_type": "display_data"
    }
   ],
   "source": [
    "g = sns.catplot(x=\"year\", y=\"value\",\n",
    "                hue=\"is_ranked\", col=\"variable\",\n",
    "                data=agg1, kind=\"bar\",\n",
    "                height=4, aspect=.7,col_wrap=5,sharey=False);\n",
    "g.set_xticklabels(rotation=90)"
   ]
  },
  {
   "cell_type": "code",
   "execution_count": 71,
   "metadata": {},
   "outputs": [
    {
     "data": {
      "text/plain": [
       "<seaborn.axisgrid.FacetGrid at 0x1a2791b7d0>"
      ]
     },
     "execution_count": 71,
     "metadata": {},
     "output_type": "execute_result"
    },
    {
     "data": {
      "image/png": "[encoded data removed]",
      "text/plain": [
       "<Figure size 864x1440 with 10 Axes>"
      ]
     },
     "metadata": {
      "needs_background": "light"
     },
     "output_type": "display_data"
    }
   ],
   "source": [
    "g = sns.catplot(x=\"value\", y=\"is_ranked\",\n",
    "                 col=\"variable\",\n",
    "                data=agg1, \n",
    "                height=4,aspect=1.5,  col_wrap=2,sharey=False);\n",
    "g.set_xticklabels(rotation=90)"
   ]
  },
  {
   "cell_type": "code",
   "execution_count": null,
   "metadata": {},
   "outputs": [],
   "source": []
  }
 ],
 "metadata": {
  "hide_input": false,
  "kernelspec": {
   "display_name": "Python 2",
   "language": "python",
   "name": "python2"
  },
  "language_info": {
   "codemirror_mode": {
    "name": "ipython",
    "version": 2
   },
   "file_extension": ".py",
   "mimetype": "text/x-python",
   "name": "python",
   "nbconvert_exporter": "python",
   "pygments_lexer": "ipython2",
   "version": "2.7.15"
  }
 },
 "nbformat": 4,
 "nbformat_minor": 2
}
