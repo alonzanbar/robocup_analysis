{
 "cells": [
  {
   "cell_type": "markdown",
   "metadata": {},
   "source": [
    "<script>\n",
    "    function code_toggle() {\n",
    "    if (code_shown){\n",
    "      $('div.input').hide('500');\n",
    "      $('#toggleButton').val('Show Code')\n",
    "    } else {\n",
    "      $('div.input').show('500');\n",
    "      $('#toggleButton').val('Hide Code')\n",
    "    }\n",
    "    code_shown = !code_shown\n",
    "  }\n",
    "\n",
    "  $( document ).ready(function(){\n",
    "    code_shown=false;\n",
    "    $('div.input').hide()\n",
    "  });\n",
    "</script>\n",
    "<form action=\"javascript:code_toggle()\"><input type=\"submit\" id=\"toggleButton\" value=\"Show Code\"></form>"
   ]
  },
  {
   "cell_type": "code",
   "execution_count": 89,
   "metadata": {},
   "outputs": [],
   "source": [
    "import matplotlib\n",
    "import  pandas as pd\n",
    "import os\n",
    "import matplotlib.pyplot as plt\n",
    "import numpy as np\n",
    "import seaborn as sns\n",
    "import re"
   ]
  },
  {
   "cell_type": "code",
   "execution_count": 90,
   "metadata": {},
   "outputs": [],
   "source": [
    "rep_df_2d = pd.read_csv('data/2d-02_10_2018.csv')\n",
    "ep_df_3d = pd.read_csv('data/3D-analysis-16_09_2018.csv')\n",
    "#rep_df = pd.concat([rep_df_2d,rep_df_3d],sort=False)"
   ]
  },
  {
   "cell_type": "code",
   "execution_count": 108,
   "metadata": {},
   "outputs": [],
   "source": [
    "code_df = rep_df_2d[(rep_df_2d['is_source']==True)& (rep_df_2d['binary_player_number_lines']>0) & \\\n",
    "                   ( rep_df_2d['analizo_total_loc']>5000 )]"
   ]
  },
  {
   "cell_type": "code",
   "execution_count": 109,
   "metadata": {},
   "outputs": [
    {
     "data": {
      "text/plain": [
       "(32, 270)"
      ]
     },
     "execution_count": 109,
     "metadata": {},
     "output_type": "execute_result"
    }
   ],
   "source": [
    "code_df.shape"
   ]
  },
  {
   "cell_type": "code",
   "execution_count": 110,
   "metadata": {},
   "outputs": [],
   "source": [
    "code_df_dyn = code_df\n",
    "code_df_dyn = code_df[code_df['binary_player_number_of_libraries']>0].copy()"
   ]
  },
  {
   "cell_type": "code",
   "execution_count": 113,
   "metadata": {},
   "outputs": [
    {
     "data": {
      "text/html": [
       "<div>\n",
       "<style scoped>\n",
       "    .dataframe tbody tr th:only-of-type {\n",
       "        vertical-align: middle;\n",
       "    }\n",
       "\n",
       "    .dataframe tbody tr th {\n",
       "        vertical-align: top;\n",
       "    }\n",
       "\n",
       "    .dataframe thead th {\n",
       "        text-align: right;\n",
       "    }\n",
       "</style>\n",
       "<table border=\"1\" class=\"dataframe\">\n",
       "  <thead>\n",
       "    <tr style=\"text-align: right;\">\n",
       "      <th></th>\n",
       "      <th>binary_player_number_lines</th>\n",
       "      <th>analizo_total_loc</th>\n",
       "      <th>new_dir</th>\n",
       "    </tr>\n",
       "  </thead>\n",
       "  <tbody>\n",
       "    <tr>\n",
       "      <th>0</th>\n",
       "      <td>86975.0</td>\n",
       "      <td>6330.0</td>\n",
       "      <td>/home/se-metrics/root/proccesed1/2012_ChinaOpens_lntu_taac2012</td>\n",
       "    </tr>\n",
       "    <tr>\n",
       "      <th>1</th>\n",
       "      <td>107361.0</td>\n",
       "      <td>10543.0</td>\n",
       "      <td>/home/se-metrics/root/proccesed1/2016_WorldCup_FURY</td>\n",
       "    </tr>\n",
       "    <tr>\n",
       "      <th>2</th>\n",
       "      <td>107908.0</td>\n",
       "      <td>37740.0</td>\n",
       "      <td>/home/se-metrics/root/proccesed1/2014_LARC_tropeiros</td>\n",
       "    </tr>\n",
       "    <tr>\n",
       "      <th>3</th>\n",
       "      <td>109705.0</td>\n",
       "      <td>10563.0</td>\n",
       "      <td>/home/se-metrics/root/proccesed1/2014_WorldCup_Ri-oneRobocup2014</td>\n",
       "    </tr>\n",
       "    <tr>\n",
       "      <th>4</th>\n",
       "      <td>110348.0</td>\n",
       "      <td>22481.0</td>\n",
       "      <td>/home/se-metrics/root/proccesed1/2014_LARC_pmec_allejos2d</td>\n",
       "    </tr>\n",
       "    <tr>\n",
       "      <th>5</th>\n",
       "      <td>110650.0</td>\n",
       "      <td>10619.0</td>\n",
       "      <td>/home/se-metrics/root/proccesed1/2016_WorldCup_ITAndroids</td>\n",
       "    </tr>\n",
       "    <tr>\n",
       "      <th>6</th>\n",
       "      <td>113694.0</td>\n",
       "      <td>28937.0</td>\n",
       "      <td>/home/se-metrics/root/proccesed1/2016_WorldCup_HillStone</td>\n",
       "    </tr>\n",
       "    <tr>\n",
       "      <th>7</th>\n",
       "      <td>115331.0</td>\n",
       "      <td>10848.0</td>\n",
       "      <td>/home/se-metrics/root/proccesed1/2016_WorldCup_HfutEngine2016</td>\n",
       "    </tr>\n",
       "    <tr>\n",
       "      <th>8</th>\n",
       "      <td>115598.0</td>\n",
       "      <td>24533.0</td>\n",
       "      <td>/home/se-metrics/root/proccesed1/2012_WorldCup_robotto_soccer_simulation_2d</td>\n",
       "    </tr>\n",
       "    <tr>\n",
       "      <th>9</th>\n",
       "      <td>135465.0</td>\n",
       "      <td>6453.0</td>\n",
       "      <td>/home/se-metrics/root/proccesed1/2014_WorldCup_UFSJ2DRobocup2014</td>\n",
       "    </tr>\n",
       "    <tr>\n",
       "      <th>10</th>\n",
       "      <td>210679.0</td>\n",
       "      <td>7161.0</td>\n",
       "      <td>/home/se-metrics/root/proccesed1/2014_WorldCup_FCP_GPR_2014Robocup2014</td>\n",
       "    </tr>\n",
       "    <tr>\n",
       "      <th>11</th>\n",
       "      <td>267605.0</td>\n",
       "      <td>32092.0</td>\n",
       "      <td>/home/se-metrics/root/proccesed1/2016_WorldCup_FCP_GPR_2014</td>\n",
       "    </tr>\n",
       "    <tr>\n",
       "      <th>12</th>\n",
       "      <td>435296.0</td>\n",
       "      <td>65194.0</td>\n",
       "      <td>/home/se-metrics/root/proccesed1/2012_ChinaOpens_miracle2012</td>\n",
       "    </tr>\n",
       "  </tbody>\n",
       "</table>\n",
       "</div>"
      ],
      "text/plain": [
       "    binary_player_number_lines  analizo_total_loc                                                                      new_dir\n",
       "0                      86975.0             6330.0               /home/se-metrics/root/proccesed1/2012_ChinaOpens_lntu_taac2012\n",
       "1                     107361.0            10543.0                          /home/se-metrics/root/proccesed1/2016_WorldCup_FURY\n",
       "2                     107908.0            37740.0                         /home/se-metrics/root/proccesed1/2014_LARC_tropeiros\n",
       "3                     109705.0            10563.0             /home/se-metrics/root/proccesed1/2014_WorldCup_Ri-oneRobocup2014\n",
       "4                     110348.0            22481.0                    /home/se-metrics/root/proccesed1/2014_LARC_pmec_allejos2d\n",
       "5                     110650.0            10619.0                    /home/se-metrics/root/proccesed1/2016_WorldCup_ITAndroids\n",
       "6                     113694.0            28937.0                     /home/se-metrics/root/proccesed1/2016_WorldCup_HillStone\n",
       "7                     115331.0            10848.0                /home/se-metrics/root/proccesed1/2016_WorldCup_HfutEngine2016\n",
       "8                     115598.0            24533.0  /home/se-metrics/root/proccesed1/2012_WorldCup_robotto_soccer_simulation_2d\n",
       "9                     135465.0             6453.0             /home/se-metrics/root/proccesed1/2014_WorldCup_UFSJ2DRobocup2014\n",
       "10                    210679.0             7161.0       /home/se-metrics/root/proccesed1/2014_WorldCup_FCP_GPR_2014Robocup2014\n",
       "11                    267605.0            32092.0                  /home/se-metrics/root/proccesed1/2016_WorldCup_FCP_GPR_2014\n",
       "12                    435296.0            65194.0                 /home/se-metrics/root/proccesed1/2012_ChinaOpens_miracle2012"
      ]
     },
     "execution_count": 113,
     "metadata": {},
     "output_type": "execute_result"
    }
   ],
   "source": [
    "pd.set_option('display.expand_frame_repr', True)\n",
    "pd.set_option('max_colwidth', 800)\n",
    "code_df_dyn = code_df_dyn.sort_values('binary_player_number_lines').reset_index()\n",
    "code_df_dyn[['binary_player_number_lines','analizo_total_loc','new_dir']]"
   ]
  },
  {
   "cell_type": "code",
   "execution_count": null,
   "metadata": {},
   "outputs": [],
   "source": []
  },
  {
   "cell_type": "code",
   "execution_count": 114,
   "metadata": {},
   "outputs": [
    {
     "data": {
      "image/png": "[encoded data removed]",
      "text/plain": [
       "<Figure size 432x288 with 2 Axes>"
      ]
     },
     "metadata": {
      "needs_background": "light"
     },
     "output_type": "display_data"
    }
   ],
   "source": [
    "#sns.lineplot(data=code_df_dyn[['binary_player_number_lines','analizo_total_loc']],sort=True)\n",
    "ax = code_df_dyn[['binary_player_number_lines']].plot( legend=False)\n",
    "ax2 = ax.twinx()\n",
    "code_df_dyn.plot(y=\"analizo_total_loc\", ax=ax2, legend=False, color=\"r\")\n",
    "ax.figure.legend()\n",
    "plt.show()"
   ]
  },
  {
   "cell_type": "code",
   "execution_count": 116,
   "metadata": {},
   "outputs": [
    {
     "data": {
      "text/html": [
       "<div>\n",
       "<style scoped>\n",
       "    .dataframe tbody tr th:only-of-type {\n",
       "        vertical-align: middle;\n",
       "    }\n",
       "\n",
       "    .dataframe tbody tr th {\n",
       "        vertical-align: top;\n",
       "    }\n",
       "\n",
       "    .dataframe thead th {\n",
       "        text-align: right;\n",
       "    }\n",
       "</style>\n",
       "<table border=\"1\" class=\"dataframe\">\n",
       "  <thead>\n",
       "    <tr style=\"text-align: right;\">\n",
       "      <th></th>\n",
       "      <th>analizo_total_loc</th>\n",
       "      <th>binary_player_number_lines</th>\n",
       "    </tr>\n",
       "  </thead>\n",
       "  <tbody>\n",
       "    <tr>\n",
       "      <th>analizo_total_loc</th>\n",
       "      <td>1.000000</td>\n",
       "      <td>0.733698</td>\n",
       "    </tr>\n",
       "    <tr>\n",
       "      <th>binary_player_number_lines</th>\n",
       "      <td>0.733698</td>\n",
       "      <td>1.000000</td>\n",
       "    </tr>\n",
       "  </tbody>\n",
       "</table>\n",
       "</div>"
      ],
      "text/plain": [
       "                            analizo_total_loc  binary_player_number_lines\n",
       "analizo_total_loc                    1.000000                    0.733698\n",
       "binary_player_number_lines           0.733698                    1.000000"
      ]
     },
     "execution_count": 116,
     "metadata": {},
     "output_type": "execute_result"
    }
   ],
   "source": [
    "code_df_dyn[['analizo_total_loc','binary_player_number_lines']].corr()"
   ]
  },
  {
   "cell_type": "code",
   "execution_count": 122,
   "metadata": {
    "slideshow": {
     "slide_type": "slide"
    }
   },
   "outputs": [
    {
     "data": {
      "image/png": "[encoded data removed]",
      "text/plain": [
       "<Figure size 432x288 with 2 Axes>"
      ]
     },
     "metadata": {
      "needs_background": "light"
     },
     "output_type": "display_data"
    }
   ],
   "source": [
    "code_df_dyn = code_df_dyn.sort_values('player_function_cc_radare2_mean').reset_index(drop=True)\n",
    "ax = code_df_dyn[['player_function_cc_radare2_mean']].plot( legend=False)\n",
    "ax2 = ax.twinx()\n",
    "code_df_dyn.plot(y=\"analizo_accm_mean\", ax=ax2, legend=False, color=\"r\")\n",
    "ax.figure.legend()\n",
    "plt.show()"
   ]
  },
  {
   "cell_type": "code",
   "execution_count": 121,
   "metadata": {},
   "outputs": [
    {
     "data": {
      "text/html": [
       "<div>\n",
       "<style scoped>\n",
       "    .dataframe tbody tr th:only-of-type {\n",
       "        vertical-align: middle;\n",
       "    }\n",
       "\n",
       "    .dataframe tbody tr th {\n",
       "        vertical-align: top;\n",
       "    }\n",
       "\n",
       "    .dataframe thead th {\n",
       "        text-align: right;\n",
       "    }\n",
       "</style>\n",
       "<table border=\"1\" class=\"dataframe\">\n",
       "  <thead>\n",
       "    <tr style=\"text-align: right;\">\n",
       "      <th></th>\n",
       "      <th>analizo_accm_mean</th>\n",
       "      <th>player_function_cc_radare2_mean</th>\n",
       "    </tr>\n",
       "  </thead>\n",
       "  <tbody>\n",
       "    <tr>\n",
       "      <th>analizo_accm_mean</th>\n",
       "      <td>1.000000</td>\n",
       "      <td>-0.030779</td>\n",
       "    </tr>\n",
       "    <tr>\n",
       "      <th>player_function_cc_radare2_mean</th>\n",
       "      <td>-0.030779</td>\n",
       "      <td>1.000000</td>\n",
       "    </tr>\n",
       "  </tbody>\n",
       "</table>\n",
       "</div>"
      ],
      "text/plain": [
       "                                 analizo_accm_mean  player_function_cc_radare2_mean\n",
       "analizo_accm_mean                         1.000000                        -0.030779\n",
       "player_function_cc_radare2_mean          -0.030779                         1.000000"
      ]
     },
     "execution_count": 121,
     "metadata": {},
     "output_type": "execute_result"
    }
   ],
   "source": [
    "code_df_dyn[['analizo_accm_mean','player_function_cc_radare2_mean']].corr()"
   ]
  },
  {
   "cell_type": "code",
   "execution_count": null,
   "metadata": {},
   "outputs": [],
   "source": []
  },
  {
   "cell_type": "code",
   "execution_count": null,
   "metadata": {},
   "outputs": [],
   "source": []
  }
 ],
 "metadata": {
  "kernelspec": {
   "display_name": "Python 2",
   "language": "python",
   "name": "python2"
  },
  "language_info": {
   "codemirror_mode": {
    "name": "ipython",
    "version": 2
   },
   "file_extension": ".py",
   "mimetype": "text/x-python",
   "name": "python",
   "nbconvert_exporter": "python",
   "pygments_lexer": "ipython2",
   "version": "2.7.12"
  }
 },
 "nbformat": 4,
 "nbformat_minor": 2
}
