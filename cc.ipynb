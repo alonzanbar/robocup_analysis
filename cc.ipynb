{
 "cells": [
  {
   "cell_type": "code",
   "execution_count": 0,
   "metadata": {},
   "outputs": [],
   "source": []
  },
  {
   "cell_type": "code",
   "execution_count": 7,
   "metadata": {},
   "outputs": [],
   "source": [
    "import pandas as pd\n",
    "import os\n",
    "import matplotlib.pyplot as plt\n",
    "import numpy as np\n",
    "from sklearn.cluster import KMeans\n",
    "from sklearn.decomposition import PCA\n",
    "from sklearn.ensemble import RandomForestClassifier\n",
    "plt.rcParams['figure.figsize'] = [20, 10]\n",
    "\n",
    "df1 = pd.read_csv(os.getcwd() +\"/Names.csv\")\n",
    "\n",
    "\n"
   ]
  },
  {
   "cell_type": "code",
   "execution_count": 8,
   "metadata": {
    "scrolled": true
   },
   "outputs": [],
   "source": [
    "cols = df1.columns.tolist()\n",
    "\n",
    "cols_ordered = []\n",
    "cols_ordered.append('type')\n",
    "cols_ordered.append('folder')\n",
    "for col in cols:\n",
    "    if col not in cols_ordered:\n",
    "        cols_ordered.append(col)\n",
    "df2 = df1[cols_ordered].dropna()"
   ]
  },
  {
   "cell_type": "code",
   "execution_count": 9,
   "metadata": {},
   "outputs": [
    {
     "data": {
      "text/plain": [
       "['finance', 'math', 'music', 'vision']"
      ]
     },
     "execution_count": 9,
     "metadata": {},
     "output_type": "execute_result"
    }
   ],
   "source": [
    "df2 = df2[df2['folder']!='blaze']\n",
    "y = pd.Categorical(df2.type)\n",
    "cat = list(y.categories)\n",
    "cat"
   ]
  },
  {
   "cell_type": "code",
   "execution_count": 10,
   "metadata": {},
   "outputs": [],
   "source": [
    "signs = ['x','o','+','^',',','*','+']\n",
    "mkr_dict = {key:signs[i] for i,key in enumerate(cat)}"
   ]
  },
  {
   "cell_type": "code",
   "execution_count": 11,
   "metadata": {},
   "outputs": [
    {
     "data": {
      "text/plain": [
       "<matplotlib.axes._subplots.AxesSubplot at 0x7fdeb907db38>"
      ]
     },
     "execution_count": 11,
     "metadata": {},
     "output_type": "execute_result"
    },
    {
     "data": {
      "image/png": "[encoded data removed]",
      "text/plain": [
       "<Figure size 1440x720 with 1 Axes>"
      ]
     },
     "metadata": {},
     "output_type": "display_data"
    }
   ],
   "source": [
    "# for kind in mkr_dict:\n",
    "#     d = df2[df2.type==kind]\n",
    "#     plt.scatter(d.acc, d['loc'],marker = mkr_dict[kind])\n",
    "#     plt.xlabel('acc')\n",
    "#     plt.ylabel('loc')\n",
    "#     plt.legend(cat)\n",
    "# plt\n",
    "import seaborn as sns\n",
    "sns.boxplot(x='type',y='acc',data=df2[df2['acc']<30])"
   ]
  },
  {
   "cell_type": "code",
   "execution_count": 25,
   "metadata": {
    "scrolled": true
   },
   "outputs": [],
   "source": [
    "df2 = df2.sample(frac=1).reset_index(drop=True)"
   ]
  },
  {
   "cell_type": "code",
   "execution_count": 26,
   "metadata": {},
   "outputs": [
    {
     "data": {
      "text/plain": [
       "array([0, 0, 0, ..., 0, 0, 0], dtype=int32)"
      ]
     },
     "execution_count": 26,
     "metadata": {},
     "output_type": "execute_result"
    }
   ],
   "source": [
    "kmeans = KMeans(n_clusters=2, random_state=1).fit(df3[['acc','loc']])\n",
    "kmeans.labels_"
   ]
  },
  {
   "cell_type": "code",
   "execution_count": 27,
   "metadata": {
    "scrolled": true
   },
   "outputs": [
    {
     "data": {
      "text/plain": [
       "array([1, 2, 2, 2, 3, 2, 2, 2, 2, 2, 3, 2, 3, 1, 3, 2, 2, 2, 2, 1, 3, 0,\n",
       "       2, 2, 2, 2, 2, 0, 3, 2], dtype=int8)"
      ]
     },
     "execution_count": 27,
     "metadata": {},
     "output_type": "execute_result"
    }
   ],
   "source": [
    "from sklearn.neural_network import MLPClassifier\n",
    "X = df2.select_dtypes(include=[np.number]).as_matrix()\n",
    "y = pd.Categorical(df2.type).codes\n",
    "y[:30]"
   ]
  },
  {
   "cell_type": "code",
   "execution_count": 30,
   "metadata": {},
   "outputs": [
    {
     "data": {
      "text/plain": [
       "array([1, 2, 2, ..., 3, 2, 3], dtype=int8)"
      ]
     },
     "execution_count": 30,
     "metadata": {},
     "output_type": "execute_result"
    }
   ],
   "source": [
    "precil = int(X.shape[0]*0.8)\n",
    "x_train = X[:precil]\n",
    "y_train = y[:precil]\n",
    "y_train"
   ]
  },
  {
   "cell_type": "code",
   "execution_count": 34,
   "metadata": {},
   "outputs": [],
   "source": [
    "x_test  = X[precil:]\n",
    "y_test  = y[precil:]"
   ]
  },
  {
   "cell_type": "code",
   "execution_count": 61,
   "metadata": {},
   "outputs": [
    {
     "name": "stdout",
     "output_type": "stream",
     "text": [
      "1.0\n"
     ]
    },
    {
     "data": {
      "text/plain": [
       "array([2, 2, 2, 2, 0, 2, 2, 2, 3, 2, 0, 2, 2, 2, 3, 2, 2, 2, 2, 3, 2, 2,\n",
       "       2, 2, 3, 2, 2, 2, 0, 2], dtype=int8)"
      ]
     },
     "execution_count": 61,
     "metadata": {},
     "output_type": "execute_result"
    }
   ],
   "source": [
    "clf = MLPClassifier(hidden_layer_sizes=(400,200),max_iter=1000)\n",
    "clf.fit(x_train, y_train)\n",
    "y_pred = clf.predict(x_test)\n",
    "accurarcy =  np.in1d(y_test,y_pred)\n",
    "print (accurarcy[accurarcy[:]==True].shape[0]/accurarcy.shape[0])\n",
    "y_pred[:30]"
   ]
  },
  {
   "cell_type": "code",
   "execution_count": 59,
   "metadata": {},
   "outputs": [
    {
     "data": {
      "text/plain": [
       "array([3, 2, 2, 3, 2, 2, 2, 0, 2, 2, 0, 2, 2, 2, 2, 2, 2, 3, 2, 3, 1, 2,\n",
       "       2, 2, 2, 2, 2, 2, 3, 2], dtype=int8)"
      ]
     },
     "execution_count": 59,
     "metadata": {},
     "output_type": "execute_result"
    }
   ],
   "source": [
    "\n",
    "rf = RandomForestClassifier().fit(x_train,y_train)\n",
    "rf.predict(x_test)[:30]"
   ]
  },
  {
   "cell_type": "code",
   "execution_count": 60,
   "metadata": {},
   "outputs": [
    {
     "data": {
      "text/plain": [
       "array([3, 2, 3, 3, 3, 1, 2, 3, 2, 2, 3, 2, 3, 1, 2, 2, 0, 0, 2, 0, 3, 2,\n",
       "       3, 2, 0, 2, 3, 3, 0, 1], dtype=int8)"
      ]
     },
     "execution_count": 60,
     "metadata": {},
     "output_type": "execute_result"
    }
   ],
   "source": [
    "y_test[:30]"
   ]
  },
  {
   "cell_type": "code",
   "execution_count": 19,
   "metadata": {},
   "outputs": [
    {
     "data": {
      "text/plain": [
       "['npm',\n",
       " 'acc',\n",
       " 'nom',\n",
       " 'npa',\n",
       " 'noa',\n",
       " 'cbo',\n",
       " 'amloc',\n",
       " 'lcom4',\n",
       " 'dit',\n",
       " 'noc',\n",
       " 'accm',\n",
       " 'loc',\n",
       " 'anpm',\n",
       " 'mmloc',\n",
       " 'rfc',\n",
       " 'sc']"
      ]
     },
     "execution_count": 19,
     "metadata": {},
     "output_type": "execute_result"
    }
   ],
   "source": [
    "list(df3)\n"
   ]
  },
  {
   "cell_type": "code",
   "execution_count": null,
   "metadata": {},
   "outputs": [],
   "source": []
  }
 ],
 "metadata": {
  "kernelspec": {
   "display_name": "Python 3",
   "language": "python",
   "name": "python3"
  },
  "language_info": {
   "codemirror_mode": {
    "name": "ipython",
    "version": 3
   },
   "file_extension": ".py",
   "mimetype": "text/x-python",
   "name": "python",
   "nbconvert_exporter": "python",
   "pygments_lexer": "ipython3",
   "version": "3.5.2"
  }
 },
 "nbformat": 4,
 "nbformat_minor": 1
}
