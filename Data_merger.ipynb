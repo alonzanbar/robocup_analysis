{
 "cells": [
  {
   "cell_type": "code",
   "execution_count": 2,
   "metadata": {},
   "outputs": [],
   "source": [
    "import matplotlib\n",
    "import  pandas as pd\n",
    "import os\n",
    "import matplotlib.pyplot as plt\n",
    "import numpy as np\n",
    "import seaborn as sns\n",
    "import re"
   ]
  },
  {
   "cell_type": "code",
   "execution_count": null,
   "metadata": {},
   "outputs": [],
   "source": [
    "common_categories = ['category','agent_type','type','folder']\n",
    "regexp_total = re.compile(r'analizo_(.)*')"
   ]
  },
  {
   "cell_type": "code",
   "execution_count": 21,
   "metadata": {},
   "outputs": [],
   "source": [
    "anac_df = pd.read_csv(os.getcwd() +\"/data/anac.csv\")\n",
    "anac_df.rename(columns={'type':'category'},inplace=True)\n",
    "anac_df['type'] = 'anac'\n",
    "anac_df['category'] = 'anac'\n",
    "anac_df['agent_type'] = 'agent'\n",
    "cccc_cols= [c for c in anac_df if 'cccc' in c]\n",
    "drop_cccc_dic = {k[5:]:k for k in cccc_cols}"
   ]
  },
  {
   "cell_type": "code",
   "execution_count": 22,
   "metadata": {},
   "outputs": [],
   "source": [
    "rep_df_2d = pd.read_csv('data/2d-03_10_2018.csv')\n",
    "rep_df_2d = rep_df_2d[rep_df_2d['is_source']==True].copy()\n",
    "rep_df_2d['category'] = 'robocup-2d'\n",
    "rep_df_2d['agent_type'] = 'agent'\n",
    "rep_df_2d.rename(index=str,columns=drop_cccc_dic,inplace=True)\n",
    "\n",
    "robocup_other =  pd.read_csv(os.getcwd() +\"/data/robocup-other-04_10_2018.csv\")\n",
    "robocup_other['category'] = 'Robcup-other-leagues'\n",
    "robocup_other['agent_type'] = 'Robot'\n",
    "\n",
    "robo_sim_df = pd.concat([rep_df_2d,robocup_other],sort=False)"
   ]
  },
  {
   "cell_type": "code",
   "execution_count": null,
   "metadata": {},
   "outputs": [],
   "source": []
  },
  {
   "cell_type": "code",
   "execution_count": 23,
   "metadata": {},
   "outputs": [],
   "source": [
    "robo_sim_df = robo_sim_df.rename(index=str,columns={'new_dir':'folder'})\n",
    "robo_sim_df.to_csv('data/robo-sim-data.csv')\n",
    "#robo_sim_df = robo_sim_df[[c for c in robo_sim_df.columns if regexp_total.search(c) or (c in common_categories)]].copy()"
   ]
  },
  {
   "cell_type": "code",
   "execution_count": 24,
   "metadata": {},
   "outputs": [],
   "source": [
    "\n",
    "robo_sim_df['type'] = 'Robocup'"
   ]
  },
  {
   "cell_type": "code",
   "execution_count": 25,
   "metadata": {},
   "outputs": [],
   "source": [
    "git_hub_df = pd.read_csv(os.getcwd() +\"/data/git-hub-10_10_2018.csv\")\n",
    "git_hub_df['category'] = git_hub_df['new_dir_name'].str.split(\"/\").str[-2]\n",
    "git_hub_df['type'] = 'git-hub'\n",
    "agent_categories = ['chess']\n",
    "git_hub_df = git_hub_df.groupby('category').filter(lambda x: x['analizo_mmloc_sum'].count()>25)\n",
    "\n",
    "git_hub_df.loc[git_hub_df.category.isin(agent_categories), 'agent_type'] = 'agent'\n",
    "git_hub_df.loc[~git_hub_df.category.isin(agent_categories), 'agent_type'] = 'non-agent'\n",
    "git_hub_df.rename(index=str,columns=drop_cccc_dic,inplace=True)"
   ]
  },
  {
   "cell_type": "code",
   "execution_count": 26,
   "metadata": {},
   "outputs": [],
   "source": [
    "external_df  = pd.read_csv(os.getcwd() +\"/data/external-04_10_2018code_analysis__summery_report.csv\")\n",
    "external_df.rename(columns={'type':'category'},inplace=True)\n",
    "external_df['type'] = 'Industry'\n",
    "external_df['agent_type'] = 'Robot'\n",
    "\n",
    "df_all = pd.concat([git_hub_df,anac_df,external_df],sort=False)\n",
    "#df_all = df_all[[c for c in df_all.columns if  regexp_total.search(c) or c in common_categories]].copy()\n",
    "df_all[4:5].columns[df_all[4:5].isna().any()].tolist()\n",
    "cols = [\n",
    " 'analizo__module',\n",
    " 'analizo_lcom4',\n",
    " 'analizo_npm',\n",
    " 'analizo_dit',\n",
    " 'analizo_acc',\n",
    " 'analizo_cbo',\n",
    " 'analizo_accm',\n",
    " 'analizo_amloc',\n",
    " 'analizo_sc',\n",
    " 'analizo_noc',\n",
    " 'analizo_rfc',\n",
    " 'analizo_noa',\n",
    " 'analizo_nom',\n",
    " 'analizo_npa',\n",
    " 'analizo_mmloc',\n",
    " 'analizo_loc',\n",
    " 'analizo_anpm',\n",
    " 'analizo_total_eloc']"
   ]
  },
  {
   "cell_type": "code",
   "execution_count": 27,
   "metadata": {},
   "outputs": [
    {
     "data": {
      "text/plain": [
       "(640, 240)"
      ]
     },
     "execution_count": 27,
     "metadata": {},
     "output_type": "execute_result"
    }
   ],
   "source": [
    "df_all.drop(columns=cols,inplace=True)\n",
    "#df_all.dropna(inplace=True)\n",
    "df_all.shape"
   ]
  },
  {
   "cell_type": "code",
   "execution_count": 28,
   "metadata": {},
   "outputs": [
    {
     "data": {
      "text/plain": [
       "(729, 274)"
      ]
     },
     "execution_count": 28,
     "metadata": {},
     "output_type": "execute_result"
    }
   ],
   "source": [
    "df_robo_all = pd.concat([robo_sim_df,df_all],sort=False,ignore_index=True)\n",
    "df_robo_all.shape"
   ]
  },
  {
   "cell_type": "code",
   "execution_count": 29,
   "metadata": {},
   "outputs": [],
   "source": [
    "df_robo_all['category'] = df_robo_all['category'].str.title()"
   ]
  },
  {
   "cell_type": "code",
   "execution_count": 30,
   "metadata": {},
   "outputs": [
    {
     "name": "stdout",
     "output_type": "stream",
     "text": [
      "project before removing lower quantile : 729\n",
      "project after removing lower quantile : 542\n"
     ]
    }
   ],
   "source": [
    "print \"project before removing lower quantile : \" + str(df_robo_all.shape[0])\n",
    "df_robo_all =df_robo_all.loc[df_robo_all['analizo_total_loc']>1000,:]\n",
    "print \"project after removing lower quantile : \" + str(df_robo_all.shape[0])"
   ]
  },
  {
   "cell_type": "code",
   "execution_count": 31,
   "metadata": {},
   "outputs": [],
   "source": [
    "df_robo_all.to_csv(\"data/data.csv\")"
   ]
  },
  {
   "cell_type": "code",
   "execution_count": 32,
   "metadata": {},
   "outputs": [
    {
     "data": {
      "text/plain": [
       "type      category            \n",
       "Industry  Autodrivers              1\n",
       "          Robo-Projects            4\n",
       "Robocup   Robcup-Other-Leagues    21\n",
       "          Robocup-2D              64\n",
       "anac      Anac                    25\n",
       "git-hub   Audio                   53\n",
       "          Chess                   29\n",
       "          Education               50\n",
       "          Finance                 26\n",
       "          Games                   34\n",
       "          Graphics                59\n",
       "          Ide                     53\n",
       "          Mobile                  41\n",
       "          Robot-Simulation        23\n",
       "          Security                59\n",
       "Name: analizo_accm_mean, dtype: int64"
      ]
     },
     "execution_count": 32,
     "metadata": {},
     "output_type": "execute_result"
    }
   ],
   "source": [
    "df_robo_all.groupby(['type','category'])['analizo_accm_mean'].count()"
   ]
  },
  {
   "cell_type": "code",
   "execution_count": 33,
   "metadata": {},
   "outputs": [],
   "source": [
    "# df_robo_all.groupby('category').sum()['analizo_total_modules'].plot(kind='bar')"
   ]
  },
  {
   "cell_type": "code",
   "execution_count": 34,
   "metadata": {},
   "outputs": [
    {
     "data": {
      "text/plain": [
       "<matplotlib.axes._subplots.AxesSubplot at 0x7f7c50b63c10>"
      ]
     },
     "execution_count": 34,
     "metadata": {},
     "output_type": "execute_result"
    },
    {
     "data": {
      "image/png": "[encoded data removed]",
      "text/plain": [
       "<Figure size 432x288 with 1 Axes>"
      ]
     },
     "metadata": {
      "needs_background": "light"
     },
     "output_type": "display_data"
    }
   ],
   "source": [
    "df_robo_all.groupby('category').mean()['analizo_total_loc'].plot(kind='bar')"
   ]
  },
  {
   "cell_type": "code",
   "execution_count": 35,
   "metadata": {},
   "outputs": [
    {
     "data": {
      "text/plain": [
       "<matplotlib.axes._subplots.AxesSubplot at 0x7f7c109c6090>"
      ]
     },
     "execution_count": 35,
     "metadata": {},
     "output_type": "execute_result"
    },
    {
     "data": {
      "image/png": "[encoded data removed]",
      "text/plain": [
       "<Figure size 432x288 with 1 Axes>"
      ]
     },
     "metadata": {
      "needs_background": "light"
     },
     "output_type": "display_data"
    }
   ],
   "source": [
    "df_robo_all.groupby('category').median()['analizo_total_loc'].plot(kind='bar')"
   ]
  },
  {
   "cell_type": "code",
   "execution_count": 36,
   "metadata": {},
   "outputs": [
    {
     "data": {
      "text/plain": [
       "['Current_group_location',\n",
       " 'Exe_files',\n",
       " 'cccc_IF4',\n",
       " 'cccc_IF4_per_module',\n",
       " 'cccc_IF4_visible',\n",
       " 'cccc_IF4_visible_per_module',\n",
       " 'cccc_McCabes_cyclomatic_complexity',\n",
       " 'cccc_McCabes_cyclomatic_complexity_per_line_of_comment',\n",
       " 'cccc_McCabes_cyclomatic_complexity_per_module',\n",
       " 'Number_exe_files',\n",
       " 'Number_libraries_Total',\n",
       " 'Number_lines_Total',\n",
       " 'Number_of_binaries',\n",
       " 'analizo_acc_kurtosis',\n",
       " 'analizo_acc_mean',\n",
       " 'analizo_acc_mode',\n",
       " 'analizo_acc_quantile_lower',\n",
       " 'analizo_acc_quantile_max',\n",
       " 'analizo_acc_quantile_median',\n",
       " 'analizo_acc_quantile_min',\n",
       " 'analizo_acc_quantile_ninety_five',\n",
       " 'analizo_acc_quantile_upper',\n",
       " 'analizo_acc_skewness',\n",
       " 'analizo_acc_standard_deviation',\n",
       " 'analizo_acc_sum',\n",
       " 'analizo_acc_variance',\n",
       " 'analizo_accm_kurtosis',\n",
       " 'analizo_accm_mean',\n",
       " 'analizo_accm_mode',\n",
       " 'analizo_accm_quantile_lower',\n",
       " 'analizo_accm_quantile_max',\n",
       " 'analizo_accm_quantile_median',\n",
       " 'analizo_accm_quantile_min',\n",
       " 'analizo_accm_quantile_ninety_five',\n",
       " 'analizo_accm_quantile_upper',\n",
       " 'analizo_accm_skewness',\n",
       " 'analizo_accm_standard_deviation',\n",
       " 'analizo_accm_sum',\n",
       " 'analizo_accm_variance',\n",
       " 'analizo_amloc_kurtosis',\n",
       " 'analizo_amloc_mean',\n",
       " 'analizo_amloc_mode',\n",
       " 'analizo_amloc_quantile_lower',\n",
       " 'analizo_amloc_quantile_max',\n",
       " 'analizo_amloc_quantile_median',\n",
       " 'analizo_amloc_quantile_min',\n",
       " 'analizo_amloc_quantile_ninety_five',\n",
       " 'analizo_amloc_quantile_upper',\n",
       " 'analizo_amloc_skewness',\n",
       " 'analizo_amloc_standard_deviation',\n",
       " 'analizo_amloc_sum',\n",
       " 'analizo_amloc_variance',\n",
       " 'analizo_anpm_kurtosis',\n",
       " 'analizo_anpm_mean',\n",
       " 'analizo_anpm_mode',\n",
       " 'analizo_anpm_quantile_lower',\n",
       " 'analizo_anpm_quantile_max',\n",
       " 'analizo_anpm_quantile_median',\n",
       " 'analizo_anpm_quantile_min',\n",
       " 'analizo_anpm_quantile_ninety_five',\n",
       " 'analizo_anpm_quantile_upper',\n",
       " 'analizo_anpm_skewness',\n",
       " 'analizo_anpm_standard_deviation',\n",
       " 'analizo_anpm_sum',\n",
       " 'analizo_anpm_variance',\n",
       " 'analizo_cbo_kurtosis',\n",
       " 'analizo_cbo_mean',\n",
       " 'analizo_cbo_mode',\n",
       " 'analizo_cbo_quantile_lower',\n",
       " 'analizo_cbo_quantile_max',\n",
       " 'analizo_cbo_quantile_median',\n",
       " 'analizo_cbo_quantile_min',\n",
       " 'analizo_cbo_quantile_ninety_five',\n",
       " 'analizo_cbo_quantile_upper',\n",
       " 'analizo_cbo_skewness',\n",
       " 'analizo_cbo_standard_deviation',\n",
       " 'analizo_cbo_sum',\n",
       " 'analizo_cbo_variance',\n",
       " 'analizo_change_cost',\n",
       " 'analizo_dit_kurtosis',\n",
       " 'analizo_dit_mean',\n",
       " 'analizo_dit_mode',\n",
       " 'analizo_dit_quantile_lower',\n",
       " 'analizo_dit_quantile_max',\n",
       " 'analizo_dit_quantile_median',\n",
       " 'analizo_dit_quantile_min',\n",
       " 'analizo_dit_quantile_ninety_five',\n",
       " 'analizo_dit_quantile_upper',\n",
       " 'analizo_dit_skewness',\n",
       " 'analizo_dit_standard_deviation',\n",
       " 'analizo_dit_sum',\n",
       " 'analizo_dit_variance',\n",
       " 'analizo_lcom4_kurtosis',\n",
       " 'analizo_lcom4_mean',\n",
       " 'analizo_lcom4_mode',\n",
       " 'analizo_lcom4_quantile_lower',\n",
       " 'analizo_lcom4_quantile_max',\n",
       " 'analizo_lcom4_quantile_median',\n",
       " 'analizo_lcom4_quantile_min',\n",
       " 'analizo_lcom4_quantile_ninety_five',\n",
       " 'analizo_lcom4_quantile_upper',\n",
       " 'analizo_lcom4_skewness',\n",
       " 'analizo_lcom4_standard_deviation',\n",
       " 'analizo_lcom4_sum',\n",
       " 'analizo_lcom4_variance',\n",
       " 'analizo_loc_kurtosis',\n",
       " 'analizo_loc_mean',\n",
       " 'analizo_loc_mode',\n",
       " 'analizo_loc_quantile_lower',\n",
       " 'analizo_loc_quantile_max',\n",
       " 'analizo_loc_quantile_median',\n",
       " 'analizo_loc_quantile_min',\n",
       " 'analizo_loc_quantile_ninety_five',\n",
       " 'analizo_loc_quantile_upper',\n",
       " 'analizo_loc_skewness',\n",
       " 'analizo_loc_standard_deviation',\n",
       " 'analizo_loc_sum',\n",
       " 'analizo_loc_variance',\n",
       " 'analizo_mmloc_kurtosis',\n",
       " 'analizo_mmloc_mean',\n",
       " 'analizo_mmloc_mode',\n",
       " 'analizo_mmloc_quantile_lower',\n",
       " 'analizo_mmloc_quantile_max',\n",
       " 'analizo_mmloc_quantile_median',\n",
       " 'analizo_mmloc_quantile_min',\n",
       " 'analizo_mmloc_quantile_ninety_five',\n",
       " 'analizo_mmloc_quantile_upper',\n",
       " 'analizo_mmloc_skewness',\n",
       " 'analizo_mmloc_standard_deviation',\n",
       " 'analizo_mmloc_sum',\n",
       " 'analizo_mmloc_variance',\n",
       " 'analizo_noa_kurtosis',\n",
       " 'analizo_noa_mean',\n",
       " 'analizo_noa_mode',\n",
       " 'analizo_noa_quantile_lower',\n",
       " 'analizo_noa_quantile_max',\n",
       " 'analizo_noa_quantile_median',\n",
       " 'analizo_noa_quantile_min',\n",
       " 'analizo_noa_quantile_ninety_five',\n",
       " 'analizo_noa_quantile_upper',\n",
       " 'analizo_noa_skewness',\n",
       " 'analizo_noa_standard_deviation',\n",
       " 'analizo_noa_sum',\n",
       " 'analizo_noa_variance',\n",
       " 'analizo_noc_kurtosis',\n",
       " 'analizo_noc_mean',\n",
       " 'analizo_noc_mode',\n",
       " 'analizo_noc_quantile_lower',\n",
       " 'analizo_noc_quantile_max',\n",
       " 'analizo_noc_quantile_median',\n",
       " 'analizo_noc_quantile_min',\n",
       " 'analizo_noc_quantile_ninety_five',\n",
       " 'analizo_noc_quantile_upper',\n",
       " 'analizo_noc_skewness',\n",
       " 'analizo_noc_standard_deviation',\n",
       " 'analizo_noc_sum',\n",
       " 'analizo_noc_variance',\n",
       " 'analizo_nom_kurtosis',\n",
       " 'analizo_nom_mean',\n",
       " 'analizo_nom_mode',\n",
       " 'analizo_nom_quantile_lower',\n",
       " 'analizo_nom_quantile_max',\n",
       " 'analizo_nom_quantile_median',\n",
       " 'analizo_nom_quantile_min',\n",
       " 'analizo_nom_quantile_ninety_five',\n",
       " 'analizo_nom_quantile_upper',\n",
       " 'analizo_nom_skewness',\n",
       " 'analizo_nom_standard_deviation',\n",
       " 'analizo_nom_sum',\n",
       " 'analizo_nom_variance',\n",
       " 'analizo_npa_kurtosis',\n",
       " 'analizo_npa_mean',\n",
       " 'analizo_npa_mode',\n",
       " 'analizo_npa_quantile_lower',\n",
       " 'analizo_npa_quantile_max',\n",
       " 'analizo_npa_quantile_median',\n",
       " 'analizo_npa_quantile_min',\n",
       " 'analizo_npa_quantile_ninety_five',\n",
       " 'analizo_npa_quantile_upper',\n",
       " 'analizo_npa_skewness',\n",
       " 'analizo_npa_standard_deviation',\n",
       " 'analizo_npa_sum',\n",
       " 'analizo_npa_variance',\n",
       " 'analizo_npm_kurtosis',\n",
       " 'analizo_npm_mean',\n",
       " 'analizo_npm_mode',\n",
       " 'analizo_npm_quantile_lower',\n",
       " 'analizo_npm_quantile_max',\n",
       " 'analizo_npm_quantile_median',\n",
       " 'analizo_npm_quantile_min',\n",
       " 'analizo_npm_quantile_ninety_five',\n",
       " 'analizo_npm_quantile_upper',\n",
       " 'analizo_npm_skewness',\n",
       " 'analizo_npm_standard_deviation',\n",
       " 'analizo_npm_sum',\n",
       " 'analizo_npm_variance',\n",
       " 'analizo_rfc_kurtosis',\n",
       " 'analizo_rfc_mean',\n",
       " 'analizo_rfc_mode',\n",
       " 'analizo_rfc_quantile_lower',\n",
       " 'analizo_rfc_quantile_max',\n",
       " 'analizo_rfc_quantile_median',\n",
       " 'analizo_rfc_quantile_min',\n",
       " 'analizo_rfc_quantile_ninety_five',\n",
       " 'analizo_rfc_quantile_upper',\n",
       " 'analizo_rfc_skewness',\n",
       " 'analizo_rfc_standard_deviation',\n",
       " 'analizo_rfc_sum',\n",
       " 'analizo_rfc_variance',\n",
       " 'analizo_sc_kurtosis',\n",
       " 'analizo_sc_mean',\n",
       " 'analizo_sc_mode',\n",
       " 'analizo_sc_quantile_lower',\n",
       " 'analizo_sc_quantile_max',\n",
       " 'analizo_sc_quantile_median',\n",
       " 'analizo_sc_quantile_min',\n",
       " 'analizo_sc_quantile_ninety_five',\n",
       " 'analizo_sc_quantile_upper',\n",
       " 'analizo_sc_skewness',\n",
       " 'analizo_sc_standard_deviation',\n",
       " 'analizo_sc_sum',\n",
       " 'analizo_sc_variance',\n",
       " 'analizo_total_abstract_classes',\n",
       " 'analizo_total_cof',\n",
       " 'analizo_total_eloc',\n",
       " 'analizo_total_loc',\n",
       " 'analizo_total_methods_per_abstract_class',\n",
       " 'analizo_total_modules',\n",
       " 'analizo_total_modules_with_defined_attributes',\n",
       " 'analizo_total_modules_with_defined_methods',\n",
       " 'analizo_total_nom',\n",
       " 'binary_coach_name',\n",
       " 'binary_coach_number_lines',\n",
       " 'binary_coach_number_of_libraries',\n",
       " 'binary_coach_path',\n",
       " 'binary_player_name',\n",
       " 'binary_player_number_lines',\n",
       " 'binary_player_number_of_libraries',\n",
       " 'binary_player_path',\n",
       " 'competition',\n",
       " 'dir_to_zip',\n",
       " 'group_name',\n",
       " 'is_source',\n",
       " 'cccc_lines_of_code',\n",
       " 'cccc_lines_of_code_per_line_of_comment',\n",
       " 'cccc_lines_of_code_per_module',\n",
       " 'cccc_lines_of_comment',\n",
       " 'cccc_lines_of_comment_per_module',\n",
       " 'folder',\n",
       " 'new_dir_name',\n",
       " 'cccc_number_of_modules',\n",
       " 'player_fast_block_instructions_info_max',\n",
       " 'player_fast_block_instructions_info_min',\n",
       " 'player_fast_block_instructions_info_std',\n",
       " 'player_fast_block_instructions_info_sum',\n",
       " 'player_fast_blocks_sizes_info_max',\n",
       " 'player_fast_blocks_sizes_info_min',\n",
       " 'player_fast_blocks_sizes_info_std',\n",
       " 'player_fast_blocks_sizes_info_sum',\n",
       " 'player_fast_complex_mccabe',\n",
       " 'player_fast_number_of_CFG_nodes_that_return_a_value',\n",
       " 'player_fast_simple_mccabe',\n",
       " 'player_fast_system_calls_count',\n",
       " 'player_function_cc_radare2_max',\n",
       " 'player_function_cc_radare2_mean',\n",
       " 'player_function_cc_radare2_std',\n",
       " 'player_function_cc_radare2_sum',\n",
       " 'cccc_rejected_lines_of_code',\n",
       " 'source_lang',\n",
       " 'year',\n",
       " 'category',\n",
       " 'agent_type',\n",
       " 'type',\n",
       " 'Unnamed: 0']"
      ]
     },
     "execution_count": 36,
     "metadata": {},
     "output_type": "execute_result"
    }
   ],
   "source": [
    "df_robo_all.to_csv(\"data/data.csv\")\n",
    "list(df_robo_all)"
   ]
  },
  {
   "cell_type": "code",
   "execution_count": 37,
   "metadata": {},
   "outputs": [
    {
     "data": {
      "text/plain": [
       "category\n",
       "Anac                      443.0\n",
       "Audio                   15263.0\n",
       "Autodrivers               940.0\n",
       "Chess                    2260.0\n",
       "Education               14039.0\n",
       "Finance                 10400.0\n",
       "Games                    6763.0\n",
       "Graphics                23328.0\n",
       "Ide                     30718.0\n",
       "Mobile                   7239.0\n",
       "Robcup-Other-Leagues    14763.0\n",
       "Robo-Projects            1269.0\n",
       "Robocup-2D              13315.0\n",
       "Robot-Simulation         7820.0\n",
       "Security                20702.0\n",
       "Name: analizo_total_modules, dtype: float64"
      ]
     },
     "execution_count": 37,
     "metadata": {},
     "output_type": "execute_result"
    }
   ],
   "source": [
    "df_robo_all.groupby('category').sum()['analizo_total_modules']"
   ]
  },
  {
   "cell_type": "code",
   "execution_count": null,
   "metadata": {},
   "outputs": [],
   "source": []
  },
  {
   "cell_type": "code",
   "execution_count": null,
   "metadata": {},
   "outputs": [],
   "source": []
  },
  {
   "cell_type": "code",
   "execution_count": null,
   "metadata": {},
   "outputs": [],
   "source": []
  }
 ],
 "metadata": {
  "kernelspec": {
   "display_name": "Python 2",
   "language": "python",
   "name": "python2"
  },
  "language_info": {
   "codemirror_mode": {
    "name": "ipython",
    "version": 2
   },
   "file_extension": ".py",
   "mimetype": "text/x-python",
   "name": "python",
   "nbconvert_exporter": "python",
   "pygments_lexer": "ipython2",
   "version": "2.7.12"
  }
 },
 "nbformat": 4,
 "nbformat_minor": 2
}
